{
 "cells": [
  {
   "cell_type": "code",
   "execution_count": 1,
   "metadata": {},
   "outputs": [],
   "source": [
    "# Load dependencies\n",
    "\n",
    "import numpy as np\n",
    "import pandas as pd\n",
    "import matplotlib.pyplot as plt\n",
    "import os\n",
    "import seaborn as sns\n",
    "from pymongo import MongoClient\n",
    "from bokeh.io import show\n",
    "from bokeh.plotting import figure\n",
    "from bokeh.transform import cumsum\n",
    "from bokeh.palettes import Category20c\n",
    "from math import pi\n",
    "import plotly.express as px"
   ]
  },
  {
   "cell_type": "markdown",
   "metadata": {},
   "source": [
    "Import data:\n",
    "mongoimport --type csv -d SpotifyDataset -c SpotifySongs --headerline --drop project_3_clean.csv"
   ]
  },
  {
   "cell_type": "code",
   "execution_count": 2,
   "metadata": {},
   "outputs": [],
   "source": [
    "# Create an instance of MongoClient\n",
    "mongo = MongoClient(port=27017)"
   ]
  },
  {
   "cell_type": "code",
   "execution_count": 3,
   "metadata": {},
   "outputs": [
    {
     "name": "stdout",
     "output_type": "stream",
     "text": [
      "['admin', 'autosaurus', 'classDB', 'config', 'fruits_db', 'gardenDB', 'local', 'met', 'mydb', 'projectdb', 'spotifydatadb', 'spotifydb', 'travel_db', 'uk_food']\n"
     ]
    }
   ],
   "source": [
    "# confirm database was created\n",
    "print(mongo.list_database_names())"
   ]
  },
  {
   "cell_type": "code",
   "execution_count": 4,
   "metadata": {},
   "outputs": [],
   "source": [
    "# assign the database to a variable name\n",
    "spotify_db = mongo['projectdb']"
   ]
  },
  {
   "cell_type": "code",
   "execution_count": 7,
   "metadata": {},
   "outputs": [
    {
     "name": "stdout",
     "output_type": "stream",
     "text": [
      "['mycollection']\n"
     ]
    }
   ],
   "source": [
    "print(spotify_db.list_collection_names())"
   ]
  },
  {
   "cell_type": "code",
   "execution_count": 8,
   "metadata": {},
   "outputs": [
    {
     "name": "stdout",
     "output_type": "stream",
     "text": [
      "['mycollection']\n"
     ]
    }
   ],
   "source": [
    "# review the collections in our new database\n",
    "print(spotify_db.list_collection_names())"
   ]
  },
  {
   "cell_type": "code",
   "execution_count": 10,
   "metadata": {},
   "outputs": [
    {
     "name": "stdout",
     "output_type": "stream",
     "text": [
      "{'_id': ObjectId('6711b143e0b05b632a78cbb9'), 'artist': 'britney spears', 'song': 'oops!...i did it again', 'duration_ms': 211160, 'explicit': 'False', 'year': 2000, 'popularity': 77, 'danceability': 77.02564102564102, 'energy': 83.48348348348348, 'key': 1, 'loudness': -5.444, 'mode': 0, 'speechiness': 7.586805555555556, 'acousticness': 33.59462486002239, 'instrumentalness': 1.77e-05, 'liveness': 41.61781946072685, 'valence': 91.88078108941419, 'tempo': 95.053, 'genre': 'pop', 'duration_minutes': 3.519333333333333}\n"
     ]
    }
   ],
   "source": [
    "# review a document collection\n",
    "print(spotify_db.mycollection.find_one())"
   ]
  },
  {
   "cell_type": "code",
   "execution_count": 11,
   "metadata": {},
   "outputs": [],
   "source": [
    "# assign the collection to a variable\n",
    "songs = spotify_db['mycollection']"
   ]
  },
  {
   "cell_type": "code",
   "execution_count": 12,
   "metadata": {},
   "outputs": [
    {
     "data": {
      "text/plain": [
       "1838"
      ]
     },
     "execution_count": 12,
     "metadata": {},
     "output_type": "execute_result"
    }
   ],
   "source": [
    "# Display the number of documents \n",
    "songs.count_documents({})"
   ]
  },
  {
   "cell_type": "markdown",
   "metadata": {},
   "source": [
    "### Kimberly's Code: Top 10 Artists by Song Count & Top Artist's Song Popularity Percentages"
   ]
  },
  {
   "cell_type": "code",
   "execution_count": 13,
   "metadata": {},
   "outputs": [],
   "source": [
    "#Aggregate by artist\n",
    "artists = [\n",
    "    { \n",
    "        \"$group\": {\n",
    "            \"_id\": \"$artist\",  # Group by the artist field\n",
    "            \"count\": {\"$sum\": 1}  # Count the number of occurrences of each artist\n",
    "        }\n",
    "    },\n",
    "    { \n",
    "        \"$sort\": {\"count\": -1}  # Sort by count in descending order\n",
    "    },\n",
    "    { \n",
    "        \"$limit\": 10  # Limit the result to the top artist\n",
    "    }\n",
    "]\n",
    "results = list(songs.aggregate(artists))"
   ]
  },
  {
   "cell_type": "code",
   "execution_count": 14,
   "metadata": {},
   "outputs": [
    {
     "name": "stdout",
     "output_type": "stream",
     "text": [
      "Top 10 artists:\n",
      "1. rihanna with 22 songs.\n",
      "2. eminem with 21 songs.\n",
      "3. calvin harris with 20 songs.\n",
      "4. drake with 19 songs.\n",
      "5. david guetta with 18 songs.\n",
      "6. britney spears with 18 songs.\n",
      "7. katy perry with 16 songs.\n",
      "8. taylor swift with 16 songs.\n",
      "9. chris brown with 16 songs.\n",
      "10. kanye west with 16 songs.\n"
     ]
    }
   ],
   "source": [
    "# Output the top 10 artists with their counts\n",
    "print(\"Top 10 artists:\")\n",
    "top_artists = []\n",
    "for i, artist in enumerate(results, start=1):\n",
    "    print(f\"{i}. {artist['_id']} with {artist['count']} songs.\")\n",
    "    top_artists.append(artist['_id'])  # Store top artist names"
   ]
  },
  {
   "cell_type": "code",
   "execution_count": 15,
   "metadata": {},
   "outputs": [],
   "source": [
    "# Extract data for plotting\n",
    "artist_names = [artist['_id'] for artist in results]\n",
    "song_counts = [artist['count'] for artist in results]"
   ]
  },
  {
   "cell_type": "code",
   "execution_count": 16,
   "metadata": {},
   "outputs": [
    {
     "data": {
      "application/vnd.plotly.v1+json": {
       "config": {
        "plotlyServerURL": "https://plot.ly"
       },
       "data": [
        {
         "alignmentgroup": "True",
         "hovertemplate": "Artists=%{x}<br>Number of Songs=%{marker.color}<extra></extra>",
         "legendgroup": "",
         "marker": {
          "color": [
           22,
           21,
           20,
           19,
           18,
           18,
           16,
           16,
           16,
           16
          ],
          "coloraxis": "coloraxis",
          "pattern": {
           "shape": ""
          }
         },
         "name": "",
         "offsetgroup": "",
         "orientation": "v",
         "showlegend": false,
         "textposition": "auto",
         "type": "bar",
         "x": [
          "rihanna",
          "eminem",
          "calvin harris",
          "drake",
          "david guetta",
          "britney spears",
          "katy perry",
          "taylor swift",
          "chris brown",
          "kanye west"
         ],
         "xaxis": "x",
         "y": [
          22,
          21,
          20,
          19,
          18,
          18,
          16,
          16,
          16,
          16
         ],
         "yaxis": "y"
        }
       ],
       "layout": {
        "barmode": "relative",
        "coloraxis": {
         "colorbar": {
          "title": {
           "text": "Number of Songs"
          }
         },
         "colorscale": [
          [
           0,
           "rgb(247,252,245)"
          ],
          [
           0.125,
           "rgb(229,245,224)"
          ],
          [
           0.25,
           "rgb(199,233,192)"
          ],
          [
           0.375,
           "rgb(161,217,155)"
          ],
          [
           0.5,
           "rgb(116,196,118)"
          ],
          [
           0.625,
           "rgb(65,171,93)"
          ],
          [
           0.75,
           "rgb(35,139,69)"
          ],
          [
           0.875,
           "rgb(0,109,44)"
          ],
          [
           1,
           "rgb(0,68,27)"
          ]
         ]
        },
        "legend": {
         "tracegroupgap": 0
        },
        "template": {
         "data": {
          "bar": [
           {
            "error_x": {
             "color": "#2a3f5f"
            },
            "error_y": {
             "color": "#2a3f5f"
            },
            "marker": {
             "line": {
              "color": "#E5ECF6",
              "width": 0.5
             },
             "pattern": {
              "fillmode": "overlay",
              "size": 10,
              "solidity": 0.2
             }
            },
            "type": "bar"
           }
          ],
          "barpolar": [
           {
            "marker": {
             "line": {
              "color": "#E5ECF6",
              "width": 0.5
             },
             "pattern": {
              "fillmode": "overlay",
              "size": 10,
              "solidity": 0.2
             }
            },
            "type": "barpolar"
           }
          ],
          "carpet": [
           {
            "aaxis": {
             "endlinecolor": "#2a3f5f",
             "gridcolor": "white",
             "linecolor": "white",
             "minorgridcolor": "white",
             "startlinecolor": "#2a3f5f"
            },
            "baxis": {
             "endlinecolor": "#2a3f5f",
             "gridcolor": "white",
             "linecolor": "white",
             "minorgridcolor": "white",
             "startlinecolor": "#2a3f5f"
            },
            "type": "carpet"
           }
          ],
          "choropleth": [
           {
            "colorbar": {
             "outlinewidth": 0,
             "ticks": ""
            },
            "type": "choropleth"
           }
          ],
          "contour": [
           {
            "colorbar": {
             "outlinewidth": 0,
             "ticks": ""
            },
            "colorscale": [
             [
              0,
              "#0d0887"
             ],
             [
              0.1111111111111111,
              "#46039f"
             ],
             [
              0.2222222222222222,
              "#7201a8"
             ],
             [
              0.3333333333333333,
              "#9c179e"
             ],
             [
              0.4444444444444444,
              "#bd3786"
             ],
             [
              0.5555555555555556,
              "#d8576b"
             ],
             [
              0.6666666666666666,
              "#ed7953"
             ],
             [
              0.7777777777777778,
              "#fb9f3a"
             ],
             [
              0.8888888888888888,
              "#fdca26"
             ],
             [
              1,
              "#f0f921"
             ]
            ],
            "type": "contour"
           }
          ],
          "contourcarpet": [
           {
            "colorbar": {
             "outlinewidth": 0,
             "ticks": ""
            },
            "type": "contourcarpet"
           }
          ],
          "heatmap": [
           {
            "colorbar": {
             "outlinewidth": 0,
             "ticks": ""
            },
            "colorscale": [
             [
              0,
              "#0d0887"
             ],
             [
              0.1111111111111111,
              "#46039f"
             ],
             [
              0.2222222222222222,
              "#7201a8"
             ],
             [
              0.3333333333333333,
              "#9c179e"
             ],
             [
              0.4444444444444444,
              "#bd3786"
             ],
             [
              0.5555555555555556,
              "#d8576b"
             ],
             [
              0.6666666666666666,
              "#ed7953"
             ],
             [
              0.7777777777777778,
              "#fb9f3a"
             ],
             [
              0.8888888888888888,
              "#fdca26"
             ],
             [
              1,
              "#f0f921"
             ]
            ],
            "type": "heatmap"
           }
          ],
          "heatmapgl": [
           {
            "colorbar": {
             "outlinewidth": 0,
             "ticks": ""
            },
            "colorscale": [
             [
              0,
              "#0d0887"
             ],
             [
              0.1111111111111111,
              "#46039f"
             ],
             [
              0.2222222222222222,
              "#7201a8"
             ],
             [
              0.3333333333333333,
              "#9c179e"
             ],
             [
              0.4444444444444444,
              "#bd3786"
             ],
             [
              0.5555555555555556,
              "#d8576b"
             ],
             [
              0.6666666666666666,
              "#ed7953"
             ],
             [
              0.7777777777777778,
              "#fb9f3a"
             ],
             [
              0.8888888888888888,
              "#fdca26"
             ],
             [
              1,
              "#f0f921"
             ]
            ],
            "type": "heatmapgl"
           }
          ],
          "histogram": [
           {
            "marker": {
             "pattern": {
              "fillmode": "overlay",
              "size": 10,
              "solidity": 0.2
             }
            },
            "type": "histogram"
           }
          ],
          "histogram2d": [
           {
            "colorbar": {
             "outlinewidth": 0,
             "ticks": ""
            },
            "colorscale": [
             [
              0,
              "#0d0887"
             ],
             [
              0.1111111111111111,
              "#46039f"
             ],
             [
              0.2222222222222222,
              "#7201a8"
             ],
             [
              0.3333333333333333,
              "#9c179e"
             ],
             [
              0.4444444444444444,
              "#bd3786"
             ],
             [
              0.5555555555555556,
              "#d8576b"
             ],
             [
              0.6666666666666666,
              "#ed7953"
             ],
             [
              0.7777777777777778,
              "#fb9f3a"
             ],
             [
              0.8888888888888888,
              "#fdca26"
             ],
             [
              1,
              "#f0f921"
             ]
            ],
            "type": "histogram2d"
           }
          ],
          "histogram2dcontour": [
           {
            "colorbar": {
             "outlinewidth": 0,
             "ticks": ""
            },
            "colorscale": [
             [
              0,
              "#0d0887"
             ],
             [
              0.1111111111111111,
              "#46039f"
             ],
             [
              0.2222222222222222,
              "#7201a8"
             ],
             [
              0.3333333333333333,
              "#9c179e"
             ],
             [
              0.4444444444444444,
              "#bd3786"
             ],
             [
              0.5555555555555556,
              "#d8576b"
             ],
             [
              0.6666666666666666,
              "#ed7953"
             ],
             [
              0.7777777777777778,
              "#fb9f3a"
             ],
             [
              0.8888888888888888,
              "#fdca26"
             ],
             [
              1,
              "#f0f921"
             ]
            ],
            "type": "histogram2dcontour"
           }
          ],
          "mesh3d": [
           {
            "colorbar": {
             "outlinewidth": 0,
             "ticks": ""
            },
            "type": "mesh3d"
           }
          ],
          "parcoords": [
           {
            "line": {
             "colorbar": {
              "outlinewidth": 0,
              "ticks": ""
             }
            },
            "type": "parcoords"
           }
          ],
          "pie": [
           {
            "automargin": true,
            "type": "pie"
           }
          ],
          "scatter": [
           {
            "fillpattern": {
             "fillmode": "overlay",
             "size": 10,
             "solidity": 0.2
            },
            "type": "scatter"
           }
          ],
          "scatter3d": [
           {
            "line": {
             "colorbar": {
              "outlinewidth": 0,
              "ticks": ""
             }
            },
            "marker": {
             "colorbar": {
              "outlinewidth": 0,
              "ticks": ""
             }
            },
            "type": "scatter3d"
           }
          ],
          "scattercarpet": [
           {
            "marker": {
             "colorbar": {
              "outlinewidth": 0,
              "ticks": ""
             }
            },
            "type": "scattercarpet"
           }
          ],
          "scattergeo": [
           {
            "marker": {
             "colorbar": {
              "outlinewidth": 0,
              "ticks": ""
             }
            },
            "type": "scattergeo"
           }
          ],
          "scattergl": [
           {
            "marker": {
             "colorbar": {
              "outlinewidth": 0,
              "ticks": ""
             }
            },
            "type": "scattergl"
           }
          ],
          "scattermapbox": [
           {
            "marker": {
             "colorbar": {
              "outlinewidth": 0,
              "ticks": ""
             }
            },
            "type": "scattermapbox"
           }
          ],
          "scatterpolar": [
           {
            "marker": {
             "colorbar": {
              "outlinewidth": 0,
              "ticks": ""
             }
            },
            "type": "scatterpolar"
           }
          ],
          "scatterpolargl": [
           {
            "marker": {
             "colorbar": {
              "outlinewidth": 0,
              "ticks": ""
             }
            },
            "type": "scatterpolargl"
           }
          ],
          "scatterternary": [
           {
            "marker": {
             "colorbar": {
              "outlinewidth": 0,
              "ticks": ""
             }
            },
            "type": "scatterternary"
           }
          ],
          "surface": [
           {
            "colorbar": {
             "outlinewidth": 0,
             "ticks": ""
            },
            "colorscale": [
             [
              0,
              "#0d0887"
             ],
             [
              0.1111111111111111,
              "#46039f"
             ],
             [
              0.2222222222222222,
              "#7201a8"
             ],
             [
              0.3333333333333333,
              "#9c179e"
             ],
             [
              0.4444444444444444,
              "#bd3786"
             ],
             [
              0.5555555555555556,
              "#d8576b"
             ],
             [
              0.6666666666666666,
              "#ed7953"
             ],
             [
              0.7777777777777778,
              "#fb9f3a"
             ],
             [
              0.8888888888888888,
              "#fdca26"
             ],
             [
              1,
              "#f0f921"
             ]
            ],
            "type": "surface"
           }
          ],
          "table": [
           {
            "cells": {
             "fill": {
              "color": "#EBF0F8"
             },
             "line": {
              "color": "white"
             }
            },
            "header": {
             "fill": {
              "color": "#C8D4E3"
             },
             "line": {
              "color": "white"
             }
            },
            "type": "table"
           }
          ]
         },
         "layout": {
          "annotationdefaults": {
           "arrowcolor": "#2a3f5f",
           "arrowhead": 0,
           "arrowwidth": 1
          },
          "autotypenumbers": "strict",
          "coloraxis": {
           "colorbar": {
            "outlinewidth": 0,
            "ticks": ""
           }
          },
          "colorscale": {
           "diverging": [
            [
             0,
             "#8e0152"
            ],
            [
             0.1,
             "#c51b7d"
            ],
            [
             0.2,
             "#de77ae"
            ],
            [
             0.3,
             "#f1b6da"
            ],
            [
             0.4,
             "#fde0ef"
            ],
            [
             0.5,
             "#f7f7f7"
            ],
            [
             0.6,
             "#e6f5d0"
            ],
            [
             0.7,
             "#b8e186"
            ],
            [
             0.8,
             "#7fbc41"
            ],
            [
             0.9,
             "#4d9221"
            ],
            [
             1,
             "#276419"
            ]
           ],
           "sequential": [
            [
             0,
             "#0d0887"
            ],
            [
             0.1111111111111111,
             "#46039f"
            ],
            [
             0.2222222222222222,
             "#7201a8"
            ],
            [
             0.3333333333333333,
             "#9c179e"
            ],
            [
             0.4444444444444444,
             "#bd3786"
            ],
            [
             0.5555555555555556,
             "#d8576b"
            ],
            [
             0.6666666666666666,
             "#ed7953"
            ],
            [
             0.7777777777777778,
             "#fb9f3a"
            ],
            [
             0.8888888888888888,
             "#fdca26"
            ],
            [
             1,
             "#f0f921"
            ]
           ],
           "sequentialminus": [
            [
             0,
             "#0d0887"
            ],
            [
             0.1111111111111111,
             "#46039f"
            ],
            [
             0.2222222222222222,
             "#7201a8"
            ],
            [
             0.3333333333333333,
             "#9c179e"
            ],
            [
             0.4444444444444444,
             "#bd3786"
            ],
            [
             0.5555555555555556,
             "#d8576b"
            ],
            [
             0.6666666666666666,
             "#ed7953"
            ],
            [
             0.7777777777777778,
             "#fb9f3a"
            ],
            [
             0.8888888888888888,
             "#fdca26"
            ],
            [
             1,
             "#f0f921"
            ]
           ]
          },
          "colorway": [
           "#636efa",
           "#EF553B",
           "#00cc96",
           "#ab63fa",
           "#FFA15A",
           "#19d3f3",
           "#FF6692",
           "#B6E880",
           "#FF97FF",
           "#FECB52"
          ],
          "font": {
           "color": "#2a3f5f"
          },
          "geo": {
           "bgcolor": "white",
           "lakecolor": "white",
           "landcolor": "#E5ECF6",
           "showlakes": true,
           "showland": true,
           "subunitcolor": "white"
          },
          "hoverlabel": {
           "align": "left"
          },
          "hovermode": "closest",
          "mapbox": {
           "style": "light"
          },
          "paper_bgcolor": "white",
          "plot_bgcolor": "#E5ECF6",
          "polar": {
           "angularaxis": {
            "gridcolor": "white",
            "linecolor": "white",
            "ticks": ""
           },
           "bgcolor": "#E5ECF6",
           "radialaxis": {
            "gridcolor": "white",
            "linecolor": "white",
            "ticks": ""
           }
          },
          "scene": {
           "xaxis": {
            "backgroundcolor": "#E5ECF6",
            "gridcolor": "white",
            "gridwidth": 2,
            "linecolor": "white",
            "showbackground": true,
            "ticks": "",
            "zerolinecolor": "white"
           },
           "yaxis": {
            "backgroundcolor": "#E5ECF6",
            "gridcolor": "white",
            "gridwidth": 2,
            "linecolor": "white",
            "showbackground": true,
            "ticks": "",
            "zerolinecolor": "white"
           },
           "zaxis": {
            "backgroundcolor": "#E5ECF6",
            "gridcolor": "white",
            "gridwidth": 2,
            "linecolor": "white",
            "showbackground": true,
            "ticks": "",
            "zerolinecolor": "white"
           }
          },
          "shapedefaults": {
           "line": {
            "color": "#2a3f5f"
           }
          },
          "ternary": {
           "aaxis": {
            "gridcolor": "white",
            "linecolor": "white",
            "ticks": ""
           },
           "baxis": {
            "gridcolor": "white",
            "linecolor": "white",
            "ticks": ""
           },
           "bgcolor": "#E5ECF6",
           "caxis": {
            "gridcolor": "white",
            "linecolor": "white",
            "ticks": ""
           }
          },
          "title": {
           "x": 0.05
          },
          "xaxis": {
           "automargin": true,
           "gridcolor": "white",
           "linecolor": "white",
           "ticks": "",
           "title": {
            "standoff": 15
           },
           "zerolinecolor": "white",
           "zerolinewidth": 2
          },
          "yaxis": {
           "automargin": true,
           "gridcolor": "white",
           "linecolor": "white",
           "ticks": "",
           "title": {
            "standoff": 15
           },
           "zerolinecolor": "white",
           "zerolinewidth": 2
          }
         }
        },
        "title": {
         "text": "Top 10 Artists by Number of Songs"
        },
        "xaxis": {
         "anchor": "y",
         "domain": [
          0,
          1
         ],
         "tickangle": 0,
         "title": {
          "text": "Artists"
         }
        },
        "yaxis": {
         "anchor": "x",
         "domain": [
          0,
          1
         ],
         "title": {
          "text": "Number of Songs"
         }
        }
       }
      }
     },
     "metadata": {},
     "output_type": "display_data"
    }
   ],
   "source": [
    "# Create a DataFrame for the data\n",
    "data = {\n",
    "    'Artists': artist_names,\n",
    "    'Number of Songs': song_counts\n",
    "}\n",
    "\n",
    "# Convert to DataFrame\n",
    "df = pd.DataFrame(data)\n",
    "\n",
    "# Create the bar plot using Plotly Express\n",
    "top_artist_plot = px.bar(df, x= 'Artists', y= 'Number of Songs', \n",
    "             title='Top 10 Artists by Number of Songs',\n",
    "             labels={'Artists': 'Artists', 'Number of Songs': 'Number of Songs'},\n",
    "             color='Number of Songs',  # Color by the number of songs\n",
    "             color_continuous_scale=px.colors.sequential.Greens)  # Color scale\n",
    "\n",
    "# Show the plot\n",
    "top_artist_plot.update_layout(xaxis_tickangle=0)  \n",
    "top_artist_plot.show()"
   ]
  },
  {
   "cell_type": "code",
   "execution_count": 17,
   "metadata": {},
   "outputs": [],
   "source": [
    "# Save the interactive visualization as an HTML file\n",
    "top_artist_plot.write_html('Top_10_Artists_by_Number_of_Songs.html')"
   ]
  },
  {
   "cell_type": "code",
   "execution_count": 18,
   "metadata": {},
   "outputs": [],
   "source": [
    "#Aggregate by popularity\n",
    "artist_popularity = [\n",
    "    { \n",
    "        \"$group\": {\n",
    "            \"_id\": \"$artist\",  # Group by the artist field\n",
    "            \"count\": { \"$sum\": 1 },  # Count the number of occurrences of each artist\n",
    "            \"total_popularity\": { \"$sum\": \"$popularity\" },  # Sum the popularity score for each artist\n",
    "            \"average_popularity\": { \"$avg\": \"$popularity\" }  # Calculate the average popularity percentage\n",
    "        }\n",
    "    },\n",
    "    { \n",
    "        \"$sort\": { \"count\": -1 }  # Sort by count in descending order\n",
    "    },\n",
    "    { \n",
    "        \"$limit\": 10  # Limit the result to the top 10 artists\n",
    "    }\n",
    "]\n",
    "\n",
    "# Run the aggregation query\n",
    "popularity_results = list(songs.aggregate(artist_popularity))"
   ]
  },
  {
   "cell_type": "code",
   "execution_count": 19,
   "metadata": {},
   "outputs": [
    {
     "name": "stdout",
     "output_type": "stream",
     "text": [
      "Top 10 artists with average popularity percentage:\n",
      "1. rihanna: 22 songs - Average Popularity: 72.09%\n",
      "2. eminem: 21 songs - Average Popularity: 72.33%\n",
      "3. calvin harris: 20 songs - Average Popularity: 67.80%\n",
      "4. drake: 19 songs - Average Popularity: 63.79%\n",
      "5. britney spears: 18 songs - Average Popularity: 63.06%\n",
      "6. david guetta: 18 songs - Average Popularity: 65.83%\n",
      "7. taylor swift: 16 songs - Average Popularity: 70.31%\n",
      "8. kanye west: 16 songs - Average Popularity: 61.44%\n",
      "9. katy perry: 16 songs - Average Popularity: 64.56%\n",
      "10. chris brown: 16 songs - Average Popularity: 63.25%\n"
     ]
    }
   ],
   "source": [
    "# Output the top 10 artists with their counts and average popularity percentage\n",
    "print(\"Top 10 artists with average popularity percentage:\")\n",
    "for i, artist in enumerate(popularity_results, start=1):\n",
    "    print(f\"{i}. {artist['_id']}: {artist['count']} songs - Average Popularity: {artist['average_popularity']:.2f}%\")"
   ]
  },
  {
   "cell_type": "code",
   "execution_count": 20,
   "metadata": {},
   "outputs": [
    {
     "data": {
      "application/vnd.plotly.v1+json": {
       "config": {
        "plotlyServerURL": "https://plot.ly"
       },
       "data": [
        {
         "customdata": [
          [
           22
          ],
          [
           21
          ],
          [
           20
          ],
          [
           19
          ],
          [
           18
          ],
          [
           18
          ],
          [
           16
          ],
          [
           16
          ],
          [
           16
          ],
          [
           16
          ]
         ],
         "hovertemplate": "Artist=%{x}<br>Average Popularity (%)=%{marker.color}<br>Number of Songs=%{customdata[0]}<extra></extra>",
         "legendgroup": "",
         "marker": {
          "color": [
           72.0909090909091,
           72.33333333333333,
           67.8,
           63.78947368421053,
           63.05555555555556,
           65.83333333333333,
           70.3125,
           61.4375,
           64.5625,
           63.25
          ],
          "coloraxis": "coloraxis",
          "size": [
           72.0909090909091,
           72.33333333333333,
           67.8,
           63.78947368421053,
           63.05555555555556,
           65.83333333333333,
           70.3125,
           61.4375,
           64.5625,
           63.25
          ],
          "sizemode": "area",
          "sizeref": 0.18083333333333332,
          "symbol": "circle"
         },
         "mode": "markers",
         "name": "",
         "orientation": "v",
         "showlegend": false,
         "type": "scatter",
         "x": [
          "rihanna",
          "eminem",
          "calvin harris",
          "drake",
          "britney spears",
          "david guetta",
          "taylor swift",
          "kanye west",
          "katy perry",
          "chris brown"
         ],
         "xaxis": "x",
         "y": [
          72.0909090909091,
          72.33333333333333,
          67.8,
          63.78947368421053,
          63.05555555555556,
          65.83333333333333,
          70.3125,
          61.4375,
          64.5625,
          63.25
         ],
         "yaxis": "y"
        }
       ],
       "layout": {
        "coloraxis": {
         "colorbar": {
          "title": {
           "text": "Average Popularity (%)"
          }
         },
         "colorscale": [
          [
           0,
           "rgb(247,252,245)"
          ],
          [
           0.125,
           "rgb(229,245,224)"
          ],
          [
           0.25,
           "rgb(199,233,192)"
          ],
          [
           0.375,
           "rgb(161,217,155)"
          ],
          [
           0.5,
           "rgb(116,196,118)"
          ],
          [
           0.625,
           "rgb(65,171,93)"
          ],
          [
           0.75,
           "rgb(35,139,69)"
          ],
          [
           0.875,
           "rgb(0,109,44)"
          ],
          [
           1,
           "rgb(0,68,27)"
          ]
         ]
        },
        "legend": {
         "itemsizing": "constant",
         "tracegroupgap": 0
        },
        "template": {
         "data": {
          "bar": [
           {
            "error_x": {
             "color": "#2a3f5f"
            },
            "error_y": {
             "color": "#2a3f5f"
            },
            "marker": {
             "line": {
              "color": "#E5ECF6",
              "width": 0.5
             },
             "pattern": {
              "fillmode": "overlay",
              "size": 10,
              "solidity": 0.2
             }
            },
            "type": "bar"
           }
          ],
          "barpolar": [
           {
            "marker": {
             "line": {
              "color": "#E5ECF6",
              "width": 0.5
             },
             "pattern": {
              "fillmode": "overlay",
              "size": 10,
              "solidity": 0.2
             }
            },
            "type": "barpolar"
           }
          ],
          "carpet": [
           {
            "aaxis": {
             "endlinecolor": "#2a3f5f",
             "gridcolor": "white",
             "linecolor": "white",
             "minorgridcolor": "white",
             "startlinecolor": "#2a3f5f"
            },
            "baxis": {
             "endlinecolor": "#2a3f5f",
             "gridcolor": "white",
             "linecolor": "white",
             "minorgridcolor": "white",
             "startlinecolor": "#2a3f5f"
            },
            "type": "carpet"
           }
          ],
          "choropleth": [
           {
            "colorbar": {
             "outlinewidth": 0,
             "ticks": ""
            },
            "type": "choropleth"
           }
          ],
          "contour": [
           {
            "colorbar": {
             "outlinewidth": 0,
             "ticks": ""
            },
            "colorscale": [
             [
              0,
              "#0d0887"
             ],
             [
              0.1111111111111111,
              "#46039f"
             ],
             [
              0.2222222222222222,
              "#7201a8"
             ],
             [
              0.3333333333333333,
              "#9c179e"
             ],
             [
              0.4444444444444444,
              "#bd3786"
             ],
             [
              0.5555555555555556,
              "#d8576b"
             ],
             [
              0.6666666666666666,
              "#ed7953"
             ],
             [
              0.7777777777777778,
              "#fb9f3a"
             ],
             [
              0.8888888888888888,
              "#fdca26"
             ],
             [
              1,
              "#f0f921"
             ]
            ],
            "type": "contour"
           }
          ],
          "contourcarpet": [
           {
            "colorbar": {
             "outlinewidth": 0,
             "ticks": ""
            },
            "type": "contourcarpet"
           }
          ],
          "heatmap": [
           {
            "colorbar": {
             "outlinewidth": 0,
             "ticks": ""
            },
            "colorscale": [
             [
              0,
              "#0d0887"
             ],
             [
              0.1111111111111111,
              "#46039f"
             ],
             [
              0.2222222222222222,
              "#7201a8"
             ],
             [
              0.3333333333333333,
              "#9c179e"
             ],
             [
              0.4444444444444444,
              "#bd3786"
             ],
             [
              0.5555555555555556,
              "#d8576b"
             ],
             [
              0.6666666666666666,
              "#ed7953"
             ],
             [
              0.7777777777777778,
              "#fb9f3a"
             ],
             [
              0.8888888888888888,
              "#fdca26"
             ],
             [
              1,
              "#f0f921"
             ]
            ],
            "type": "heatmap"
           }
          ],
          "heatmapgl": [
           {
            "colorbar": {
             "outlinewidth": 0,
             "ticks": ""
            },
            "colorscale": [
             [
              0,
              "#0d0887"
             ],
             [
              0.1111111111111111,
              "#46039f"
             ],
             [
              0.2222222222222222,
              "#7201a8"
             ],
             [
              0.3333333333333333,
              "#9c179e"
             ],
             [
              0.4444444444444444,
              "#bd3786"
             ],
             [
              0.5555555555555556,
              "#d8576b"
             ],
             [
              0.6666666666666666,
              "#ed7953"
             ],
             [
              0.7777777777777778,
              "#fb9f3a"
             ],
             [
              0.8888888888888888,
              "#fdca26"
             ],
             [
              1,
              "#f0f921"
             ]
            ],
            "type": "heatmapgl"
           }
          ],
          "histogram": [
           {
            "marker": {
             "pattern": {
              "fillmode": "overlay",
              "size": 10,
              "solidity": 0.2
             }
            },
            "type": "histogram"
           }
          ],
          "histogram2d": [
           {
            "colorbar": {
             "outlinewidth": 0,
             "ticks": ""
            },
            "colorscale": [
             [
              0,
              "#0d0887"
             ],
             [
              0.1111111111111111,
              "#46039f"
             ],
             [
              0.2222222222222222,
              "#7201a8"
             ],
             [
              0.3333333333333333,
              "#9c179e"
             ],
             [
              0.4444444444444444,
              "#bd3786"
             ],
             [
              0.5555555555555556,
              "#d8576b"
             ],
             [
              0.6666666666666666,
              "#ed7953"
             ],
             [
              0.7777777777777778,
              "#fb9f3a"
             ],
             [
              0.8888888888888888,
              "#fdca26"
             ],
             [
              1,
              "#f0f921"
             ]
            ],
            "type": "histogram2d"
           }
          ],
          "histogram2dcontour": [
           {
            "colorbar": {
             "outlinewidth": 0,
             "ticks": ""
            },
            "colorscale": [
             [
              0,
              "#0d0887"
             ],
             [
              0.1111111111111111,
              "#46039f"
             ],
             [
              0.2222222222222222,
              "#7201a8"
             ],
             [
              0.3333333333333333,
              "#9c179e"
             ],
             [
              0.4444444444444444,
              "#bd3786"
             ],
             [
              0.5555555555555556,
              "#d8576b"
             ],
             [
              0.6666666666666666,
              "#ed7953"
             ],
             [
              0.7777777777777778,
              "#fb9f3a"
             ],
             [
              0.8888888888888888,
              "#fdca26"
             ],
             [
              1,
              "#f0f921"
             ]
            ],
            "type": "histogram2dcontour"
           }
          ],
          "mesh3d": [
           {
            "colorbar": {
             "outlinewidth": 0,
             "ticks": ""
            },
            "type": "mesh3d"
           }
          ],
          "parcoords": [
           {
            "line": {
             "colorbar": {
              "outlinewidth": 0,
              "ticks": ""
             }
            },
            "type": "parcoords"
           }
          ],
          "pie": [
           {
            "automargin": true,
            "type": "pie"
           }
          ],
          "scatter": [
           {
            "fillpattern": {
             "fillmode": "overlay",
             "size": 10,
             "solidity": 0.2
            },
            "type": "scatter"
           }
          ],
          "scatter3d": [
           {
            "line": {
             "colorbar": {
              "outlinewidth": 0,
              "ticks": ""
             }
            },
            "marker": {
             "colorbar": {
              "outlinewidth": 0,
              "ticks": ""
             }
            },
            "type": "scatter3d"
           }
          ],
          "scattercarpet": [
           {
            "marker": {
             "colorbar": {
              "outlinewidth": 0,
              "ticks": ""
             }
            },
            "type": "scattercarpet"
           }
          ],
          "scattergeo": [
           {
            "marker": {
             "colorbar": {
              "outlinewidth": 0,
              "ticks": ""
             }
            },
            "type": "scattergeo"
           }
          ],
          "scattergl": [
           {
            "marker": {
             "colorbar": {
              "outlinewidth": 0,
              "ticks": ""
             }
            },
            "type": "scattergl"
           }
          ],
          "scattermapbox": [
           {
            "marker": {
             "colorbar": {
              "outlinewidth": 0,
              "ticks": ""
             }
            },
            "type": "scattermapbox"
           }
          ],
          "scatterpolar": [
           {
            "marker": {
             "colorbar": {
              "outlinewidth": 0,
              "ticks": ""
             }
            },
            "type": "scatterpolar"
           }
          ],
          "scatterpolargl": [
           {
            "marker": {
             "colorbar": {
              "outlinewidth": 0,
              "ticks": ""
             }
            },
            "type": "scatterpolargl"
           }
          ],
          "scatterternary": [
           {
            "marker": {
             "colorbar": {
              "outlinewidth": 0,
              "ticks": ""
             }
            },
            "type": "scatterternary"
           }
          ],
          "surface": [
           {
            "colorbar": {
             "outlinewidth": 0,
             "ticks": ""
            },
            "colorscale": [
             [
              0,
              "#0d0887"
             ],
             [
              0.1111111111111111,
              "#46039f"
             ],
             [
              0.2222222222222222,
              "#7201a8"
             ],
             [
              0.3333333333333333,
              "#9c179e"
             ],
             [
              0.4444444444444444,
              "#bd3786"
             ],
             [
              0.5555555555555556,
              "#d8576b"
             ],
             [
              0.6666666666666666,
              "#ed7953"
             ],
             [
              0.7777777777777778,
              "#fb9f3a"
             ],
             [
              0.8888888888888888,
              "#fdca26"
             ],
             [
              1,
              "#f0f921"
             ]
            ],
            "type": "surface"
           }
          ],
          "table": [
           {
            "cells": {
             "fill": {
              "color": "#EBF0F8"
             },
             "line": {
              "color": "white"
             }
            },
            "header": {
             "fill": {
              "color": "#C8D4E3"
             },
             "line": {
              "color": "white"
             }
            },
            "type": "table"
           }
          ]
         },
         "layout": {
          "annotationdefaults": {
           "arrowcolor": "#2a3f5f",
           "arrowhead": 0,
           "arrowwidth": 1
          },
          "autotypenumbers": "strict",
          "coloraxis": {
           "colorbar": {
            "outlinewidth": 0,
            "ticks": ""
           }
          },
          "colorscale": {
           "diverging": [
            [
             0,
             "#8e0152"
            ],
            [
             0.1,
             "#c51b7d"
            ],
            [
             0.2,
             "#de77ae"
            ],
            [
             0.3,
             "#f1b6da"
            ],
            [
             0.4,
             "#fde0ef"
            ],
            [
             0.5,
             "#f7f7f7"
            ],
            [
             0.6,
             "#e6f5d0"
            ],
            [
             0.7,
             "#b8e186"
            ],
            [
             0.8,
             "#7fbc41"
            ],
            [
             0.9,
             "#4d9221"
            ],
            [
             1,
             "#276419"
            ]
           ],
           "sequential": [
            [
             0,
             "#0d0887"
            ],
            [
             0.1111111111111111,
             "#46039f"
            ],
            [
             0.2222222222222222,
             "#7201a8"
            ],
            [
             0.3333333333333333,
             "#9c179e"
            ],
            [
             0.4444444444444444,
             "#bd3786"
            ],
            [
             0.5555555555555556,
             "#d8576b"
            ],
            [
             0.6666666666666666,
             "#ed7953"
            ],
            [
             0.7777777777777778,
             "#fb9f3a"
            ],
            [
             0.8888888888888888,
             "#fdca26"
            ],
            [
             1,
             "#f0f921"
            ]
           ],
           "sequentialminus": [
            [
             0,
             "#0d0887"
            ],
            [
             0.1111111111111111,
             "#46039f"
            ],
            [
             0.2222222222222222,
             "#7201a8"
            ],
            [
             0.3333333333333333,
             "#9c179e"
            ],
            [
             0.4444444444444444,
             "#bd3786"
            ],
            [
             0.5555555555555556,
             "#d8576b"
            ],
            [
             0.6666666666666666,
             "#ed7953"
            ],
            [
             0.7777777777777778,
             "#fb9f3a"
            ],
            [
             0.8888888888888888,
             "#fdca26"
            ],
            [
             1,
             "#f0f921"
            ]
           ]
          },
          "colorway": [
           "#636efa",
           "#EF553B",
           "#00cc96",
           "#ab63fa",
           "#FFA15A",
           "#19d3f3",
           "#FF6692",
           "#B6E880",
           "#FF97FF",
           "#FECB52"
          ],
          "font": {
           "color": "#2a3f5f"
          },
          "geo": {
           "bgcolor": "white",
           "lakecolor": "white",
           "landcolor": "#E5ECF6",
           "showlakes": true,
           "showland": true,
           "subunitcolor": "white"
          },
          "hoverlabel": {
           "align": "left"
          },
          "hovermode": "closest",
          "mapbox": {
           "style": "light"
          },
          "paper_bgcolor": "white",
          "plot_bgcolor": "#E5ECF6",
          "polar": {
           "angularaxis": {
            "gridcolor": "white",
            "linecolor": "white",
            "ticks": ""
           },
           "bgcolor": "#E5ECF6",
           "radialaxis": {
            "gridcolor": "white",
            "linecolor": "white",
            "ticks": ""
           }
          },
          "scene": {
           "xaxis": {
            "backgroundcolor": "#E5ECF6",
            "gridcolor": "white",
            "gridwidth": 2,
            "linecolor": "white",
            "showbackground": true,
            "ticks": "",
            "zerolinecolor": "white"
           },
           "yaxis": {
            "backgroundcolor": "#E5ECF6",
            "gridcolor": "white",
            "gridwidth": 2,
            "linecolor": "white",
            "showbackground": true,
            "ticks": "",
            "zerolinecolor": "white"
           },
           "zaxis": {
            "backgroundcolor": "#E5ECF6",
            "gridcolor": "white",
            "gridwidth": 2,
            "linecolor": "white",
            "showbackground": true,
            "ticks": "",
            "zerolinecolor": "white"
           }
          },
          "shapedefaults": {
           "line": {
            "color": "#2a3f5f"
           }
          },
          "ternary": {
           "aaxis": {
            "gridcolor": "white",
            "linecolor": "white",
            "ticks": ""
           },
           "baxis": {
            "gridcolor": "white",
            "linecolor": "white",
            "ticks": ""
           },
           "bgcolor": "#E5ECF6",
           "caxis": {
            "gridcolor": "white",
            "linecolor": "white",
            "ticks": ""
           }
          },
          "title": {
           "x": 0.05
          },
          "xaxis": {
           "automargin": true,
           "gridcolor": "white",
           "linecolor": "white",
           "ticks": "",
           "title": {
            "standoff": 15
           },
           "zerolinecolor": "white",
           "zerolinewidth": 2
          },
          "yaxis": {
           "automargin": true,
           "gridcolor": "white",
           "linecolor": "white",
           "ticks": "",
           "title": {
            "standoff": 15
           },
           "zerolinecolor": "white",
           "zerolinewidth": 2
          }
         }
        },
        "title": {
         "text": "Top 10 Artists by Number of Songs and Average Popularity"
        },
        "xaxis": {
         "anchor": "y",
         "domain": [
          0,
          1
         ],
         "title": {
          "text": "Artist"
         }
        },
        "yaxis": {
         "anchor": "x",
         "domain": [
          0,
          1
         ],
         "title": {
          "text": "Average Popularity (%)"
         }
        }
       }
      }
     },
     "metadata": {},
     "output_type": "display_data"
    }
   ],
   "source": [
    "# Convert to DataFrame\n",
    "popularity_df = pd.DataFrame(popularity_results)\n",
    "\n",
    "# Rename columns for clarity\n",
    "popularity_df = popularity_df.rename(columns={\n",
    "    '_id': 'Artist', \n",
    "    'count': 'Song Count', \n",
    "    'average_popularity': 'Average Popularity'\n",
    "})\n",
    "\n",
    "# Keep only the relevant columns\n",
    "popularity_df = popularity_df[['Artist', 'Song Count', 'Average Popularity']]\n",
    "\n",
    "# Create a new column for hover text\n",
    "popularity_df['Hover Text'] = popularity_df['Song Count'].astype(str) + \" songs\"\n",
    "\n",
    "# Create the bubble chart\n",
    "popularity_plot = px.scatter(popularity_df, x='Artist', y='Average Popularity', \n",
    "                    size='Average Popularity',  # Bubble size based on Popularity count *************!!!!!!!!!! PLEASE REVIEW THIS !!!!!!!!!!!!!!!******************\n",
    "                    color='Average Popularity',  # Color by average popularity\n",
    "                    hover_data={'Song Count'},  # Include custom hover text\n",
    "                    title='Top 10 Artists by Number of Songs and Average Popularity',\n",
    "                    labels={'Song Count': 'Number of Songs', 'Average Popularity': 'Average Popularity (%)'},\n",
    "                    color_continuous_scale=px.colors.sequential.Greens)  # Color scale\n",
    "\n",
    "# Show the plot\n",
    "popularity_plot.show()"
   ]
  },
  {
   "cell_type": "code",
   "execution_count": 21,
   "metadata": {},
   "outputs": [],
   "source": [
    "# Save the interactive visualization as an HTML file\n",
    "popularity_plot.write_html('Top_10_Artists_by_Number_of_Songs_and_Popularity.html')"
   ]
  },
  {
   "cell_type": "markdown",
   "metadata": {},
   "source": [
    "### Dylan's Code: Comparing Danceability vs. Energy of the Top Artist's Songs"
   ]
  },
  {
   "cell_type": "code",
   "execution_count": 32,
   "metadata": {},
   "outputs": [],
   "source": [
    "selected_artists = [\n",
    "    \"rihanna\",  # Replace with actual artist names\n",
    "    \"eminem\",\n",
    "    \"calvin harris\",\n",
    "    \"drake\",\n",
    "    \"britney spears\",\n",
    "    \"david guetta\",\n",
    "    \"taylor swift\",\n",
    "    \"kanye west\",\n",
    "    \"katy perry\",\n",
    "    \"chris brown\"\n",
    "]"
   ]
  },
  {
   "cell_type": "code",
   "execution_count": 34,
   "metadata": {},
   "outputs": [],
   "source": [
    "results = list(songs.aggregate([\n",
    "    {\n",
    "        '$match': {\n",
    "            'artist': {'$in': selected_artists}  # Match the selected artists\n",
    "        }\n",
    "    },\n",
    "    {\n",
    "        '$group': {\n",
    "            '_id': '$artist',\n",
    "            'average_danceability': {'$avg': '$danceability'},\n",
    "            'average_energy': {'$avg': '$energy'}\n",
    "        }\n",
    "    }\n",
    "]))"
   ]
  },
  {
   "cell_type": "code",
   "execution_count": 35,
   "metadata": {},
   "outputs": [],
   "source": [
    "artists = [result['_id'] for result in results]\n",
    "average_danceability = [result['average_danceability'] for result in results]\n",
    "average_energy = [result['average_energy'] for result in results]"
   ]
  },
  {
   "cell_type": "code",
   "execution_count": 38,
   "metadata": {},
   "outputs": [
    {
     "data": {
      "image/png": "[encoded data removed]",
      "text/plain": [
       "<Figure size 1000x600 with 1 Axes>"
      ]
     },
     "metadata": {},
     "output_type": "display_data"
    }
   ],
   "source": [
    "plt.figure(figsize=(10, 6))\n",
    "plt.scatter(average_danceability, average_energy, s=100)  # s is the size of the points\n",
    "\n",
    "# Annotate points with artist names\n",
    "for i, artist in enumerate(artists):\n",
    "    plt.annotate(artist, (average_danceability[i], average_energy[i]), fontsize=9)\n",
    "\n",
    "# Labels and title\n",
    "plt.title('Average Danceability vs Energy of Selected Artists')\n",
    "plt.xlabel('Average Danceability')\n",
    "plt.ylabel('Average Energy')\n",
    "plt.grid()\n",
    "\n",
    "# Show plot\n",
    "plt.tight_layout()\n",
    "plt.show()"
   ]
  },
  {
   "cell_type": "code",
   "execution_count": 37,
   "metadata": {},
   "outputs": [
    {
     "data": {
      "image/png": "[encoded data removed]",
      "text/plain": [
       "<Figure size 1200x600 with 1 Axes>"
      ]
     },
     "metadata": {},
     "output_type": "display_data"
    }
   ],
   "source": [
    "plt.figure(figsize=(12, 6))\n",
    "bar_width = 0.35\n",
    "index = range(len(artists))\n",
    "\n",
    "# Create bar charts for danceability and energy\n",
    "plt.bar(index, average_danceability, bar_width, label='Average Danceability', alpha=0.7)\n",
    "plt.bar([i + bar_width for i in index], average_energy, bar_width, label='Average Energy', alpha=0.7)\n",
    "\n",
    "# Labels and title\n",
    "plt.title('Average Danceability and Energy of Top 10 Artists')\n",
    "plt.xlabel('Artists')\n",
    "plt.ylabel('Average Value')\n",
    "plt.xticks([i + bar_width / 2 for i in index], artists, rotation=45)\n",
    "plt.legend()\n",
    "plt.grid(axis='y')\n",
    "\n",
    "# Show plot\n",
    "plt.tight_layout()\n",
    "plt.show()"
   ]
  },
  {
   "cell_type": "code",
   "execution_count": 22,
   "metadata": {},
   "outputs": [],
   "source": [
    "# Define the fields for the x and y axes\n",
    "x_field = 'danceability' \n",
    "y_field = 'energy'  "
   ]
  },
  {
   "cell_type": "code",
   "execution_count": 23,
   "metadata": {},
   "outputs": [],
   "source": [
    "# Fetch data from the songs collection\n",
    "data = list(songs.find({}, {x_field: 1, y_field: 1}))"
   ]
  },
  {
   "cell_type": "code",
   "execution_count": 24,
   "metadata": {},
   "outputs": [],
   "source": [
    "# Extract x and y values\n",
    "x_values = [item[x_field] for item in data]\n",
    "y_values = [item[y_field] for item in data]"
   ]
  },
  {
   "cell_type": "code",
   "execution_count": 25,
   "metadata": {},
   "outputs": [
    {
     "data": {
      "image/png": "[encoded data removed]",
      "text/plain": [
       "<Figure size 1000x600 with 1 Axes>"
      ]
     },
     "metadata": {},
     "output_type": "display_data"
    }
   ],
   "source": [
    "# Create the scatter plot\n",
    "plt.figure(figsize=(10, 6))\n",
    "plt.scatter(x_values, y_values, color='blue', alpha=0.5)\n",
    "plt.title('Danceability vs Energy')\n",
    "plt.xlabel('Danceability %')\n",
    "plt.ylabel('Energy %')\n",
    "plt.grid(True)\n",
    "\n",
    "# Show the plot\n",
    "plt.show()"
   ]
  },
  {
   "cell_type": "code",
   "execution_count": 40,
   "metadata": {},
   "outputs": [
    {
     "data": {
      "text/html": [
       "    <style>\n",
       "        .bk-notebook-logo {\n",
       "            display: block;\n",
       "            width: 20px;\n",
       "            height: 20px;\n",
       "            background-image: url(data:image/png;base64,iVBORw0KGgoAAAANSUhEUgAAABQAAAAUCAYAAACNiR0NAAAABHNCSVQICAgIfAhkiAAAAAlwSFlzAAALEgAACxIB0t1+/AAAABx0RVh0U29mdHdhcmUAQWRvYmUgRmlyZXdvcmtzIENTNui8sowAAAOkSURBVDiNjZRtaJVlGMd/1/08zzln5zjP1LWcU9N0NkN8m2CYjpgQYQXqSs0I84OLIC0hkEKoPtiH3gmKoiJDU7QpLgoLjLIQCpEsNJ1vqUOdO7ppbuec5+V+rj4ctwzd8IIbbi6u+8f1539dt3A78eXC7QizUF7gyV1fD1Yqg4JWz84yffhm0qkFqBogB9rM8tZdtwVsPUhWhGcFJngGeWrPzHm5oaMmkfEg1usvLFyc8jLRqDOMru7AyC8saQr7GG7f5fvDeH7Ej8CM66nIF+8yngt6HWaKh7k49Soy9nXurCi1o3qUbS3zWfrYeQDTB/Qj6kX6Ybhw4B+bOYoLKCC9H3Nu/leUTZ1JdRWkkn2ldcCamzrcf47KKXdAJllSlxAOkRgyHsGC/zRday5Qld9DyoM4/q/rUoy/CXh3jzOu3bHUVZeU+DEn8FInkPBFlu3+nW3Nw0mk6vCDiWg8CeJaxEwuHS3+z5RgY+YBR6V1Z1nxSOfoaPa4LASWxxdNp+VWTk7+4vzaou8v8PN+xo+KY2xsw6une2frhw05CTYOmQvsEhjhWjn0bmXPjpE1+kplmmkP3suftwTubK9Vq22qKmrBhpY4jvd5afdRA3wGjFAgcnTK2s4hY0/GPNIb0nErGMCRxWOOX64Z8RAC4oCXdklmEvcL8o0BfkNK4lUg9HTl+oPlQxdNo3Mg4Nv175e/1LDGzZen30MEjRUtmXSfiTVu1kK8W4txyV6BMKlbgk3lMwYCiusNy9fVfvvwMxv8Ynl6vxoByANLTWplvuj/nF9m2+PDtt1eiHPBr1oIfhCChQMBw6Aw0UulqTKZdfVvfG7VcfIqLG9bcldL/+pdWTLxLUy8Qq38heUIjh4XlzZxzQm19lLFlr8vdQ97rjZVOLf8nclzckbcD4wxXMidpX30sFd37Fv/GtwwhzhxGVAprjbg0gCAEeIgwCZyTV2Z1REEW8O4py0wsjeloKoMr6iCY6dP92H6Vw/oTyICIthibxjm/DfN9lVz8IqtqKYLUXfoKVMVQVVJOElGjrnnUt9T9wbgp8AyYKaGlqingHZU/uG2NTZSVqwHQTWkx9hxjkpWDaCg6Ckj5qebgBVbT3V3NNXMSiWSDdGV3hrtzla7J+duwPOToIg42ChPQOQjspnSlp1V+Gjdged7+8UN5CRAV7a5EdFNwCjEaBR27b3W890TE7g24NAP/mMDXRWrGoFPQI9ls/MWO2dWFAar/xcOIImbbpA3zgAAAABJRU5ErkJggg==);\n",
       "        }\n",
       "    </style>\n",
       "    <div>\n",
       "        <a href=\"https://bokeh.org\" target=\"_blank\" class=\"bk-notebook-logo\"></a>\n",
       "        <span id=\"d4fea4aa-1106-4397-b60e-05d6bfb9a231\">Loading BokehJS ...</span>\n",
       "    </div>\n"
      ]
     },
     "metadata": {},
     "output_type": "display_data"
    },
    {
     "data": {
      "application/javascript": "'use strict';\n(function(root) {\n  function now() {\n    return new Date();\n  }\n\n  const force = true;\n\n  if (typeof root._bokeh_onload_callbacks === \"undefined\" || force === true) {\n    root._bokeh_onload_callbacks = [];\n    root._bokeh_is_loading = undefined;\n  }\n\nconst JS_MIME_TYPE = 'application/javascript';\n  const HTML_MIME_TYPE = 'text/html';\n  const EXEC_MIME_TYPE = 'application/vnd.bokehjs_exec.v0+json';\n  const CLASS_NAME = 'output_bokeh rendered_html';\n\n  /**\n   * Render data to the DOM node\n   */\n  function render(props, node) {\n    const script = document.createElement(\"script\");\n    node.appendChild(script);\n  }\n\n  /**\n   * Handle when an output is cleared or removed\n   */\n  function handleClearOutput(event, handle) {\n    function drop(id) {\n      const view = Bokeh.index.get_by_id(id)\n      if (view != null) {\n        view.model.document.clear()\n        Bokeh.index.delete(view)\n      }\n    }\n\n    const cell = handle.cell;\n\n    const id = cell.output_area._bokeh_element_id;\n    const server_id = cell.output_area._bokeh_server_id;\n\n    // Clean up Bokeh references\n    if (id != null) {\n      drop(id)\n    }\n\n    if (server_id !== undefined) {\n      // Clean up Bokeh references\n      const cmd_clean = \"from bokeh.io.state import curstate; print(curstate().uuid_to_server['\" + server_id + \"'].get_sessions()[0].document.roots[0]._id)\";\n      cell.notebook.kernel.execute(cmd_clean, {\n        iopub: {\n          output: function(msg) {\n            const id = msg.content.text.trim()\n            drop(id)\n          }\n        }\n      });\n      // Destroy server and session\n      const cmd_destroy = \"import bokeh.io.notebook as ion; ion.destroy_server('\" + server_id + \"')\";\n      cell.notebook.kernel.execute(cmd_destroy);\n    }\n  }\n\n  /**\n   * Handle when a new output is added\n   */\n  function handleAddOutput(event, handle) {\n    const output_area = handle.output_area;\n    const output = handle.output;\n\n    // limit handleAddOutput to display_data with EXEC_MIME_TYPE content only\n    if ((output.output_type != \"display_data\") || (!Object.prototype.hasOwnProperty.call(output.data, EXEC_MIME_TYPE))) {\n      return\n    }\n\n    const toinsert = output_area.element.find(\".\" + CLASS_NAME.split(' ')[0]);\n\n    if (output.metadata[EXEC_MIME_TYPE][\"id\"] !== undefined) {\n      toinsert[toinsert.length - 1].firstChild.textContent = output.data[JS_MIME_TYPE];\n      // store reference to embed id on output_area\n      output_area._bokeh_element_id = output.metadata[EXEC_MIME_TYPE][\"id\"];\n    }\n    if (output.metadata[EXEC_MIME_TYPE][\"server_id\"] !== undefined) {\n      const bk_div = document.createElement(\"div\");\n      bk_div.innerHTML = output.data[HTML_MIME_TYPE];\n      const script_attrs = bk_div.children[0].attributes;\n      for (let i = 0; i < script_attrs.length; i++) {\n        toinsert[toinsert.length - 1].firstChild.setAttribute(script_attrs[i].name, script_attrs[i].value);\n        toinsert[toinsert.length - 1].firstChild.textContent = bk_div.children[0].textContent\n      }\n      // store reference to server id on output_area\n      output_area._bokeh_server_id = output.metadata[EXEC_MIME_TYPE][\"server_id\"];\n    }\n  }\n\n  function register_renderer(events, OutputArea) {\n\n    function append_mime(data, metadata, element) {\n      // create a DOM node to render to\n      const toinsert = this.create_output_subarea(\n        metadata,\n        CLASS_NAME,\n        EXEC_MIME_TYPE\n      );\n      this.keyboard_manager.register_events(toinsert);\n      // Render to node\n      const props = {data: data, metadata: metadata[EXEC_MIME_TYPE]};\n      render(props, toinsert[toinsert.length - 1]);\n      element.append(toinsert);\n      return toinsert\n    }\n\n    /* Handle when an output is cleared or removed */\n    events.on('clear_output.CodeCell', handleClearOutput);\n    events.on('delete.Cell', handleClearOutput);\n\n    /* Handle when a new output is added */\n    events.on('output_added.OutputArea', handleAddOutput);\n\n    /**\n     * Register the mime type and append_mime function with output_area\n     */\n    OutputArea.prototype.register_mime_type(EXEC_MIME_TYPE, append_mime, {\n      /* Is output safe? */\n      safe: true,\n      /* Index of renderer in `output_area.display_order` */\n      index: 0\n    });\n  }\n\n  // register the mime type if in Jupyter Notebook environment and previously unregistered\n  if (root.Jupyter !== undefined) {\n    const events = require('base/js/events');\n    const OutputArea = require('notebook/js/outputarea').OutputArea;\n\n    if (OutputArea.prototype.mime_types().indexOf(EXEC_MIME_TYPE) == -1) {\n      register_renderer(events, OutputArea);\n    }\n  }\n  if (typeof (root._bokeh_timeout) === \"undefined\" || force === true) {\n    root._bokeh_timeout = Date.now() + 5000;\n    root._bokeh_failed_load = false;\n  }\n\n  const NB_LOAD_WARNING = {'data': {'text/html':\n     \"<div style='background-color: #fdd'>\\n\"+\n     \"<p>\\n\"+\n     \"BokehJS does not appear to have successfully loaded. If loading BokehJS from CDN, this \\n\"+\n     \"may be due to a slow or bad network connection. Possible fixes:\\n\"+\n     \"</p>\\n\"+\n     \"<ul>\\n\"+\n     \"<li>re-rerun `output_notebook()` to attempt to load from CDN again, or</li>\\n\"+\n     \"<li>use INLINE resources instead, as so:</li>\\n\"+\n     \"</ul>\\n\"+\n     \"<code>\\n\"+\n     \"from bokeh.resources import INLINE\\n\"+\n     \"output_notebook(resources=INLINE)\\n\"+\n     \"</code>\\n\"+\n     \"</div>\"}};\n\n  function display_loaded(error = null) {\n    const el = document.getElementById(\"d4fea4aa-1106-4397-b60e-05d6bfb9a231\");\n    if (el != null) {\n      const html = (() => {\n        if (typeof root.Bokeh === \"undefined\") {\n          if (error == null) {\n            return \"BokehJS is loading ...\";\n          } else {\n            return \"BokehJS failed to load.\";\n          }\n        } else {\n          const prefix = `BokehJS ${root.Bokeh.version}`;\n          if (error == null) {\n            return `${prefix} successfully loaded.`;\n          } else {\n            return `${prefix} <b>encountered errors</b> while loading and may not function as expected.`;\n          }\n        }\n      })();\n      el.innerHTML = html;\n\n      if (error != null) {\n        const wrapper = document.createElement(\"div\");\n        wrapper.style.overflow = \"auto\";\n        wrapper.style.height = \"5em\";\n        wrapper.style.resize = \"vertical\";\n        const content = document.createElement(\"div\");\n        content.style.fontFamily = \"monospace\";\n        content.style.whiteSpace = \"pre-wrap\";\n        content.style.backgroundColor = \"rgb(255, 221, 221)\";\n        content.textContent = error.stack ?? error.toString();\n        wrapper.append(content);\n        el.append(wrapper);\n      }\n    } else if (Date.now() < root._bokeh_timeout) {\n      setTimeout(() => display_loaded(error), 100);\n    }\n  }\n\n  function run_callbacks() {\n    try {\n      root._bokeh_onload_callbacks.forEach(function(callback) {\n        if (callback != null)\n          callback();\n      });\n    } finally {\n      delete root._bokeh_onload_callbacks\n    }\n    console.debug(\"Bokeh: all callbacks have finished\");\n  }\n\n  function load_libs(css_urls, js_urls, callback) {\n    if (css_urls == null) css_urls = [];\n    if (js_urls == null) js_urls = [];\n\n    root._bokeh_onload_callbacks.push(callback);\n    if (root._bokeh_is_loading > 0) {\n      console.debug(\"Bokeh: BokehJS is being loaded, scheduling callback at\", now());\n      return null;\n    }\n    if (js_urls == null || js_urls.length === 0) {\n      run_callbacks();\n      return null;\n    }\n    console.debug(\"Bokeh: BokehJS not loaded, scheduling load and callback at\", now());\n    root._bokeh_is_loading = css_urls.length + js_urls.length;\n\n    function on_load() {\n      root._bokeh_is_loading--;\n      if (root._bokeh_is_loading === 0) {\n        console.debug(\"Bokeh: all BokehJS libraries/stylesheets loaded\");\n        run_callbacks()\n      }\n    }\n\n    function on_error(url) {\n      console.error(\"failed to load \" + url);\n    }\n\n    for (let i = 0; i < css_urls.length; i++) {\n      const url = css_urls[i];\n      const element = document.createElement(\"link\");\n      element.onload = on_load;\n      element.onerror = on_error.bind(null, url);\n      element.rel = \"stylesheet\";\n      element.type = \"text/css\";\n      element.href = url;\n      console.debug(\"Bokeh: injecting link tag for BokehJS stylesheet: \", url);\n      document.body.appendChild(element);\n    }\n\n    for (let i = 0; i < js_urls.length; i++) {\n      const url = js_urls[i];\n      const element = document.createElement('script');\n      element.onload = on_load;\n      element.onerror = on_error.bind(null, url);\n      element.async = false;\n      element.src = url;\n      console.debug(\"Bokeh: injecting script tag for BokehJS library: \", url);\n      document.head.appendChild(element);\n    }\n  };\n\n  function inject_raw_css(css) {\n    const element = document.createElement(\"style\");\n    element.appendChild(document.createTextNode(css));\n    document.body.appendChild(element);\n  }\n\n  const js_urls = [\"https://cdn.bokeh.org/bokeh/release/bokeh-3.4.1.min.js\", \"https://cdn.bokeh.org/bokeh/release/bokeh-gl-3.4.1.min.js\", \"https://cdn.bokeh.org/bokeh/release/bokeh-widgets-3.4.1.min.js\", \"https://cdn.bokeh.org/bokeh/release/bokeh-tables-3.4.1.min.js\", \"https://cdn.bokeh.org/bokeh/release/bokeh-mathjax-3.4.1.min.js\"];\n  const css_urls = [];\n\n  const inline_js = [    function(Bokeh) {\n      Bokeh.set_log_level(\"info\");\n    },\nfunction(Bokeh) {\n    }\n  ];\n\n  function run_inline_js() {\n    if (root.Bokeh !== undefined || force === true) {\n      try {\n            for (let i = 0; i < inline_js.length; i++) {\n      inline_js[i].call(root, root.Bokeh);\n    }\n\n      } catch (error) {display_loaded(error);throw error;\n      }if (force === true) {\n        display_loaded();\n      }} else if (Date.now() < root._bokeh_timeout) {\n      setTimeout(run_inline_js, 100);\n    } else if (!root._bokeh_failed_load) {\n      console.log(\"Bokeh: BokehJS failed to load within specified timeout.\");\n      root._bokeh_failed_load = true;\n    } else if (force !== true) {\n      const cell = $(document.getElementById(\"d4fea4aa-1106-4397-b60e-05d6bfb9a231\")).parents('.cell').data().cell;\n      cell.output_area.append_execute_result(NB_LOAD_WARNING)\n    }\n  }\n\n  if (root._bokeh_is_loading === 0) {\n    console.debug(\"Bokeh: BokehJS loaded, going straight to plotting\");\n    run_inline_js();\n  } else {\n    load_libs(css_urls, js_urls, function() {\n      console.debug(\"Bokeh: BokehJS plotting callback run at\", now());\n      run_inline_js();\n    });\n  }\n}(window));",
      "application/vnd.bokehjs_load.v0+json": ""
     },
     "metadata": {},
     "output_type": "display_data"
    }
   ],
   "source": [
    "from bokeh.plotting import output_notebook\n",
    "output_notebook()"
   ]
  },
  {
   "cell_type": "code",
   "execution_count": 23,
   "metadata": {},
   "outputs": [],
   "source": [
    "#Aggregate genre counts\n",
    "genre_counts = list(songs.aggregate([\n",
    "    {\"$group\": {\"_id\": \"$genre\", \"count\": {\"$sum\": 1}}},  # Group by genre and count\n",
    "    {\"$project\": {\"genre\": \"$_id\", \"count\": 1}}  # Reshape the output\n",
    "]))"
   ]
  },
  {
   "cell_type": "code",
   "execution_count": 24,
   "metadata": {},
   "outputs": [],
   "source": [
    "#Convert DF \n",
    "genre_counts_df = pd.DataFrame(genre_counts)"
   ]
  },
  {
   "cell_type": "code",
   "execution_count": 25,
   "metadata": {},
   "outputs": [],
   "source": [
    "#Prepare data for Bokeh\n",
    "genre_counts_df['angle'] = genre_counts_df['count'] / genre_counts_df['count'].sum() * 2 * pi\n",
    "genre_counts_df['color'] = Category20c[len(genre_counts_df)]"
   ]
  },
  {
   "cell_type": "code",
   "execution_count": 26,
   "metadata": {},
   "outputs": [
    {
     "data": {
      "text/html": [
       "    <style>\n",
       "        .bk-notebook-logo {\n",
       "            display: block;\n",
       "            width: 20px;\n",
       "            height: 20px;\n",
       "            background-image: url(data:image/png;base64,iVBORw0KGgoAAAANSUhEUgAAABQAAAAUCAYAAACNiR0NAAAABHNCSVQICAgIfAhkiAAAAAlwSFlzAAALEgAACxIB0t1+/AAAABx0RVh0U29mdHdhcmUAQWRvYmUgRmlyZXdvcmtzIENTNui8sowAAAOkSURBVDiNjZRtaJVlGMd/1/08zzln5zjP1LWcU9N0NkN8m2CYjpgQYQXqSs0I84OLIC0hkEKoPtiH3gmKoiJDU7QpLgoLjLIQCpEsNJ1vqUOdO7ppbuec5+V+rj4ctwzd8IIbbi6u+8f1539dt3A78eXC7QizUF7gyV1fD1Yqg4JWz84yffhm0qkFqBogB9rM8tZdtwVsPUhWhGcFJngGeWrPzHm5oaMmkfEg1usvLFyc8jLRqDOMru7AyC8saQr7GG7f5fvDeH7Ej8CM66nIF+8yngt6HWaKh7k49Soy9nXurCi1o3qUbS3zWfrYeQDTB/Qj6kX6Ybhw4B+bOYoLKCC9H3Nu/leUTZ1JdRWkkn2ldcCamzrcf47KKXdAJllSlxAOkRgyHsGC/zRday5Qld9DyoM4/q/rUoy/CXh3jzOu3bHUVZeU+DEn8FInkPBFlu3+nW3Nw0mk6vCDiWg8CeJaxEwuHS3+z5RgY+YBR6V1Z1nxSOfoaPa4LASWxxdNp+VWTk7+4vzaou8v8PN+xo+KY2xsw6une2frhw05CTYOmQvsEhjhWjn0bmXPjpE1+kplmmkP3suftwTubK9Vq22qKmrBhpY4jvd5afdRA3wGjFAgcnTK2s4hY0/GPNIb0nErGMCRxWOOX64Z8RAC4oCXdklmEvcL8o0BfkNK4lUg9HTl+oPlQxdNo3Mg4Nv175e/1LDGzZen30MEjRUtmXSfiTVu1kK8W4txyV6BMKlbgk3lMwYCiusNy9fVfvvwMxv8Ynl6vxoByANLTWplvuj/nF9m2+PDtt1eiHPBr1oIfhCChQMBw6Aw0UulqTKZdfVvfG7VcfIqLG9bcldL/+pdWTLxLUy8Qq38heUIjh4XlzZxzQm19lLFlr8vdQ97rjZVOLf8nclzckbcD4wxXMidpX30sFd37Fv/GtwwhzhxGVAprjbg0gCAEeIgwCZyTV2Z1REEW8O4py0wsjeloKoMr6iCY6dP92H6Vw/oTyICIthibxjm/DfN9lVz8IqtqKYLUXfoKVMVQVVJOElGjrnnUt9T9wbgp8AyYKaGlqingHZU/uG2NTZSVqwHQTWkx9hxjkpWDaCg6Ckj5qebgBVbT3V3NNXMSiWSDdGV3hrtzla7J+duwPOToIg42ChPQOQjspnSlp1V+Gjdged7+8UN5CRAV7a5EdFNwCjEaBR27b3W890TE7g24NAP/mMDXRWrGoFPQI9ls/MWO2dWFAar/xcOIImbbpA3zgAAAABJRU5ErkJggg==);\n",
       "        }\n",
       "    </style>\n",
       "    <div>\n",
       "        <a href=\"https://bokeh.org\" target=\"_blank\" class=\"bk-notebook-logo\"></a>\n",
       "        <span id=\"bcd13c31-35de-4edc-8739-4536edb00280\">Loading BokehJS ...</span>\n",
       "    </div>\n"
      ]
     },
     "metadata": {},
     "output_type": "display_data"
    },
    {
     "data": {
      "application/javascript": "'use strict';\n(function(root) {\n  function now() {\n    return new Date();\n  }\n\n  const force = true;\n\n  if (typeof root._bokeh_onload_callbacks === \"undefined\" || force === true) {\n    root._bokeh_onload_callbacks = [];\n    root._bokeh_is_loading = undefined;\n  }\n\nconst JS_MIME_TYPE = 'application/javascript';\n  const HTML_MIME_TYPE = 'text/html';\n  const EXEC_MIME_TYPE = 'application/vnd.bokehjs_exec.v0+json';\n  const CLASS_NAME = 'output_bokeh rendered_html';\n\n  /**\n   * Render data to the DOM node\n   */\n  function render(props, node) {\n    const script = document.createElement(\"script\");\n    node.appendChild(script);\n  }\n\n  /**\n   * Handle when an output is cleared or removed\n   */\n  function handleClearOutput(event, handle) {\n    function drop(id) {\n      const view = Bokeh.index.get_by_id(id)\n      if (view != null) {\n        view.model.document.clear()\n        Bokeh.index.delete(view)\n      }\n    }\n\n    const cell = handle.cell;\n\n    const id = cell.output_area._bokeh_element_id;\n    const server_id = cell.output_area._bokeh_server_id;\n\n    // Clean up Bokeh references\n    if (id != null) {\n      drop(id)\n    }\n\n    if (server_id !== undefined) {\n      // Clean up Bokeh references\n      const cmd_clean = \"from bokeh.io.state import curstate; print(curstate().uuid_to_server['\" + server_id + \"'].get_sessions()[0].document.roots[0]._id)\";\n      cell.notebook.kernel.execute(cmd_clean, {\n        iopub: {\n          output: function(msg) {\n            const id = msg.content.text.trim()\n            drop(id)\n          }\n        }\n      });\n      // Destroy server and session\n      const cmd_destroy = \"import bokeh.io.notebook as ion; ion.destroy_server('\" + server_id + \"')\";\n      cell.notebook.kernel.execute(cmd_destroy);\n    }\n  }\n\n  /**\n   * Handle when a new output is added\n   */\n  function handleAddOutput(event, handle) {\n    const output_area = handle.output_area;\n    const output = handle.output;\n\n    // limit handleAddOutput to display_data with EXEC_MIME_TYPE content only\n    if ((output.output_type != \"display_data\") || (!Object.prototype.hasOwnProperty.call(output.data, EXEC_MIME_TYPE))) {\n      return\n    }\n\n    const toinsert = output_area.element.find(\".\" + CLASS_NAME.split(' ')[0]);\n\n    if (output.metadata[EXEC_MIME_TYPE][\"id\"] !== undefined) {\n      toinsert[toinsert.length - 1].firstChild.textContent = output.data[JS_MIME_TYPE];\n      // store reference to embed id on output_area\n      output_area._bokeh_element_id = output.metadata[EXEC_MIME_TYPE][\"id\"];\n    }\n    if (output.metadata[EXEC_MIME_TYPE][\"server_id\"] !== undefined) {\n      const bk_div = document.createElement(\"div\");\n      bk_div.innerHTML = output.data[HTML_MIME_TYPE];\n      const script_attrs = bk_div.children[0].attributes;\n      for (let i = 0; i < script_attrs.length; i++) {\n        toinsert[toinsert.length - 1].firstChild.setAttribute(script_attrs[i].name, script_attrs[i].value);\n        toinsert[toinsert.length - 1].firstChild.textContent = bk_div.children[0].textContent\n      }\n      // store reference to server id on output_area\n      output_area._bokeh_server_id = output.metadata[EXEC_MIME_TYPE][\"server_id\"];\n    }\n  }\n\n  function register_renderer(events, OutputArea) {\n\n    function append_mime(data, metadata, element) {\n      // create a DOM node to render to\n      const toinsert = this.create_output_subarea(\n        metadata,\n        CLASS_NAME,\n        EXEC_MIME_TYPE\n      );\n      this.keyboard_manager.register_events(toinsert);\n      // Render to node\n      const props = {data: data, metadata: metadata[EXEC_MIME_TYPE]};\n      render(props, toinsert[toinsert.length - 1]);\n      element.append(toinsert);\n      return toinsert\n    }\n\n    /* Handle when an output is cleared or removed */\n    events.on('clear_output.CodeCell', handleClearOutput);\n    events.on('delete.Cell', handleClearOutput);\n\n    /* Handle when a new output is added */\n    events.on('output_added.OutputArea', handleAddOutput);\n\n    /**\n     * Register the mime type and append_mime function with output_area\n     */\n    OutputArea.prototype.register_mime_type(EXEC_MIME_TYPE, append_mime, {\n      /* Is output safe? */\n      safe: true,\n      /* Index of renderer in `output_area.display_order` */\n      index: 0\n    });\n  }\n\n  // register the mime type if in Jupyter Notebook environment and previously unregistered\n  if (root.Jupyter !== undefined) {\n    const events = require('base/js/events');\n    const OutputArea = require('notebook/js/outputarea').OutputArea;\n\n    if (OutputArea.prototype.mime_types().indexOf(EXEC_MIME_TYPE) == -1) {\n      register_renderer(events, OutputArea);\n    }\n  }\n  if (typeof (root._bokeh_timeout) === \"undefined\" || force === true) {\n    root._bokeh_timeout = Date.now() + 5000;\n    root._bokeh_failed_load = false;\n  }\n\n  const NB_LOAD_WARNING = {'data': {'text/html':\n     \"<div style='background-color: #fdd'>\\n\"+\n     \"<p>\\n\"+\n     \"BokehJS does not appear to have successfully loaded. If loading BokehJS from CDN, this \\n\"+\n     \"may be due to a slow or bad network connection. Possible fixes:\\n\"+\n     \"</p>\\n\"+\n     \"<ul>\\n\"+\n     \"<li>re-rerun `output_notebook()` to attempt to load from CDN again, or</li>\\n\"+\n     \"<li>use INLINE resources instead, as so:</li>\\n\"+\n     \"</ul>\\n\"+\n     \"<code>\\n\"+\n     \"from bokeh.resources import INLINE\\n\"+\n     \"output_notebook(resources=INLINE)\\n\"+\n     \"</code>\\n\"+\n     \"</div>\"}};\n\n  function display_loaded(error = null) {\n    const el = document.getElementById(\"bcd13c31-35de-4edc-8739-4536edb00280\");\n    if (el != null) {\n      const html = (() => {\n        if (typeof root.Bokeh === \"undefined\") {\n          if (error == null) {\n            return \"BokehJS is loading ...\";\n          } else {\n            return \"BokehJS failed to load.\";\n          }\n        } else {\n          const prefix = `BokehJS ${root.Bokeh.version}`;\n          if (error == null) {\n            return `${prefix} successfully loaded.`;\n          } else {\n            return `${prefix} <b>encountered errors</b> while loading and may not function as expected.`;\n          }\n        }\n      })();\n      el.innerHTML = html;\n\n      if (error != null) {\n        const wrapper = document.createElement(\"div\");\n        wrapper.style.overflow = \"auto\";\n        wrapper.style.height = \"5em\";\n        wrapper.style.resize = \"vertical\";\n        const content = document.createElement(\"div\");\n        content.style.fontFamily = \"monospace\";\n        content.style.whiteSpace = \"pre-wrap\";\n        content.style.backgroundColor = \"rgb(255, 221, 221)\";\n        content.textContent = error.stack ?? error.toString();\n        wrapper.append(content);\n        el.append(wrapper);\n      }\n    } else if (Date.now() < root._bokeh_timeout) {\n      setTimeout(() => display_loaded(error), 100);\n    }\n  }\n\n  function run_callbacks() {\n    try {\n      root._bokeh_onload_callbacks.forEach(function(callback) {\n        if (callback != null)\n          callback();\n      });\n    } finally {\n      delete root._bokeh_onload_callbacks\n    }\n    console.debug(\"Bokeh: all callbacks have finished\");\n  }\n\n  function load_libs(css_urls, js_urls, callback) {\n    if (css_urls == null) css_urls = [];\n    if (js_urls == null) js_urls = [];\n\n    root._bokeh_onload_callbacks.push(callback);\n    if (root._bokeh_is_loading > 0) {\n      console.debug(\"Bokeh: BokehJS is being loaded, scheduling callback at\", now());\n      return null;\n    }\n    if (js_urls == null || js_urls.length === 0) {\n      run_callbacks();\n      return null;\n    }\n    console.debug(\"Bokeh: BokehJS not loaded, scheduling load and callback at\", now());\n    root._bokeh_is_loading = css_urls.length + js_urls.length;\n\n    function on_load() {\n      root._bokeh_is_loading--;\n      if (root._bokeh_is_loading === 0) {\n        console.debug(\"Bokeh: all BokehJS libraries/stylesheets loaded\");\n        run_callbacks()\n      }\n    }\n\n    function on_error(url) {\n      console.error(\"failed to load \" + url);\n    }\n\n    for (let i = 0; i < css_urls.length; i++) {\n      const url = css_urls[i];\n      const element = document.createElement(\"link\");\n      element.onload = on_load;\n      element.onerror = on_error.bind(null, url);\n      element.rel = \"stylesheet\";\n      element.type = \"text/css\";\n      element.href = url;\n      console.debug(\"Bokeh: injecting link tag for BokehJS stylesheet: \", url);\n      document.body.appendChild(element);\n    }\n\n    for (let i = 0; i < js_urls.length; i++) {\n      const url = js_urls[i];\n      const element = document.createElement('script');\n      element.onload = on_load;\n      element.onerror = on_error.bind(null, url);\n      element.async = false;\n      element.src = url;\n      console.debug(\"Bokeh: injecting script tag for BokehJS library: \", url);\n      document.head.appendChild(element);\n    }\n  };\n\n  function inject_raw_css(css) {\n    const element = document.createElement(\"style\");\n    element.appendChild(document.createTextNode(css));\n    document.body.appendChild(element);\n  }\n\n  const js_urls = [\"https://cdn.bokeh.org/bokeh/release/bokeh-3.4.1.min.js\", \"https://cdn.bokeh.org/bokeh/release/bokeh-gl-3.4.1.min.js\", \"https://cdn.bokeh.org/bokeh/release/bokeh-widgets-3.4.1.min.js\", \"https://cdn.bokeh.org/bokeh/release/bokeh-tables-3.4.1.min.js\", \"https://cdn.bokeh.org/bokeh/release/bokeh-mathjax-3.4.1.min.js\"];\n  const css_urls = [];\n\n  const inline_js = [    function(Bokeh) {\n      Bokeh.set_log_level(\"info\");\n    },\nfunction(Bokeh) {\n    }\n  ];\n\n  function run_inline_js() {\n    if (root.Bokeh !== undefined || force === true) {\n      try {\n            for (let i = 0; i < inline_js.length; i++) {\n      inline_js[i].call(root, root.Bokeh);\n    }\n\n      } catch (error) {display_loaded(error);throw error;\n      }if (force === true) {\n        display_loaded();\n      }} else if (Date.now() < root._bokeh_timeout) {\n      setTimeout(run_inline_js, 100);\n    } else if (!root._bokeh_failed_load) {\n      console.log(\"Bokeh: BokehJS failed to load within specified timeout.\");\n      root._bokeh_failed_load = true;\n    } else if (force !== true) {\n      const cell = $(document.getElementById(\"bcd13c31-35de-4edc-8739-4536edb00280\")).parents('.cell').data().cell;\n      cell.output_area.append_execute_result(NB_LOAD_WARNING)\n    }\n  }\n\n  if (root._bokeh_is_loading === 0) {\n    console.debug(\"Bokeh: BokehJS loaded, going straight to plotting\");\n    run_inline_js();\n  } else {\n    load_libs(css_urls, js_urls, function() {\n      console.debug(\"Bokeh: BokehJS plotting callback run at\", now());\n      run_inline_js();\n    });\n  }\n}(window));",
      "application/vnd.bokehjs_load.v0+json": ""
     },
     "metadata": {},
     "output_type": "display_data"
    },
    {
     "data": {
      "text/html": [
       "\n",
       "  <div id=\"ccc1b89e-ba03-4d05-b6c6-22737db1ce62\" data-root-id=\"p1001\" style=\"display: contents;\"></div>\n"
      ]
     },
     "metadata": {},
     "output_type": "display_data"
    },
    {
     "data": {
      "application/javascript": "(function(root) {\n  function embed_document(root) {\n  const docs_json = {\"56455964-9e83-47fb-aa5a-8d7104cccb40\":{\"version\":\"3.4.1\",\"title\":\"Bokeh Application\",\"roots\":[{\"type\":\"object\",\"name\":\"Figure\",\"id\":\"p1001\",\"attributes\":{\"x_range\":{\"type\":\"object\",\"name\":\"Range1d\",\"id\":\"p1011\",\"attributes\":{\"start\":-0.5}},\"y_range\":{\"type\":\"object\",\"name\":\"DataRange1d\",\"id\":\"p1003\"},\"x_scale\":{\"type\":\"object\",\"name\":\"LinearScale\",\"id\":\"p1012\"},\"y_scale\":{\"type\":\"object\",\"name\":\"LinearScale\",\"id\":\"p1013\"},\"title\":{\"type\":\"object\",\"name\":\"Title\",\"id\":\"p1004\",\"attributes\":{\"text\":\"Song Genres Distribution\"}},\"renderers\":[{\"type\":\"object\",\"name\":\"GlyphRenderer\",\"id\":\"p1036\",\"attributes\":{\"data_source\":{\"type\":\"object\",\"name\":\"ColumnDataSource\",\"id\":\"p1027\",\"attributes\":{\"selected\":{\"type\":\"object\",\"name\":\"Selection\",\"id\":\"p1028\",\"attributes\":{\"indices\":[],\"line_indices\":[]}},\"selection_policy\":{\"type\":\"object\",\"name\":\"UnionRenderers\",\"id\":\"p1029\"},\"data\":{\"type\":\"map\",\"entries\":[[\"index\",{\"type\":\"ndarray\",\"array\":{\"type\":\"bytes\",\"data\":\"AAAAAAEAAAACAAAAAwAAAAQAAAAFAAAABgAAAAcAAAAIAAAACQAAAAoAAAA=\"},\"shape\":[11],\"dtype\":\"int32\",\"order\":\"little\"}],[\"_id\",{\"type\":\"ndarray\",\"array\":[\"easy listening\",\"latin\",\"rock\",\"pop\",\"R&B\",\"Folk/Acoustic\",\"World/Traditional\",\"country\",\"metal\",\"Dance/Electronic\",\"hip hop\"],\"shape\":[11],\"dtype\":\"object\",\"order\":\"little\"}],[\"count\",{\"type\":\"ndarray\",\"array\":{\"type\":\"bytes\",\"data\":\"AQAAAA4AAACZAAAAaAMAAAsAAAAEAAAACQAAAAkAAAAIAAAAJgAAAM8CAAA=\"},\"shape\":[11],\"dtype\":\"int32\",\"order\":\"little\"}],[\"genre\",{\"type\":\"ndarray\",\"array\":[\"easy listening\",\"latin\",\"rock\",\"pop\",\"R&B\",\"Folk/Acoustic\",\"World/Traditional\",\"country\",\"metal\",\"Dance/Electronic\",\"hip hop\"],\"shape\":[11],\"dtype\":\"object\",\"order\":\"little\"}],[\"angle\",{\"type\":\"ndarray\",\"array\":{\"type\":\"bytes\",\"data\":\"GnVwCxgBbD93ZgIK9YCoP/011l6nvOA/uMO9ee7YB0CCUN2HwECjPxp1cAsYAYw/vYPeDDuBnz+9g94MO4GfPxp1cAsYAZw/iMXKRqagwD85NgiixKkDQA==\"},\"shape\":[11],\"dtype\":\"float64\",\"order\":\"little\"}],[\"color\",{\"type\":\"ndarray\",\"array\":[\"#3182bd\",\"#6baed6\",\"#9ecae1\",\"#c6dbef\",\"#e6550d\",\"#fd8d3c\",\"#fdae6b\",\"#fdd0a2\",\"#31a354\",\"#74c476\",\"#a1d99b\"],\"shape\":[11],\"dtype\":\"object\",\"order\":\"little\"}]]}}},\"view\":{\"type\":\"object\",\"name\":\"CDSView\",\"id\":\"p1037\",\"attributes\":{\"filter\":{\"type\":\"object\",\"name\":\"AllIndices\",\"id\":\"p1038\"}}},\"glyph\":{\"type\":\"object\",\"name\":\"Wedge\",\"id\":\"p1033\",\"attributes\":{\"x\":{\"type\":\"value\",\"value\":0},\"y\":{\"type\":\"value\",\"value\":1},\"radius\":{\"type\":\"value\",\"value\":0.4},\"start_angle\":{\"type\":\"expr\",\"expr\":{\"type\":\"object\",\"name\":\"CumSum\",\"id\":\"p1025\",\"attributes\":{\"field\":\"angle\",\"include_zero\":true}}},\"end_angle\":{\"type\":\"expr\",\"expr\":{\"type\":\"object\",\"name\":\"CumSum\",\"id\":\"p1026\",\"attributes\":{\"field\":\"angle\"}}},\"line_color\":{\"type\":\"value\",\"value\":\"white\"},\"fill_color\":{\"type\":\"field\",\"field\":\"color\"}}},\"nonselection_glyph\":{\"type\":\"object\",\"name\":\"Wedge\",\"id\":\"p1034\",\"attributes\":{\"x\":{\"type\":\"value\",\"value\":0},\"y\":{\"type\":\"value\",\"value\":1},\"radius\":{\"type\":\"value\",\"value\":0.4},\"start_angle\":{\"type\":\"expr\",\"expr\":{\"id\":\"p1025\"}},\"end_angle\":{\"type\":\"expr\",\"expr\":{\"id\":\"p1026\"}},\"line_color\":{\"type\":\"value\",\"value\":\"white\"},\"line_alpha\":{\"type\":\"value\",\"value\":0.1},\"fill_color\":{\"type\":\"field\",\"field\":\"color\"},\"fill_alpha\":{\"type\":\"value\",\"value\":0.1},\"hatch_alpha\":{\"type\":\"value\",\"value\":0.1}}},\"muted_glyph\":{\"type\":\"object\",\"name\":\"Wedge\",\"id\":\"p1035\",\"attributes\":{\"x\":{\"type\":\"value\",\"value\":0},\"y\":{\"type\":\"value\",\"value\":1},\"radius\":{\"type\":\"value\",\"value\":0.4},\"start_angle\":{\"type\":\"expr\",\"expr\":{\"id\":\"p1025\"}},\"end_angle\":{\"type\":\"expr\",\"expr\":{\"id\":\"p1026\"}},\"line_color\":{\"type\":\"value\",\"value\":\"white\"},\"line_alpha\":{\"type\":\"value\",\"value\":0.2},\"fill_color\":{\"type\":\"field\",\"field\":\"color\"},\"fill_alpha\":{\"type\":\"value\",\"value\":0.2},\"hatch_alpha\":{\"type\":\"value\",\"value\":0.2}}}}},{\"type\":\"object\",\"name\":\"GlyphRenderer\",\"id\":\"p1047\",\"attributes\":{\"data_source\":{\"type\":\"object\",\"name\":\"ColumnDataSource\",\"id\":\"p1041\",\"attributes\":{\"selected\":{\"type\":\"object\",\"name\":\"Selection\",\"id\":\"p1042\",\"attributes\":{\"indices\":[],\"line_indices\":[]}},\"selection_policy\":{\"type\":\"object\",\"name\":\"UnionRenderers\",\"id\":\"p1043\"},\"data\":{\"type\":\"map\"}}},\"view\":{\"type\":\"object\",\"name\":\"CDSView\",\"id\":\"p1048\",\"attributes\":{\"filter\":{\"type\":\"object\",\"name\":\"AllIndices\",\"id\":\"p1049\"}}},\"glyph\":{\"type\":\"object\",\"name\":\"Circle\",\"id\":\"p1044\",\"attributes\":{\"x\":{\"type\":\"value\",\"value\":0},\"y\":{\"type\":\"value\",\"value\":1},\"radius\":{\"type\":\"value\",\"value\":0.2},\"line_color\":{\"type\":\"value\",\"value\":\"white\"},\"fill_color\":{\"type\":\"value\",\"value\":\"white\"},\"hatch_color\":{\"type\":\"value\",\"value\":\"white\"}}},\"nonselection_glyph\":{\"type\":\"object\",\"name\":\"Circle\",\"id\":\"p1045\",\"attributes\":{\"x\":{\"type\":\"value\",\"value\":0},\"y\":{\"type\":\"value\",\"value\":1},\"radius\":{\"type\":\"value\",\"value\":0.2},\"line_color\":{\"type\":\"value\",\"value\":\"white\"},\"line_alpha\":{\"type\":\"value\",\"value\":0.1},\"fill_color\":{\"type\":\"value\",\"value\":\"white\"},\"fill_alpha\":{\"type\":\"value\",\"value\":0.1},\"hatch_color\":{\"type\":\"value\",\"value\":\"white\"},\"hatch_alpha\":{\"type\":\"value\",\"value\":0.1}}},\"muted_glyph\":{\"type\":\"object\",\"name\":\"Circle\",\"id\":\"p1046\",\"attributes\":{\"x\":{\"type\":\"value\",\"value\":0},\"y\":{\"type\":\"value\",\"value\":1},\"radius\":{\"type\":\"value\",\"value\":0.2},\"line_color\":{\"type\":\"value\",\"value\":\"white\"},\"line_alpha\":{\"type\":\"value\",\"value\":0.2},\"fill_color\":{\"type\":\"value\",\"value\":\"white\"},\"fill_alpha\":{\"type\":\"value\",\"value\":0.2},\"hatch_color\":{\"type\":\"value\",\"value\":\"white\"},\"hatch_alpha\":{\"type\":\"value\",\"value\":0.2}}}}}],\"toolbar\":{\"type\":\"object\",\"name\":\"Toolbar\",\"id\":\"p1010\",\"attributes\":{\"tools\":[{\"type\":\"object\",\"name\":\"HoverTool\",\"id\":\"p1024\",\"attributes\":{\"renderers\":\"auto\",\"tooltips\":\"@genre: @count\"}}]}},\"toolbar_location\":null,\"left\":[{\"type\":\"object\",\"name\":\"LinearAxis\",\"id\":\"p1019\",\"attributes\":{\"visible\":false,\"ticker\":{\"type\":\"object\",\"name\":\"BasicTicker\",\"id\":\"p1020\",\"attributes\":{\"mantissas\":[1,2,5]}},\"formatter\":{\"type\":\"object\",\"name\":\"BasicTickFormatter\",\"id\":\"p1021\"},\"major_label_policy\":{\"type\":\"object\",\"name\":\"AllLabels\",\"id\":\"p1022\"}}}],\"below\":[{\"type\":\"object\",\"name\":\"LinearAxis\",\"id\":\"p1014\",\"attributes\":{\"visible\":false,\"ticker\":{\"type\":\"object\",\"name\":\"BasicTicker\",\"id\":\"p1015\",\"attributes\":{\"mantissas\":[1,2,5]}},\"formatter\":{\"type\":\"object\",\"name\":\"BasicTickFormatter\",\"id\":\"p1016\"},\"major_label_policy\":{\"type\":\"object\",\"name\":\"AllLabels\",\"id\":\"p1017\"}}}],\"center\":[{\"type\":\"object\",\"name\":\"Grid\",\"id\":\"p1018\",\"attributes\":{\"axis\":{\"id\":\"p1014\"},\"grid_line_color\":null}},{\"type\":\"object\",\"name\":\"Grid\",\"id\":\"p1023\",\"attributes\":{\"dimension\":1,\"axis\":{\"id\":\"p1019\"},\"grid_line_color\":null}},{\"type\":\"object\",\"name\":\"Legend\",\"id\":\"p1039\",\"attributes\":{\"items\":[{\"type\":\"object\",\"name\":\"LegendItem\",\"id\":\"p1040\",\"attributes\":{\"label\":{\"type\":\"field\",\"field\":\"genre\"},\"renderers\":[{\"id\":\"p1036\"}]}}]}}]}}]}};\n  const render_items = [{\"docid\":\"56455964-9e83-47fb-aa5a-8d7104cccb40\",\"roots\":{\"p1001\":\"ccc1b89e-ba03-4d05-b6c6-22737db1ce62\"},\"root_ids\":[\"p1001\"]}];\n  void root.Bokeh.embed.embed_items_notebook(docs_json, render_items);\n  }\n  if (root.Bokeh !== undefined) {\n    embed_document(root);\n  } else {\n    let attempts = 0;\n    const timer = setInterval(function(root) {\n      if (root.Bokeh !== undefined) {\n        clearInterval(timer);\n        embed_document(root);\n      } else {\n        attempts++;\n        if (attempts > 100) {\n          clearInterval(timer);\n          console.log(\"Bokeh: ERROR: Unable to run BokehJS code because BokehJS library is missing\");\n        }\n      }\n    }, 10, root)\n  }\n})(window);",
      "application/vnd.bokehjs_exec.v0+json": ""
     },
     "metadata": {
      "application/vnd.bokehjs_exec.v0+json": {
       "id": "p1001"
      }
     },
     "output_type": "display_data"
    }
   ],
   "source": [
    "#Create the wedge plot\n",
    "output_notebook()  \n",
    "p = figure(outer_height=350, title=\"Song Genres Distribution\", toolbar_location=None,\n",
    "           tools=\"hover\", tooltips=\"@genre: @count\", x_range=(-0.5, 1.0))\n",
    "p.wedge(x=0, y=1, radius=0.4, start_angle=cumsum('angle', include_zero=True),\n",
    "         end_angle=cumsum('angle'), line_color=\"white\", fill_color='color', legend_field='genre', \n",
    "         source=genre_counts_df)\n",
    "\n",
    "# Add the circle\n",
    "p.circle(x=0, y=1, radius=0.2, color=\"white\")\n",
    "\n",
    "# Adjust axis and grid visibility\n",
    "p.axis.axis_label = None\n",
    "p.axis.visible = False\n",
    "p.grid.grid_line_color = None\n",
    "\n",
    "# Show the plot\n",
    "show(p)"
   ]
  },
  {
   "cell_type": "code",
   "execution_count": 50,
   "metadata": {},
   "outputs": [
    {
     "name": "stdout",
     "output_type": "stream",
     "text": [
      "Genres of songs by selected artists:\n",
      "['hip hop', 'pop']\n"
     ]
    }
   ],
   "source": [
    "genre_results = list(songs.aggregate([\n",
    "    {\"$match\": {\"artist\": {\"$in\": selected_artists}}},  # Filter by selected artists\n",
    "    {\"$group\": {\"_id\": \"$genre\"}}  # Group by genre\n",
    "]))\n",
    "\n",
    "# Step 2: Extract genres from the results\n",
    "genres = [result['_id'] for result in genre_results]\n",
    "\n",
    "# Print the list of genres\n",
    "print(\"Genres of songs by selected artists:\")\n",
    "print(genres)"
   ]
  },
  {
   "cell_type": "code",
   "execution_count": 51,
   "metadata": {},
   "outputs": [
    {
     "data": {
      "text/html": [
       "    <style>\n",
       "        .bk-notebook-logo {\n",
       "            display: block;\n",
       "            width: 20px;\n",
       "            height: 20px;\n",
       "            background-image: url(data:image/png;base64,iVBORw0KGgoAAAANSUhEUgAAABQAAAAUCAYAAACNiR0NAAAABHNCSVQICAgIfAhkiAAAAAlwSFlzAAALEgAACxIB0t1+/AAAABx0RVh0U29mdHdhcmUAQWRvYmUgRmlyZXdvcmtzIENTNui8sowAAAOkSURBVDiNjZRtaJVlGMd/1/08zzln5zjP1LWcU9N0NkN8m2CYjpgQYQXqSs0I84OLIC0hkEKoPtiH3gmKoiJDU7QpLgoLjLIQCpEsNJ1vqUOdO7ppbuec5+V+rj4ctwzd8IIbbi6u+8f1539dt3A78eXC7QizUF7gyV1fD1Yqg4JWz84yffhm0qkFqBogB9rM8tZdtwVsPUhWhGcFJngGeWrPzHm5oaMmkfEg1usvLFyc8jLRqDOMru7AyC8saQr7GG7f5fvDeH7Ej8CM66nIF+8yngt6HWaKh7k49Soy9nXurCi1o3qUbS3zWfrYeQDTB/Qj6kX6Ybhw4B+bOYoLKCC9H3Nu/leUTZ1JdRWkkn2ldcCamzrcf47KKXdAJllSlxAOkRgyHsGC/zRday5Qld9DyoM4/q/rUoy/CXh3jzOu3bHUVZeU+DEn8FInkPBFlu3+nW3Nw0mk6vCDiWg8CeJaxEwuHS3+z5RgY+YBR6V1Z1nxSOfoaPa4LASWxxdNp+VWTk7+4vzaou8v8PN+xo+KY2xsw6une2frhw05CTYOmQvsEhjhWjn0bmXPjpE1+kplmmkP3suftwTubK9Vq22qKmrBhpY4jvd5afdRA3wGjFAgcnTK2s4hY0/GPNIb0nErGMCRxWOOX64Z8RAC4oCXdklmEvcL8o0BfkNK4lUg9HTl+oPlQxdNo3Mg4Nv175e/1LDGzZen30MEjRUtmXSfiTVu1kK8W4txyV6BMKlbgk3lMwYCiusNy9fVfvvwMxv8Ynl6vxoByANLTWplvuj/nF9m2+PDtt1eiHPBr1oIfhCChQMBw6Aw0UulqTKZdfVvfG7VcfIqLG9bcldL/+pdWTLxLUy8Qq38heUIjh4XlzZxzQm19lLFlr8vdQ97rjZVOLf8nclzckbcD4wxXMidpX30sFd37Fv/GtwwhzhxGVAprjbg0gCAEeIgwCZyTV2Z1REEW8O4py0wsjeloKoMr6iCY6dP92H6Vw/oTyICIthibxjm/DfN9lVz8IqtqKYLUXfoKVMVQVVJOElGjrnnUt9T9wbgp8AyYKaGlqingHZU/uG2NTZSVqwHQTWkx9hxjkpWDaCg6Ckj5qebgBVbT3V3NNXMSiWSDdGV3hrtzla7J+duwPOToIg42ChPQOQjspnSlp1V+Gjdged7+8UN5CRAV7a5EdFNwCjEaBR27b3W890TE7g24NAP/mMDXRWrGoFPQI9ls/MWO2dWFAar/xcOIImbbpA3zgAAAABJRU5ErkJggg==);\n",
       "        }\n",
       "    </style>\n",
       "    <div>\n",
       "        <a href=\"https://bokeh.org\" target=\"_blank\" class=\"bk-notebook-logo\"></a>\n",
       "        <span id=\"ffc406a3-3d8a-4f71-8ec7-fa18af08a0b4\">Loading BokehJS ...</span>\n",
       "    </div>\n"
      ]
     },
     "metadata": {},
     "output_type": "display_data"
    },
    {
     "data": {
      "application/javascript": "'use strict';\n(function(root) {\n  function now() {\n    return new Date();\n  }\n\n  const force = true;\n\n  if (typeof root._bokeh_onload_callbacks === \"undefined\" || force === true) {\n    root._bokeh_onload_callbacks = [];\n    root._bokeh_is_loading = undefined;\n  }\n\nconst JS_MIME_TYPE = 'application/javascript';\n  const HTML_MIME_TYPE = 'text/html';\n  const EXEC_MIME_TYPE = 'application/vnd.bokehjs_exec.v0+json';\n  const CLASS_NAME = 'output_bokeh rendered_html';\n\n  /**\n   * Render data to the DOM node\n   */\n  function render(props, node) {\n    const script = document.createElement(\"script\");\n    node.appendChild(script);\n  }\n\n  /**\n   * Handle when an output is cleared or removed\n   */\n  function handleClearOutput(event, handle) {\n    function drop(id) {\n      const view = Bokeh.index.get_by_id(id)\n      if (view != null) {\n        view.model.document.clear()\n        Bokeh.index.delete(view)\n      }\n    }\n\n    const cell = handle.cell;\n\n    const id = cell.output_area._bokeh_element_id;\n    const server_id = cell.output_area._bokeh_server_id;\n\n    // Clean up Bokeh references\n    if (id != null) {\n      drop(id)\n    }\n\n    if (server_id !== undefined) {\n      // Clean up Bokeh references\n      const cmd_clean = \"from bokeh.io.state import curstate; print(curstate().uuid_to_server['\" + server_id + \"'].get_sessions()[0].document.roots[0]._id)\";\n      cell.notebook.kernel.execute(cmd_clean, {\n        iopub: {\n          output: function(msg) {\n            const id = msg.content.text.trim()\n            drop(id)\n          }\n        }\n      });\n      // Destroy server and session\n      const cmd_destroy = \"import bokeh.io.notebook as ion; ion.destroy_server('\" + server_id + \"')\";\n      cell.notebook.kernel.execute(cmd_destroy);\n    }\n  }\n\n  /**\n   * Handle when a new output is added\n   */\n  function handleAddOutput(event, handle) {\n    const output_area = handle.output_area;\n    const output = handle.output;\n\n    // limit handleAddOutput to display_data with EXEC_MIME_TYPE content only\n    if ((output.output_type != \"display_data\") || (!Object.prototype.hasOwnProperty.call(output.data, EXEC_MIME_TYPE))) {\n      return\n    }\n\n    const toinsert = output_area.element.find(\".\" + CLASS_NAME.split(' ')[0]);\n\n    if (output.metadata[EXEC_MIME_TYPE][\"id\"] !== undefined) {\n      toinsert[toinsert.length - 1].firstChild.textContent = output.data[JS_MIME_TYPE];\n      // store reference to embed id on output_area\n      output_area._bokeh_element_id = output.metadata[EXEC_MIME_TYPE][\"id\"];\n    }\n    if (output.metadata[EXEC_MIME_TYPE][\"server_id\"] !== undefined) {\n      const bk_div = document.createElement(\"div\");\n      bk_div.innerHTML = output.data[HTML_MIME_TYPE];\n      const script_attrs = bk_div.children[0].attributes;\n      for (let i = 0; i < script_attrs.length; i++) {\n        toinsert[toinsert.length - 1].firstChild.setAttribute(script_attrs[i].name, script_attrs[i].value);\n        toinsert[toinsert.length - 1].firstChild.textContent = bk_div.children[0].textContent\n      }\n      // store reference to server id on output_area\n      output_area._bokeh_server_id = output.metadata[EXEC_MIME_TYPE][\"server_id\"];\n    }\n  }\n\n  function register_renderer(events, OutputArea) {\n\n    function append_mime(data, metadata, element) {\n      // create a DOM node to render to\n      const toinsert = this.create_output_subarea(\n        metadata,\n        CLASS_NAME,\n        EXEC_MIME_TYPE\n      );\n      this.keyboard_manager.register_events(toinsert);\n      // Render to node\n      const props = {data: data, metadata: metadata[EXEC_MIME_TYPE]};\n      render(props, toinsert[toinsert.length - 1]);\n      element.append(toinsert);\n      return toinsert\n    }\n\n    /* Handle when an output is cleared or removed */\n    events.on('clear_output.CodeCell', handleClearOutput);\n    events.on('delete.Cell', handleClearOutput);\n\n    /* Handle when a new output is added */\n    events.on('output_added.OutputArea', handleAddOutput);\n\n    /**\n     * Register the mime type and append_mime function with output_area\n     */\n    OutputArea.prototype.register_mime_type(EXEC_MIME_TYPE, append_mime, {\n      /* Is output safe? */\n      safe: true,\n      /* Index of renderer in `output_area.display_order` */\n      index: 0\n    });\n  }\n\n  // register the mime type if in Jupyter Notebook environment and previously unregistered\n  if (root.Jupyter !== undefined) {\n    const events = require('base/js/events');\n    const OutputArea = require('notebook/js/outputarea').OutputArea;\n\n    if (OutputArea.prototype.mime_types().indexOf(EXEC_MIME_TYPE) == -1) {\n      register_renderer(events, OutputArea);\n    }\n  }\n  if (typeof (root._bokeh_timeout) === \"undefined\" || force === true) {\n    root._bokeh_timeout = Date.now() + 5000;\n    root._bokeh_failed_load = false;\n  }\n\n  const NB_LOAD_WARNING = {'data': {'text/html':\n     \"<div style='background-color: #fdd'>\\n\"+\n     \"<p>\\n\"+\n     \"BokehJS does not appear to have successfully loaded. If loading BokehJS from CDN, this \\n\"+\n     \"may be due to a slow or bad network connection. Possible fixes:\\n\"+\n     \"</p>\\n\"+\n     \"<ul>\\n\"+\n     \"<li>re-rerun `output_notebook()` to attempt to load from CDN again, or</li>\\n\"+\n     \"<li>use INLINE resources instead, as so:</li>\\n\"+\n     \"</ul>\\n\"+\n     \"<code>\\n\"+\n     \"from bokeh.resources import INLINE\\n\"+\n     \"output_notebook(resources=INLINE)\\n\"+\n     \"</code>\\n\"+\n     \"</div>\"}};\n\n  function display_loaded(error = null) {\n    const el = document.getElementById(\"ffc406a3-3d8a-4f71-8ec7-fa18af08a0b4\");\n    if (el != null) {\n      const html = (() => {\n        if (typeof root.Bokeh === \"undefined\") {\n          if (error == null) {\n            return \"BokehJS is loading ...\";\n          } else {\n            return \"BokehJS failed to load.\";\n          }\n        } else {\n          const prefix = `BokehJS ${root.Bokeh.version}`;\n          if (error == null) {\n            return `${prefix} successfully loaded.`;\n          } else {\n            return `${prefix} <b>encountered errors</b> while loading and may not function as expected.`;\n          }\n        }\n      })();\n      el.innerHTML = html;\n\n      if (error != null) {\n        const wrapper = document.createElement(\"div\");\n        wrapper.style.overflow = \"auto\";\n        wrapper.style.height = \"5em\";\n        wrapper.style.resize = \"vertical\";\n        const content = document.createElement(\"div\");\n        content.style.fontFamily = \"monospace\";\n        content.style.whiteSpace = \"pre-wrap\";\n        content.style.backgroundColor = \"rgb(255, 221, 221)\";\n        content.textContent = error.stack ?? error.toString();\n        wrapper.append(content);\n        el.append(wrapper);\n      }\n    } else if (Date.now() < root._bokeh_timeout) {\n      setTimeout(() => display_loaded(error), 100);\n    }\n  }\n\n  function run_callbacks() {\n    try {\n      root._bokeh_onload_callbacks.forEach(function(callback) {\n        if (callback != null)\n          callback();\n      });\n    } finally {\n      delete root._bokeh_onload_callbacks\n    }\n    console.debug(\"Bokeh: all callbacks have finished\");\n  }\n\n  function load_libs(css_urls, js_urls, callback) {\n    if (css_urls == null) css_urls = [];\n    if (js_urls == null) js_urls = [];\n\n    root._bokeh_onload_callbacks.push(callback);\n    if (root._bokeh_is_loading > 0) {\n      console.debug(\"Bokeh: BokehJS is being loaded, scheduling callback at\", now());\n      return null;\n    }\n    if (js_urls == null || js_urls.length === 0) {\n      run_callbacks();\n      return null;\n    }\n    console.debug(\"Bokeh: BokehJS not loaded, scheduling load and callback at\", now());\n    root._bokeh_is_loading = css_urls.length + js_urls.length;\n\n    function on_load() {\n      root._bokeh_is_loading--;\n      if (root._bokeh_is_loading === 0) {\n        console.debug(\"Bokeh: all BokehJS libraries/stylesheets loaded\");\n        run_callbacks()\n      }\n    }\n\n    function on_error(url) {\n      console.error(\"failed to load \" + url);\n    }\n\n    for (let i = 0; i < css_urls.length; i++) {\n      const url = css_urls[i];\n      const element = document.createElement(\"link\");\n      element.onload = on_load;\n      element.onerror = on_error.bind(null, url);\n      element.rel = \"stylesheet\";\n      element.type = \"text/css\";\n      element.href = url;\n      console.debug(\"Bokeh: injecting link tag for BokehJS stylesheet: \", url);\n      document.body.appendChild(element);\n    }\n\n    for (let i = 0; i < js_urls.length; i++) {\n      const url = js_urls[i];\n      const element = document.createElement('script');\n      element.onload = on_load;\n      element.onerror = on_error.bind(null, url);\n      element.async = false;\n      element.src = url;\n      console.debug(\"Bokeh: injecting script tag for BokehJS library: \", url);\n      document.head.appendChild(element);\n    }\n  };\n\n  function inject_raw_css(css) {\n    const element = document.createElement(\"style\");\n    element.appendChild(document.createTextNode(css));\n    document.body.appendChild(element);\n  }\n\n  const js_urls = [\"https://cdn.bokeh.org/bokeh/release/bokeh-3.4.1.min.js\", \"https://cdn.bokeh.org/bokeh/release/bokeh-gl-3.4.1.min.js\", \"https://cdn.bokeh.org/bokeh/release/bokeh-widgets-3.4.1.min.js\", \"https://cdn.bokeh.org/bokeh/release/bokeh-tables-3.4.1.min.js\", \"https://cdn.bokeh.org/bokeh/release/bokeh-mathjax-3.4.1.min.js\"];\n  const css_urls = [];\n\n  const inline_js = [    function(Bokeh) {\n      Bokeh.set_log_level(\"info\");\n    },\nfunction(Bokeh) {\n    }\n  ];\n\n  function run_inline_js() {\n    if (root.Bokeh !== undefined || force === true) {\n      try {\n            for (let i = 0; i < inline_js.length; i++) {\n      inline_js[i].call(root, root.Bokeh);\n    }\n\n      } catch (error) {display_loaded(error);throw error;\n      }if (force === true) {\n        display_loaded();\n      }} else if (Date.now() < root._bokeh_timeout) {\n      setTimeout(run_inline_js, 100);\n    } else if (!root._bokeh_failed_load) {\n      console.log(\"Bokeh: BokehJS failed to load within specified timeout.\");\n      root._bokeh_failed_load = true;\n    } else if (force !== true) {\n      const cell = $(document.getElementById(\"ffc406a3-3d8a-4f71-8ec7-fa18af08a0b4\")).parents('.cell').data().cell;\n      cell.output_area.append_execute_result(NB_LOAD_WARNING)\n    }\n  }\n\n  if (root._bokeh_is_loading === 0) {\n    console.debug(\"Bokeh: BokehJS loaded, going straight to plotting\");\n    run_inline_js();\n  } else {\n    load_libs(css_urls, js_urls, function() {\n      console.debug(\"Bokeh: BokehJS plotting callback run at\", now());\n      run_inline_js();\n    });\n  }\n}(window));",
      "application/vnd.bokehjs_load.v0+json": ""
     },
     "metadata": {},
     "output_type": "display_data"
    },
    {
     "data": {
      "text/html": [
       "\n",
       "  <div id=\"fed81d68-ad9d-4477-8519-9215f79f3b82\" data-root-id=\"p1157\" style=\"display: contents;\"></div>\n"
      ]
     },
     "metadata": {},
     "output_type": "display_data"
    },
    {
     "data": {
      "application/javascript": "(function(root) {\n  function embed_document(root) {\n  const docs_json = {\"c50e6b26-d01c-4cb2-b501-26bafdede847\":{\"version\":\"3.4.1\",\"title\":\"Bokeh Application\",\"roots\":[{\"type\":\"object\",\"name\":\"Figure\",\"id\":\"p1157\",\"attributes\":{\"x_range\":{\"type\":\"object\",\"name\":\"Range1d\",\"id\":\"p1167\",\"attributes\":{\"start\":-0.5}},\"y_range\":{\"type\":\"object\",\"name\":\"DataRange1d\",\"id\":\"p1159\"},\"x_scale\":{\"type\":\"object\",\"name\":\"LinearScale\",\"id\":\"p1168\"},\"y_scale\":{\"type\":\"object\",\"name\":\"LinearScale\",\"id\":\"p1169\"},\"title\":{\"type\":\"object\",\"name\":\"Title\",\"id\":\"p1160\",\"attributes\":{\"text\":\"Genre Distribution of Selected Artists\"}},\"renderers\":[{\"type\":\"object\",\"name\":\"GlyphRenderer\",\"id\":\"p1192\",\"attributes\":{\"data_source\":{\"type\":\"object\",\"name\":\"ColumnDataSource\",\"id\":\"p1183\",\"attributes\":{\"selected\":{\"type\":\"object\",\"name\":\"Selection\",\"id\":\"p1184\",\"attributes\":{\"indices\":[],\"line_indices\":[]}},\"selection_policy\":{\"type\":\"object\",\"name\":\"UnionRenderers\",\"id\":\"p1185\"},\"data\":{\"type\":\"map\",\"entries\":[[\"index\",{\"type\":\"ndarray\",\"array\":{\"type\":\"bytes\",\"data\":\"AAAAAAEAAAA=\"},\"shape\":[2],\"dtype\":\"int32\",\"order\":\"little\"}],[\"_id\",{\"type\":\"ndarray\",\"array\":[\"pop\",\"hip hop\"],\"shape\":[2],\"dtype\":\"object\",\"order\":\"little\"}],[\"count\",{\"type\":\"ndarray\",\"array\":{\"type\":\"bytes\",\"data\":\"MgAAAIQAAAA=\"},\"shape\":[2],\"dtype\":\"int32\",\"order\":\"little\"}],[\"genre\",{\"type\":\"ndarray\",\"array\":[\"pop\",\"hip hop\"],\"shape\":[2],\"dtype\":\"object\",\"order\":\"little\"}],[\"angle\",{\"type\":\"ndarray\",\"array\":{\"type\":\"bytes\",\"data\":\"DRtIQ0+e+z9VJnKDZzoSQA==\"},\"shape\":[2],\"dtype\":\"float64\",\"order\":\"little\"}],[\"color\",{\"type\":\"ndarray\",\"array\":[\"red\",\"blue\"],\"shape\":[2],\"dtype\":\"object\",\"order\":\"little\"}]]}}},\"view\":{\"type\":\"object\",\"name\":\"CDSView\",\"id\":\"p1193\",\"attributes\":{\"filter\":{\"type\":\"object\",\"name\":\"AllIndices\",\"id\":\"p1194\"}}},\"glyph\":{\"type\":\"object\",\"name\":\"Wedge\",\"id\":\"p1189\",\"attributes\":{\"x\":{\"type\":\"value\",\"value\":0},\"y\":{\"type\":\"value\",\"value\":1},\"radius\":{\"type\":\"value\",\"value\":0.4},\"start_angle\":{\"type\":\"expr\",\"expr\":{\"type\":\"object\",\"name\":\"CumSum\",\"id\":\"p1181\",\"attributes\":{\"field\":\"angle\",\"include_zero\":true}}},\"end_angle\":{\"type\":\"expr\",\"expr\":{\"type\":\"object\",\"name\":\"CumSum\",\"id\":\"p1182\",\"attributes\":{\"field\":\"angle\"}}},\"line_color\":{\"type\":\"value\",\"value\":\"white\"},\"fill_color\":{\"type\":\"field\",\"field\":\"color\"}}},\"nonselection_glyph\":{\"type\":\"object\",\"name\":\"Wedge\",\"id\":\"p1190\",\"attributes\":{\"x\":{\"type\":\"value\",\"value\":0},\"y\":{\"type\":\"value\",\"value\":1},\"radius\":{\"type\":\"value\",\"value\":0.4},\"start_angle\":{\"type\":\"expr\",\"expr\":{\"id\":\"p1181\"}},\"end_angle\":{\"type\":\"expr\",\"expr\":{\"id\":\"p1182\"}},\"line_color\":{\"type\":\"value\",\"value\":\"white\"},\"line_alpha\":{\"type\":\"value\",\"value\":0.1},\"fill_color\":{\"type\":\"field\",\"field\":\"color\"},\"fill_alpha\":{\"type\":\"value\",\"value\":0.1},\"hatch_alpha\":{\"type\":\"value\",\"value\":0.1}}},\"muted_glyph\":{\"type\":\"object\",\"name\":\"Wedge\",\"id\":\"p1191\",\"attributes\":{\"x\":{\"type\":\"value\",\"value\":0},\"y\":{\"type\":\"value\",\"value\":1},\"radius\":{\"type\":\"value\",\"value\":0.4},\"start_angle\":{\"type\":\"expr\",\"expr\":{\"id\":\"p1181\"}},\"end_angle\":{\"type\":\"expr\",\"expr\":{\"id\":\"p1182\"}},\"line_color\":{\"type\":\"value\",\"value\":\"white\"},\"line_alpha\":{\"type\":\"value\",\"value\":0.2},\"fill_color\":{\"type\":\"field\",\"field\":\"color\"},\"fill_alpha\":{\"type\":\"value\",\"value\":0.2},\"hatch_alpha\":{\"type\":\"value\",\"value\":0.2}}}}},{\"type\":\"object\",\"name\":\"GlyphRenderer\",\"id\":\"p1203\",\"attributes\":{\"data_source\":{\"type\":\"object\",\"name\":\"ColumnDataSource\",\"id\":\"p1197\",\"attributes\":{\"selected\":{\"type\":\"object\",\"name\":\"Selection\",\"id\":\"p1198\",\"attributes\":{\"indices\":[],\"line_indices\":[]}},\"selection_policy\":{\"type\":\"object\",\"name\":\"UnionRenderers\",\"id\":\"p1199\"},\"data\":{\"type\":\"map\"}}},\"view\":{\"type\":\"object\",\"name\":\"CDSView\",\"id\":\"p1204\",\"attributes\":{\"filter\":{\"type\":\"object\",\"name\":\"AllIndices\",\"id\":\"p1205\"}}},\"glyph\":{\"type\":\"object\",\"name\":\"Circle\",\"id\":\"p1200\",\"attributes\":{\"x\":{\"type\":\"value\",\"value\":0},\"y\":{\"type\":\"value\",\"value\":1},\"radius\":{\"type\":\"value\",\"value\":0.2},\"line_color\":{\"type\":\"value\",\"value\":\"white\"},\"fill_color\":{\"type\":\"value\",\"value\":\"white\"},\"hatch_color\":{\"type\":\"value\",\"value\":\"white\"}}},\"nonselection_glyph\":{\"type\":\"object\",\"name\":\"Circle\",\"id\":\"p1201\",\"attributes\":{\"x\":{\"type\":\"value\",\"value\":0},\"y\":{\"type\":\"value\",\"value\":1},\"radius\":{\"type\":\"value\",\"value\":0.2},\"line_color\":{\"type\":\"value\",\"value\":\"white\"},\"line_alpha\":{\"type\":\"value\",\"value\":0.1},\"fill_color\":{\"type\":\"value\",\"value\":\"white\"},\"fill_alpha\":{\"type\":\"value\",\"value\":0.1},\"hatch_color\":{\"type\":\"value\",\"value\":\"white\"},\"hatch_alpha\":{\"type\":\"value\",\"value\":0.1}}},\"muted_glyph\":{\"type\":\"object\",\"name\":\"Circle\",\"id\":\"p1202\",\"attributes\":{\"x\":{\"type\":\"value\",\"value\":0},\"y\":{\"type\":\"value\",\"value\":1},\"radius\":{\"type\":\"value\",\"value\":0.2},\"line_color\":{\"type\":\"value\",\"value\":\"white\"},\"line_alpha\":{\"type\":\"value\",\"value\":0.2},\"fill_color\":{\"type\":\"value\",\"value\":\"white\"},\"fill_alpha\":{\"type\":\"value\",\"value\":0.2},\"hatch_color\":{\"type\":\"value\",\"value\":\"white\"},\"hatch_alpha\":{\"type\":\"value\",\"value\":0.2}}}}}],\"toolbar\":{\"type\":\"object\",\"name\":\"Toolbar\",\"id\":\"p1166\",\"attributes\":{\"tools\":[{\"type\":\"object\",\"name\":\"HoverTool\",\"id\":\"p1180\",\"attributes\":{\"renderers\":\"auto\",\"tooltips\":\"@genre: @count\"}}]}},\"toolbar_location\":null,\"left\":[{\"type\":\"object\",\"name\":\"LinearAxis\",\"id\":\"p1175\",\"attributes\":{\"visible\":false,\"ticker\":{\"type\":\"object\",\"name\":\"BasicTicker\",\"id\":\"p1176\",\"attributes\":{\"mantissas\":[1,2,5]}},\"formatter\":{\"type\":\"object\",\"name\":\"BasicTickFormatter\",\"id\":\"p1177\"},\"major_label_policy\":{\"type\":\"object\",\"name\":\"AllLabels\",\"id\":\"p1178\"}}}],\"below\":[{\"type\":\"object\",\"name\":\"LinearAxis\",\"id\":\"p1170\",\"attributes\":{\"visible\":false,\"ticker\":{\"type\":\"object\",\"name\":\"BasicTicker\",\"id\":\"p1171\",\"attributes\":{\"mantissas\":[1,2,5]}},\"formatter\":{\"type\":\"object\",\"name\":\"BasicTickFormatter\",\"id\":\"p1172\"},\"major_label_policy\":{\"type\":\"object\",\"name\":\"AllLabels\",\"id\":\"p1173\"}}}],\"center\":[{\"type\":\"object\",\"name\":\"Grid\",\"id\":\"p1174\",\"attributes\":{\"axis\":{\"id\":\"p1170\"},\"grid_line_color\":null}},{\"type\":\"object\",\"name\":\"Grid\",\"id\":\"p1179\",\"attributes\":{\"dimension\":1,\"axis\":{\"id\":\"p1175\"},\"grid_line_color\":null}},{\"type\":\"object\",\"name\":\"Legend\",\"id\":\"p1195\",\"attributes\":{\"items\":[{\"type\":\"object\",\"name\":\"LegendItem\",\"id\":\"p1196\",\"attributes\":{\"label\":{\"type\":\"field\",\"field\":\"genre\"},\"renderers\":[{\"id\":\"p1192\"}]}}]}}]}}]}};\n  const render_items = [{\"docid\":\"c50e6b26-d01c-4cb2-b501-26bafdede847\",\"roots\":{\"p1157\":\"fed81d68-ad9d-4477-8519-9215f79f3b82\"},\"root_ids\":[\"p1157\"]}];\n  void root.Bokeh.embed.embed_items_notebook(docs_json, render_items);\n  }\n  if (root.Bokeh !== undefined) {\n    embed_document(root);\n  } else {\n    let attempts = 0;\n    const timer = setInterval(function(root) {\n      if (root.Bokeh !== undefined) {\n        clearInterval(timer);\n        embed_document(root);\n      } else {\n        attempts++;\n        if (attempts > 100) {\n          clearInterval(timer);\n          console.log(\"Bokeh: ERROR: Unable to run BokehJS code because BokehJS library is missing\");\n        }\n      }\n    }, 10, root)\n  }\n})(window);",
      "application/vnd.bokehjs_exec.v0+json": ""
     },
     "metadata": {
      "application/vnd.bokehjs_exec.v0+json": {
       "id": "p1157"
      }
     },
     "output_type": "display_data"
    }
   ],
   "source": [
    "genre_counts = list(songs.aggregate([\n",
    "    {\"$match\": {\"artist\": {\"$in\": selected_artists}}},  # Filter by selected artists\n",
    "    {\"$group\": {\"_id\": \"$genre\", \"count\": {\"$sum\": 1}}},  # Group by genre and count\n",
    "    {\"$project\": {\"genre\": \"$_id\", \"count\": 1}}  # Reshape the output\n",
    "]))\n",
    "\n",
    "# Convert to DataFrame and calculate angles for pie chart\n",
    "genre_counts_df = pd.DataFrame(genre_counts)\n",
    "genre_counts_df['angle'] = genre_counts_df['count'] / genre_counts_df['count'].sum() * 2 * pi\n",
    "colors = ['red', 'blue'] * (len(genre_counts_df) // 2 + 1)  # Repeat until it covers all genres\n",
    "genre_counts_df['color'] = colors[:len(genre_counts_df)]  # Ensure it matches the length\n",
    "\n",
    "\n",
    "# Step 2: Create a pie chart using Bokeh\n",
    "output_notebook()  # Use this for Jupyter Notebook; use output_file(\"filename.html\") for scripts\n",
    "\n",
    "p = figure(outer_height=350, title=\"Genre Distribution of Selected Artists\", toolbar_location=None, tools=\"hover\", \n",
    "           tooltips=\"@genre: @count\", x_range=(-0.5, 1.0))\n",
    "\n",
    "p.wedge(x=0, y=1, radius=0.4, start_angle=cumsum('angle', include_zero=True),\n",
    "         end_angle=cumsum('angle'), line_color=\"white\", fill_color='color', legend_field='genre', \n",
    "         source=genre_counts_df)\n",
    "\n",
    "# Add the circle\n",
    "p.circle(x=0, y=1, radius=0.2, color=\"white\")\n",
    "\n",
    "# Adjust axis and grid visibility\n",
    "p.axis.axis_label = None\n",
    "p.axis.visible = False\n",
    "p.grid.grid_line_color = None\n",
    "\n",
    "# Show the plot\n",
    "show(p)\n"
   ]
  },
  {
   "cell_type": "markdown",
   "metadata": {},
   "source": [
    "### Adolphus' Code: Song Popularity Trends by Year and "
   ]
  },
  {
   "cell_type": "code",
   "execution_count": 27,
   "metadata": {},
   "outputs": [],
   "source": [
    "# Step 1: Aggregate popularity trends by year and genre\n",
    "popularity_trends = list(songs.aggregate([\n",
    "    {\n",
    "        \"$group\": {\n",
    "            \"_id\": {\n",
    "                \"year\": \"$year\",  # Group by the existing 'year' field\n",
    "                \"genre\": \"$genre\"  # Group by genre\n",
    "            },\n",
    "            \"average_popularity\": {\"$avg\": \"$popularity\"}  # Calculate average popularity\n",
    "        }\n",
    "    },\n",
    "    {\n",
    "        \"$project\": {\n",
    "            \"year\": \"$_id.year\",\n",
    "            \"genre\": \"$_id.genre\",\n",
    "            \"average_popularity\": 1\n",
    "        }\n",
    "    },\n",
    "    {\n",
    "        \"$sort\": {\n",
    "            \"year\": 1,  # Sort by year\n",
    "            \"genre\": 1   # Sort by genre\n",
    "        }\n",
    "    }\n",
    "]))"
   ]
  },
  {
   "cell_type": "code",
   "execution_count": 28,
   "metadata": {},
   "outputs": [
    {
     "name": "stdout",
     "output_type": "stream",
     "text": [
      "                                           _id  average_popularity  year  \\\n",
      "0  {'year': 1999, 'genre': 'Dance/Electronic'}           56.000000  1999   \n",
      "1           {'year': 1999, 'genre': 'hip hop'}           69.666667  1999   \n",
      "2               {'year': 1999, 'genre': 'pop'}           62.173913  1999   \n",
      "3              {'year': 1999, 'genre': 'rock'}           70.166667  1999   \n",
      "4     {'year': 2000, 'genre': 'Folk/Acoustic'}            0.000000  2000   \n",
      "\n",
      "              genre  \n",
      "0  Dance/Electronic  \n",
      "1           hip hop  \n",
      "2               pop  \n",
      "3              rock  \n",
      "4     Folk/Acoustic  \n"
     ]
    }
   ],
   "source": [
    "# Step 2: Convert the aggregation results to a DataFrame\n",
    "popularity_trends_df = pd.DataFrame(popularity_trends)\n",
    "# Display the DataFrame\n",
    "print(popularity_trends_df.head())"
   ]
  },
  {
   "cell_type": "code",
   "execution_count": 29,
   "metadata": {},
   "outputs": [
    {
     "data": {
      "image/png": "[encoded data removed]",
      "text/plain": [
       "<Figure size 1200x600 with 1 Axes>"
      ]
     },
     "metadata": {},
     "output_type": "display_data"
    }
   ],
   "source": [
    "# Set the aesthetic style of the plots\n",
    "sns.set(style=\"whitegrid\")\n",
    "# reate a line plot for popularity trends\n",
    "plt.figure(figsize=(12, 6))\n",
    "sns.lineplot(data=popularity_trends_df, x='year', y='average_popularity', hue='genre', marker='o')\n",
    "plt.title('Song Popularity Trends by Year and Genre')\n",
    "plt.xlabel('Year')\n",
    "plt.ylabel('Average Popularity')\n",
    "plt.legend(title='Genre')\n",
    "plt.xticks(rotation=45)\n",
    "plt.tight_layout()\n",
    "\n",
    "# Show the plot\n",
    "plt.show()"
   ]
  },
  {
   "cell_type": "code",
   "execution_count": null,
   "metadata": {},
   "outputs": [],
   "source": []
  },
  {
   "cell_type": "code",
   "execution_count": null,
   "metadata": {},
   "outputs": [],
   "source": []
  },
  {
   "cell_type": "markdown",
   "metadata": {},
   "source": [
    "### Sanjana's Code: Comparing Loudness vs. Valence in the Top and Bottom 10% of Songs"
   ]
  },
  {
   "cell_type": "code",
   "execution_count": 73,
   "metadata": {},
   "outputs": [
    {
     "data": {
      "text/plain": [
       "1838"
      ]
     },
     "execution_count": 73,
     "metadata": {},
     "output_type": "execute_result"
    }
   ],
   "source": [
    "# Count the total number of songs\n",
    "total_songs = songs.count_documents({})\n",
    "total_songs"
   ]
  },
  {
   "cell_type": "code",
   "execution_count": 74,
   "metadata": {},
   "outputs": [
    {
     "data": {
      "text/plain": [
       "183"
      ]
     },
     "execution_count": 74,
     "metadata": {},
     "output_type": "execute_result"
    }
   ],
   "source": [
    "# Calculate the number of songs to include in the top 10%\n",
    "top_10_percent_count = int(total_songs * 0.1)\n",
    "top_10_percent_count"
   ]
  },
  {
   "cell_type": "code",
   "execution_count": 75,
   "metadata": {},
   "outputs": [
    {
     "name": "stdout",
     "output_type": "stream",
     "text": [
      "Top 10% of songs by popularity (ordered by popularity descending):\n",
      "1. sweater weather - Popularity: 89%, Loudness: -2.81 dB, Valence: 40.904419321685516\n",
      "2. another love - Popularity: 88%, Loudness: -8.532 dB, Valence: 13.463514902363825\n",
      "3. without me - Popularity: 87%, Loudness: -2.827 dB, Valence: 68.03699897225077\n",
      "4. wait a minute! - Popularity: 86%, Loudness: -5.279 dB, Valence: 69.06474820143885\n",
      "5. the real slim shady - Popularity: 86%, Loudness: -4.244 dB, Valence: 78.10894141829394\n",
      "6. perfect - Popularity: 85%, Loudness: -6.312 dB, Valence: 17.26618705035971\n",
      "7. 'till i collapse - Popularity: 85%, Loudness: -3.237 dB, Valence: 10.277492291880781\n",
      "8. circles - Popularity: 85%, Loudness: -3.497 dB, Valence: 56.83453237410072\n",
      "9. daddy issues - Popularity: 85%, Loudness: -9.461 dB, Valence: 34.635149023638235\n",
      "10. locked out of heaven - Popularity: 85%, Loudness: -4.165 dB, Valence: 89.10585817060638\n",
      "11. the nights - Popularity: 85%, Loudness: -5.298 dB, Valence: 67.2147995889003\n",
      "12. lucid dreams - Popularity: 84%, Loudness: -7.23 dB, Valence: 22.404933196300103\n",
      "13. no lie - Popularity: 84%, Loudness: -2.862 dB, Valence: 47.584789311408024\n",
      "14. do i wanna know? - Popularity: 84%, Loudness: -7.596 dB, Valence: 41.62384378211716\n",
      "15. the hills - Popularity: 84%, Loudness: -7.063 dB, Valence: 14.080164439876672\n",
      "16. someone you loved - Popularity: 84%, Loudness: -5.679 dB, Valence: 45.83761562178829\n",
      "17. why'd you only call me when you're high? - Popularity: 84%, Loudness: -6.478 dB, Valence: 82.21993833504625\n",
      "18. shape of you - Popularity: 84%, Loudness: -3.183 dB, Valence: 95.68345323741008\n",
      "19. one dance - Popularity: 84%, Loudness: -5.609 dB, Valence: 38.026721479958894\n",
      "20. closer - Popularity: 83%, Loudness: -5.599 dB, Valence: 67.93422404933197\n",
      "21. jocelyn flores - Popularity: 83%, Loudness: -9.144 dB, Valence: 44.91264131551901\n",
      "22. something just like this - Popularity: 83%, Loudness: -6.769 dB, Valence: 45.83761562178829\n",
      "23. the less i know the better - Popularity: 83%, Loudness: -4.083 dB, Valence: 80.67831449126413\n",
      "24. in the end - Popularity: 83%, Loudness: -5.87 dB, Valence: 41.109969167523126\n",
      "25. rockstar (feat. 21 savage) - Popularity: 83%, Loudness: -6.136 dB, Valence: 13.257965056526208\n",
      "26. get lucky (feat. pharrell williams & nile rodgers) - radio edit - Popularity: 83%, Loudness: -8.966 dB, Valence: 88.59198355601234\n",
      "27. stan - Popularity: 83%, Loudness: -4.325 dB, Valence: 52.10688591983556\n",
      "28. stressed out - Popularity: 83%, Loudness: -5.677 dB, Valence: 66.59815005138746\n",
      "29. goosebumps - Popularity: 83%, Loudness: -3.37 dB, Valence: 44.19321685508736\n",
      "30. night changes - Popularity: 83%, Loudness: -7.747 dB, Valence: 38.026721479958894\n",
      "31. happier - Popularity: 82%, Loudness: -2.749 dB, Valence: 68.96197327852005\n",
      "32. pumped up kicks - Popularity: 82%, Loudness: -5.849 dB, Valence: 99.17780061664953\n",
      "33. promiscuous - Popularity: 82%, Loudness: -6.098 dB, Valence: 89.20863309352518\n",
      "34. treat you better - Popularity: 82%, Loudness: -4.078 dB, Valence: 76.77286742034943\n",
      "35. payphone - Popularity: 82%, Loudness: -4.813 dB, Valence: 56.01233299075026\n",
      "36. uptown funk (feat. bruno mars) - Popularity: 82%, Loudness: -7.223 dB, Valence: 95.37512846865366\n",
      "37. classic - Popularity: 82%, Loudness: -4.689 dB, Valence: 77.6978417266187\n",
      "38. hymn for the weekend - Popularity: 82%, Loudness: -6.487 dB, Valence: 42.34326824254882\n",
      "39. paradise - Popularity: 82%, Loudness: -6.761 dB, Valence: 21.788283658787254\n",
      "40. let me down slowly - Popularity: 82%, Loudness: -5.714 dB, Valence: 49.64028776978417\n",
      "41. unforgettable - Popularity: 82%, Loudness: -5.043 dB, Valence: 75.33401849948612\n",
      "42. sad! - Popularity: 82%, Loudness: -4.88 dB, Valence: 48.6125385405961\n",
      "43. what makes you beautiful - Popularity: 82%, Loudness: -2.494 dB, Valence: 91.26413155190134\n",
      "44. empire state of mind - Popularity: 82%, Loudness: -1.538 dB, Valence: 83.35046248715314\n",
      "45. heartless - Popularity: 82%, Loudness: -5.983 dB, Valence: 67.2147995889003\n",
      "46. shallow - Popularity: 82%, Loudness: -6.362 dB, Valence: 33.19630010277492\n",
      "47. moonlight - Popularity: 82%, Loudness: -5.723 dB, Valence: 73.07297019527235\n",
      "48. the next episode - Popularity: 82%, Loudness: -2.429 dB, Valence: 31.757451181911616\n",
      "49. blank space - Popularity: 82%, Loudness: -5.412 dB, Valence: 58.58170606372045\n",
      "50. hips don't lie (feat. wyclef jean) - Popularity: 82%, Loudness: -5.892 dB, Valence: 77.90339157245633\n",
      "51. feel good inc. - Popularity: 82%, Loudness: -6.679 dB, Valence: 79.34224049331964\n",
      "52. ni**as in paris - Popularity: 82%, Loudness: -5.542 dB, Valence: 79.65056526207606\n",
      "53. ms. jackson - Popularity: 82%, Loudness: -5.946 dB, Valence: 63.00102774922919\n",
      "54. toxic - Popularity: 81%, Loudness: -3.914 dB, Valence: 94.96402877697842\n",
      "55. callaita - Popularity: 81%, Loudness: -4.773 dB, Valence: 25.077081192189105\n",
      "56. sicko mode - Popularity: 81%, Loudness: -3.714 dB, Valence: 45.83761562178829\n",
      "57. umbrella - Popularity: 81%, Loudness: -4.603 dB, Valence: 59.095580678314484\n",
      "58. in da club - Popularity: 81%, Loudness: -2.752 dB, Valence: 79.85611510791367\n",
      "59. story of my life - Popularity: 81%, Loudness: -5.802 dB, Valence: 29.393627954779035\n",
      "60. baby - Popularity: 81%, Loudness: -5.237 dB, Valence: 54.98458376156218\n",
      "61. god's plan - Popularity: 81%, Loudness: -9.211 dB, Valence: 36.69064748201439\n",
      "62. yeah! (feat. lil jon & ludacris) - Popularity: 81%, Loudness: -4.699 dB, Valence: 59.91778006166495\n",
      "63. can't hold us (feat. ray dalton) - Popularity: 81%, Loudness: -4.457 dB, Valence: 87.05035971223022\n",
      "64. take me to church - Popularity: 81%, Loudness: -5.303 dB, Valence: 44.91264131551901\n",
      "65. let me love you - Popularity: 81%, Loudness: -5.371 dB, Valence: 16.752312435765674\n",
      "66. congratulations - Popularity: 81%, Loudness: -4.183 dB, Valence: 50.56526207605344\n",
      "67. see you again (feat. charlie puth) - Popularity: 81%, Loudness: -7.503 dB, Valence: 29.08530318602261\n",
      "68. numb - Popularity: 81%, Loudness: -4.153 dB, Valence: 24.9743062692703\n",
      "69. demons - Popularity: 81%, Loudness: -3.015 dB, Valence: 43.98766700924974\n",
      "70. xo tour llif3 - Popularity: 81%, Loudness: -6.366 dB, Valence: 41.21274409044193\n",
      "71. one kiss (with dua lipa) - Popularity: 81%, Loudness: -3.24 dB, Valence: 60.842754367934226\n",
      "72. stereo hearts (feat. adam levine) - Popularity: 81%, Loudness: -3.293 dB, Valence: 81.80883864337103\n",
      "73. little dark age - Popularity: 81%, Loudness: -6.156 dB, Valence: 63.72045220966084\n",
      "74. ride it - Popularity: 81%, Loudness: -4.258 dB, Valence: 90.85303186022611\n",
      "75. i like me better - Popularity: 81%, Loudness: -7.621 dB, Valence: 43.06269270298047\n",
      "76. love the way you lie - Popularity: 81%, Loudness: -5.034 dB, Valence: 65.87872559095581\n",
      "77. give me everything (feat. ne-yo, afrojack & nayer) - Popularity: 81%, Loudness: -3.206 dB, Valence: 54.47070914696815\n",
      "78. thinking out loud - Popularity: 81%, Loudness: -6.061 dB, Valence: 60.739979445015415\n",
      "79. say it right - Popularity: 81%, Loudness: -6.328 dB, Valence: 83.14491264131553\n",
      "80. a sky full of stars - Popularity: 80%, Loudness: -6.474 dB, Valence: 16.649537512846866\n",
      "81. teenagers - Popularity: 80%, Loudness: -3.063 dB, Valence: 87.97533401849948\n",
      "82. silence - Popularity: 80%, Loudness: -3.093 dB, Valence: 29.393627954779035\n",
      "83. all falls down - Popularity: 80%, Loudness: -4.832 dB, Valence: 44.60431654676259\n",
      "84. only love can hurt like this - Popularity: 80%, Loudness: -4.528 dB, Valence: 31.243576567317575\n",
      "85. ride - Popularity: 80%, Loudness: -5.355 dB, Valence: 58.17060637204522\n",
      "86. natural - Popularity: 80%, Loudness: -6.112 dB, Valence: 22.61048304213772\n",
      "87. call out my name - Popularity: 80%, Loudness: -4.954 dB, Valence: 17.985611510791365\n",
      "88. all the stars (with sza) - Popularity: 80%, Loudness: -4.946 dB, Valence: 56.73175745118192\n",
      "89. heathens - Popularity: 80%, Loudness: -9.348 dB, Valence: 56.32065775950669\n",
      "90. timber (feat. ke$ha) - Popularity: 80%, Loudness: -4.087 dB, Valence: 80.98663926002057\n",
      "91. riptide - Popularity: 80%, Loudness: -6.694 dB, Valence: 52.41521068859198\n",
      "92. better now - Popularity: 80%, Loudness: -5.804 dB, Valence: 35.04624871531347\n",
      "93. i gotta feeling - Popularity: 80%, Loudness: -6.375 dB, Valence: 62.69270298047277\n",
      "94. viva la vida - Popularity: 80%, Loudness: -7.115 dB, Valence: 42.857142857142854\n",
      "95. bad romance - Popularity: 80%, Loudness: -3.755 dB, Valence: 73.38129496402878\n",
      "96. stay with me - Popularity: 80%, Loudness: -6.444 dB, Valence: 18.91058581706064\n",
      "97. sex on fire - Popularity: 80%, Loudness: -5.653 dB, Valence: 38.43782117163413\n",
      "98. sorry - Popularity: 80%, Loudness: -3.669 dB, Valence: 42.1377183967112\n",
      "99. the middle - Popularity: 80%, Loudness: -3.061 dB, Valence: 44.91264131551901\n",
      "100. the way i are - Popularity: 80%, Loudness: -6.492 dB, Valence: 78.62281603288798\n",
      "101. needed me - Popularity: 80%, Loudness: -8.091 dB, Valence: 30.421377183967113\n",
      "102. earfquake - Popularity: 80%, Loudness: -8.866 dB, Valence: 42.44604316546762\n",
      "103. high hopes - Popularity: 80%, Loudness: -2.729 dB, Valence: 69.98972250770812\n",
      "104. dynamite - Popularity: 80%, Loudness: -3.724 dB, Valence: 83.86433710174717\n",
      "105. tik tok - Popularity: 80%, Loudness: -2.718 dB, Valence: 73.38129496402878\n",
      "106. ric flair drip (with metro boomin) - Popularity: 80%, Loudness: -8.28 dB, Valence: 34.224049331963\n",
      "107. whatever it takes - Popularity: 80%, Loudness: -5.021 dB, Valence: 57.14285714285715\n",
      "108. time of our lives - Popularity: 80%, Loudness: -5.797 dB, Valence: 74.40904419321686\n",
      "109. hold on - Popularity: 80%, Loudness: -9.681 dB, Valence: 17.163412127440907\n",
      "110. can't stop - Popularity: 80%, Loudness: -3.442 dB, Valence: 89.92805755395685\n",
      "111. low (feat. t-pain) - Popularity: 80%, Loudness: -5.64 dB, Valence: 31.243576567317575\n",
      "112. centuries - Popularity: 80%, Loudness: -2.868 dB, Valence: 57.553956834532386\n",
      "113. hey ya! - Popularity: 80%, Loudness: -2.261 dB, Valence: 99.17780061664953\n",
      "114. love. feat. zacari. - Popularity: 80%, Loudness: -7.343 dB, Valence: 80.06166495375129\n",
      "115. 2002 - Popularity: 80%, Loudness: -2.881 dB, Valence: 61.973278520041106\n",
      "116. this is what you came for (feat. rihanna) - Popularity: 79%, Loudness: -2.787 dB, Valence: 47.79033915724564\n",
      "117. heart attack - Popularity: 79%, Loudness: -4.802 dB, Valence: 51.59301130524152\n",
      "118. shake it off - Popularity: 79%, Loudness: -5.384 dB, Valence: 96.81397738951696\n",
      "119. let you down - Popularity: 79%, Loudness: -5.68 dB, Valence: 47.68756423432683\n",
      "120. tongue tied - Popularity: 79%, Loudness: -5.835 dB, Valence: 38.1294964028777\n",
      "121. snow (hey oh) - Popularity: 79%, Loudness: -3.674 dB, Valence: 61.56217882836587\n",
      "122. yes indeed - Popularity: 79%, Loudness: -9.309 dB, Valence: 57.759506680369995\n",
      "123. steal my girl - Popularity: 79%, Loudness: -5.948 dB, Valence: 56.01233299075026\n",
      "124. clocks - Popularity: 79%, Loudness: -7.215 dB, Valence: 26.20760534429599\n",
      "125. don't let me down - Popularity: 79%, Loudness: -5.094 dB, Valence: 43.37101747173689\n",
      "126. we don't talk anymore (feat. selena gomez) - Popularity: 79%, Loudness: -8.053 dB, Valence: 36.17677286742035\n",
      "127. party in the u.s.a. - Popularity: 79%, Loudness: -4.667 dB, Valence: 48.30421377183967\n",
      "128. dj got us fallin' in love (feat. pitbull) - Popularity: 79%, Loudness: -3.398 dB, Valence: 67.2147995889003\n",
      "129. not afraid - Popularity: 79%, Loudness: -1.19 dB, Valence: 68.65364850976363\n",
      "130. titanium (feat. sia) - Popularity: 79%, Loudness: -3.674 dB, Valence: 30.935251798561154\n",
      "131. gimme more - Popularity: 79%, Loudness: -3.131 dB, Valence: 39.260020554984585\n",
      "132. one last time - Popularity: 79%, Loudness: -5.036 dB, Valence: 10.688591983556012\n",
      "133. feels (feat. pharrell williams, katy perry & big sean) - Popularity: 79%, Loudness: -3.105 dB, Valence: 89.61973278520041\n",
      "134. happy - from \"despicable me 2\" - Popularity: 79%, Loudness: -4.662 dB, Valence: 98.86947584789311\n",
      "135. forgot about dre - Popularity: 79%, Loudness: -1.299 dB, Valence: 63.82322713257965\n",
      "136. still into you - Popularity: 79%, Loudness: -3.763 dB, Valence: 78.62281603288798\n",
      "137. love you like a love song - Popularity: 79%, Loudness: -3.87 dB, Valence: 94.75847893114081\n",
      "138. feel so close - radio edit - Popularity: 79%, Loudness: -2.842 dB, Valence: 94.45015416238438\n",
      "139. sucker - Popularity: 79%, Loudness: -5.065 dB, Valence: 97.84172661870504\n",
      "140. be alright - Popularity: 79%, Loudness: -6.319 dB, Valence: 45.52929085303186\n",
      "141. i like it - Popularity: 79%, Loudness: -3.998 dB, Valence: 66.80369989722507\n",
      "142. little talks - Popularity: 79%, Loudness: -5.177 dB, Valence: 42.857142857142854\n",
      "143. con calma - Popularity: 79%, Loudness: -2.652 dB, Valence: 67.42034943473793\n",
      "144. drag me down - Popularity: 79%, Loudness: -5.672 dB, Valence: 61.15107913669065\n",
      "145. wow. - Popularity: 79%, Loudness: -7.359 dB, Valence: 39.876670092497434\n",
      "146. nothing breaks like a heart (feat. miley cyrus) - Popularity: 79%, Loudness: -5.844 dB, Valence: 25.077081192189105\n",
      "147. mask off - Popularity: 79%, Loudness: -8.795 dB, Valence: 28.879753340184998\n",
      "148. waiting for love - Popularity: 79%, Loudness: -3.863 dB, Valence: 63.00102774922919\n",
      "149. old town road - remix - Popularity: 79%, Loudness: -5.56 dB, Valence: 65.6731757451182\n",
      "150. like i can - Popularity: 79%, Loudness: -6.627 dB, Valence: 49.43473792394656\n",
      "151. sunflower - spider-man: into the spider-verse - Popularity: 79%, Loudness: -4.368 dB, Valence: 95.06680369989724\n",
      "152. on the floor - Popularity: 79%, Loudness: -5.194 dB, Valence: 59.095580678314484\n",
      "153. don't start now - Popularity: 79%, Loudness: -4.521 dB, Valence: 69.5786228160329\n",
      "154. how to save a life - Popularity: 79%, Loudness: -4.08 dB, Valence: 37.10174717368962\n",
      "155. the reason - Popularity: 79%, Loudness: -4.649 dB, Valence: 6.998972250770811\n",
      "156. candy shop - Popularity: 79%, Loudness: -7.961 dB, Valence: 77.5950668036999\n",
      "157. pink + white - Popularity: 79%, Loudness: -7.45 dB, Valence: 56.93730729701954\n",
      "158. too good at goodbyes - Popularity: 79%, Loudness: -8.237 dB, Valence: 48.92086330935252\n",
      "159. all the small things - Popularity: 79%, Loudness: -4.918 dB, Valence: 70.29804727646454\n",
      "160. maneater - Popularity: 79%, Loudness: -4.81 dB, Valence: 80.88386433710176\n",
      "161. can't feel my face - Popularity: 79%, Loudness: -5.526 dB, Valence: 59.91778006166495\n",
      "162. bring me to life - Popularity: 79%, Loudness: -3.188 dB, Valence: 30.421377183967113\n",
      "163. cake by the ocean - Popularity: 79%, Loudness: -5.446 dB, Valence: 92.08633093525181\n",
      "164. call me maybe - Popularity: 78%, Loudness: -6.548 dB, Valence: 67.83144912641316\n",
      "165. wolves - Popularity: 78%, Loudness: -4.614 dB, Valence: 31.44912641315519\n",
      "166. we can't stop - Popularity: 78%, Loudness: -5.794 dB, Valence: 49.743062692702985\n",
      "167. shower - Popularity: 78%, Loudness: -7.548 dB, Valence: 12.435765673175746\n",
      "168. it's my life - Popularity: 78%, Loudness: -4.063 dB, Valence: 55.909558067831455\n",
      "169. sure thing - Popularity: 78%, Loudness: -8.127 dB, Valence: 51.181911613566285\n",
      "170. faded - Popularity: 78%, Loudness: -5.085 dB, Valence: 16.34121274409044\n",
      "171. scream & shout - Popularity: 78%, Loudness: -6.849 dB, Valence: 51.49023638232272\n",
      "172. god is a woman - Popularity: 78%, Loudness: -5.934 dB, Valence: 27.543679342240495\n",
      "173. friends - Popularity: 78%, Loudness: -2.384 dB, Valence: 54.88180883864337\n",
      "174. temperature - Popularity: 78%, Loudness: -4.675 dB, Valence: 84.48098663926001\n",
      "175. kryptonite - Popularity: 78%, Loudness: -5.708 dB, Valence: 55.80678314491264\n",
      "176. stitches - Popularity: 78%, Loudness: -6.684 dB, Valence: 76.67009249743063\n",
      "177. complicated - Popularity: 78%, Loudness: -5.898 dB, Valence: 43.884892086330936\n",
      "178. hall of fame (feat. will.i.am) - Popularity: 78%, Loudness: -4.343 dB, Valence: 64.64542651593011\n",
      "179. don't - Popularity: 78%, Loudness: -5.556 dB, Valence: 19.424460431654676\n",
      "180. treasure - Popularity: 78%, Loudness: -5.28 dB, Valence: 96.30010277492292\n",
      "181. in my mind - Popularity: 78%, Loudness: -5.335 dB, Valence: 16.752312435765674\n",
      "182. 24k magic - Popularity: 78%, Loudness: -4.282 dB, Valence: 64.95375128468653\n",
      "183. i feel it coming - Popularity: 78%, Loudness: -5.946 dB, Valence: 60.123329907502566\n"
     ]
    }
   ],
   "source": [
    "# Query to sort songs by popularity in descending order and limit by top 10% count\n",
    "top_10_percent_songs = list(\n",
    "    songs.find({}, {\"song\": 1, \"popularity\": 1, \"loudness\": 1, \"valence\": 1})  # Include loudness and valence\n",
    "    .sort(\"popularity\", -1)  # Sort by popularity in descending order\n",
    "    .limit(top_10_percent_count)  # Limit the results to the top 10% of songs\n",
    ")\n",
    "\n",
    "# Output the top 10% songs\n",
    "print(\"Top 10% of songs by popularity (ordered by popularity descending):\")\n",
    "for i, song in enumerate(top_10_percent_songs, start=1):\n",
    "    print(f\"{i}. {song['song']} - Popularity: {song['popularity']}%, Loudness: {song['loudness']} dB, Valence: {song['valence']}\")\n"
   ]
  },
  {
   "cell_type": "code",
   "execution_count": 76,
   "metadata": {},
   "outputs": [
    {
     "data": {
      "text/plain": [
       "183"
      ]
     },
     "execution_count": 76,
     "metadata": {},
     "output_type": "execute_result"
    }
   ],
   "source": [
    "# Calculate the number of songs to include in the bottom 10%\n",
    "bottom_10_percent_count = int(total_songs * 0.1)\n",
    "bottom_10_percent_count"
   ]
  },
  {
   "cell_type": "code",
   "execution_count": 77,
   "metadata": {},
   "outputs": [
    {
     "name": "stdout",
     "output_type": "stream",
     "text": [
      "Bottom 10% of songs by popularity (ordered by popularity ascending):\n",
      "1. stupid girls - Popularity: 0%, Loudness: -5.045 dB, Valence: 58.17060637204522\n",
      "2. man of the year - Popularity: 0%, Loudness: -5.234 dB, Valence: 40.184994861253855\n",
      "3. i want you to know - Popularity: 0%, Loudness: -2.215 dB, Valence: 38.54059609455293\n",
      "4. king - Popularity: 0%, Loudness: -4.125 dB, Valence: 47.893114080164445\n",
      "5. don't forget about us - radio edit - Popularity: 0%, Loudness: -6.816 dB, Valence: 39.67112024665982\n",
      "6. team - Popularity: 0%, Loudness: -7.444 dB, Valence: 43.884892086330936\n",
      "7. ai se eu te pego - live - Popularity: 0%, Loudness: -4.55 dB, Valence: 87.35868448098664\n",
      "8. there's nothing holdin' me back - Popularity: 0%, Loudness: -4.035 dB, Valence: 99.28057553956835\n",
      "9. hurts so good - Popularity: 0%, Loudness: -5.008 dB, Valence: 38.951695786228164\n",
      "10. sugar - Popularity: 0%, Loudness: -7.077 dB, Valence: 90.95580678314492\n",
      "11. bottoms up (feat. nicki minaj) - Popularity: 0%, Loudness: -5.283 dB, Valence: 33.81294964028777\n",
      "12. live while we're young - Popularity: 0%, Loudness: -2.063 dB, Valence: 96.19732785200412\n",
      "13. luv - Popularity: 0%, Loudness: -8.128 dB, Valence: 25.38540596094553\n",
      "14. despacito (featuring daddy yankee) - Popularity: 0%, Loudness: -4.757 dB, Valence: 86.9475847893114\n",
      "15. attention - Popularity: 0%, Loudness: -4.432 dB, Valence: 79.85611510791367\n",
      "16. 212 - Popularity: 0%, Loudness: -5.761 dB, Valence: 64.33710174717369\n",
      "17. geronimo - Popularity: 0%, Loudness: -6.275 dB, Valence: 44.91264131551901\n",
      "18. it's like that - Popularity: 0%, Loudness: -4.875 dB, Valence: 85.91983556012333\n",
      "19. friends (with bloodpop®) - Popularity: 0%, Loudness: -5.35 dB, Valence: 66.70092497430628\n",
      "20. wasted - Popularity: 0%, Loudness: -5.595 dB, Valence: 38.54059609455293\n",
      "21. sex - Popularity: 0%, Loudness: -5.825 dB, Valence: 21.479958890030833\n",
      "22. everytime we touch - radio edit - Popularity: 0%, Loudness: -5.369 dB, Valence: 50.668036998972255\n",
      "23. never be like you - Popularity: 0%, Loudness: -5.436 dB, Valence: 25.488180883864338\n",
      "24. ophelia - Popularity: 0%, Loudness: -6.429 dB, Valence: 63.82322713257965\n",
      "25. him & i - Popularity: 0%, Loudness: -6.343 dB, Valence: 19.630010277492293\n",
      "26. black skinhead - Popularity: 0%, Loudness: -6.107 dB, Valence: 29.08530318602261\n",
      "27. symphony (feat. zara larsson) - Popularity: 0%, Loudness: -4.699 dB, Valence: 51.07913669064749\n",
      "28. reggaetón lento (remix) - Popularity: 0%, Loudness: -3.079 dB, Valence: 66.90647482014388\n",
      "29. #selfie - original mix - Popularity: 0%, Loudness: -3.263 dB, Valence: 67.83144912641316\n",
      "30. dna. - Popularity: 0%, Loudness: -6.759 dB, Valence: 40.493319630010284\n",
      "31. dancing on my own - Popularity: 0%, Loudness: -4.663 dB, Valence: 26.82425488180884\n",
      "32. how to love - Popularity: 0%, Loudness: -6.093 dB, Valence: 27.954779033915727\n",
      "33. proper education - radio edit - Popularity: 0%, Loudness: -4.543 dB, Valence: 33.29907502569373\n",
      "34. unconditionally - Popularity: 0%, Loudness: -4.813 dB, Valence: 37.92394655704008\n",
      "35. cool for the summer - Popularity: 0%, Loudness: -5.593 dB, Valence: 32.785200411099694\n",
      "36. cold (feat. future) - Popularity: 0%, Loudness: -6.288 dB, Valence: 52.00411099691675\n",
      "37. point of view - radio edit - Popularity: 0%, Loudness: -6.854 dB, Valence: 28.263103802672152\n",
      "38. jealous - remix - Popularity: 0%, Loudness: -3.578 dB, Valence: 51.798561151079134\n",
      "39. dance again - Popularity: 0%, Loudness: -5.242 dB, Valence: 73.58684480986639\n",
      "40. love - Popularity: 0%, Loudness: -9.919 dB, Valence: 34.84069886947585\n",
      "41. here - Popularity: 0%, Loudness: -4.031 dB, Valence: 36.896197327852\n",
      "42. million voices - radio edit - Popularity: 0%, Loudness: -6.298 dB, Valence: 7.132579650565263\n",
      "43. battle scars (feat. lupe fiasco) - Popularity: 0%, Loudness: -2.632 dB, Valence: 52.20966084275437\n",
      "44. good for you - Popularity: 0%, Loudness: -6.447 dB, Valence: 22.302158273381295\n",
      "45. this girl - kungs vs. cookin' on 3 burners - Popularity: 0%, Loudness: -4.684 dB, Valence: 51.49023638232272\n",
      "46. lush life - Popularity: 0%, Loudness: -2.86 dB, Valence: 81.08941418293936\n",
      "47. power trip (feat. miguel) - Popularity: 0%, Loudness: -7.054 dB, Valence: 47.79033915724564\n",
      "48. collard greens - Popularity: 0%, Loudness: -4.871 dB, Valence: 68.448098663926\n",
      "49. watch me (whip / nae nae) - Popularity: 0%, Loudness: -8.522 dB, Valence: 99.07502569373074\n",
      "50. solo dance - Popularity: 0%, Loudness: -2.396 dB, Valence: 36.99897225077081\n",
      "51. see you again - Popularity: 0%, Loudness: -5.098 dB, Valence: 82.32271325796506\n",
      "52. mercy - Popularity: 0%, Loudness: -4.882 dB, Valence: 39.3627954779034\n",
      "53. against all odds (take a look at me now) (feat. westlife) - Popularity: 0%, Loudness: -5.599 dB, Valence: 38.335046248715315\n",
      "54. on my mind - Popularity: 0%, Loudness: -6.607 dB, Valence: 76.2589928057554\n",
      "55. ain't it funny - Popularity: 0%, Loudness: -4.525 dB, Valence: 63.82322713257965\n",
      "56. jumpman - Popularity: 0%, Loudness: -7.448 dB, Valence: 67.2147995889003\n",
      "57. can't be tamed - Popularity: 0%, Loudness: -2.919 dB, Valence: 76.3617677286742\n",
      "58. life is a highway - Popularity: 0%, Loudness: -5.409 dB, Valence: 61.04830421377184\n",
      "59. no limit - Popularity: 0%, Loudness: -3.791 dB, Valence: 41.62384378211716\n",
      "60. more than you know - Popularity: 0%, Loudness: -4.989 dB, Valence: 54.88180883864337\n",
      "61. super bass - Popularity: 0%, Loudness: -4.339 dB, Valence: 68.75642343268244\n",
      "62. humble. - Popularity: 0%, Loudness: -6.779 dB, Valence: 43.4737923946557\n",
      "63. starboy - Popularity: 0%, Loudness: -7.028 dB, Valence: 54.98458376156218\n",
      "64. put your hands up for detroit - radio edit - Popularity: 0%, Loudness: -4.474 dB, Valence: 50.46248715313464\n",
      "65. up (feat. demi lovato) - Popularity: 0%, Loudness: -4.676 dB, Valence: 65.57040082219939\n",
      "66. body (feat. brando) - Popularity: 0%, Loudness: -4.399 dB, Valence: 59.815005138746145\n",
      "67. beat again - radio edit - Popularity: 0%, Loudness: -4.577 dB, Valence: 99.48612538540597\n",
      "68. we fly high - Popularity: 0%, Loudness: -6.564 dB, Valence: 49.64028776978417\n",
      "69. seek bromance - avicii’s vocal edit - Popularity: 0%, Loudness: -2.552 dB, Valence: 53.442959917780065\n",
      "70. good luck - Popularity: 0%, Loudness: -3.092 dB, Valence: 32.168550873586845\n",
      "71. butterfly effect - Popularity: 0%, Loudness: -6.865 dB, Valence: 18.705035971223023\n",
      "72. mr. saxobeat - Popularity: 0%, Loudness: -4.152 dB, Valence: 81.91161356628983\n",
      "73. look right through - mk vocal edit - Popularity: 0%, Loudness: -8.035 dB, Valence: 53.34018499486126\n",
      "74. break free - Popularity: 0%, Loudness: -5.324 dB, Valence: 29.18807810894142\n",
      "75. in the night - Popularity: 0%, Loudness: -4.94 dB, Valence: 52.00411099691675\n",
      "76. drowning (feat. kodak black) - Popularity: 0%, Loudness: -5.274 dB, Valence: 83.65878725590954\n",
      "77. u + ur hand - Popularity: 0%, Loudness: -3.688 dB, Valence: 91.05858170606372\n",
      "78. dangerous woman - Popularity: 0%, Loudness: -5.32 dB, Valence: 30.52415210688592\n",
      "79. love yourself - Popularity: 0%, Loudness: -9.828 dB, Valence: 52.92908530318603\n",
      "80. wings - Popularity: 0%, Loudness: -3.141 dB, Valence: 55.292908530318606\n",
      "81. danger! high voltage - soulchild radio mix - Popularity: 0%, Loudness: -4.722 dB, Valence: 52.517985611510795\n",
      "82. troublemaker (feat. flo rida) - Popularity: 0%, Loudness: -3.689 dB, Valence: 99.17780061664953\n",
      "83. side to side - Popularity: 0%, Loudness: -5.883 dB, Valence: 61.973278520041106\n",
      "84. weak - Popularity: 0%, Loudness: -4.518 dB, Valence: 69.6813977389517\n",
      "85. hotline bling - Popularity: 0%, Loudness: -8.094 dB, Valence: 55.39568345323741\n",
      "86. who knew - Popularity: 0%, Loudness: -4.569 dB, Valence: 47.276464542651595\n",
      "87. stole the show - Popularity: 0%, Loudness: -6.443 dB, Valence: 49.126413155190136\n",
      "88. one day / reckoning song (wankelmut remix) [radio edit] - Popularity: 0%, Loudness: -6.366 dB, Valence: 57.45118191161357\n",
      "89. can't believe it (feat. lil' wayne) - Popularity: 0%, Loudness: -8.869 dB, Valence: 7.769784172661871\n",
      "90. years - ラジオ・エディット - Popularity: 0%, Loudness: -6.245 dB, Valence: 33.19630010277492\n",
      "91. here's to never growing up - Popularity: 0%, Loudness: -3.084 dB, Valence: 73.58684480986639\n",
      "92. red lights - Popularity: 0%, Loudness: -4.783 dB, Valence: 56.01233299075026\n",
      "93. danza kuduro (feat. don omar) - Popularity: 0%, Loudness: -6.365 dB, Valence: 79.44501541623843\n",
      "94. 3005 - Popularity: 0%, Loudness: -6.542 dB, Valence: 67.93422404933197\n",
      "95. lust for life (with the weeknd) - Popularity: 0%, Loudness: -8.618 dB, Valence: 30.318602261048305\n",
      "96. papaoutai - Popularity: 0%, Loudness: -7.222 dB, Valence: 26.002055498458375\n",
      "97. work b**ch - Popularity: 0%, Loudness: -6.535 dB, Valence: 87.35868448098664\n",
      "98. what you know - Popularity: 0%, Loudness: -4.003 dB, Valence: 86.43371017471738\n",
      "99. cold water (feat. justin bieber & mø) - Popularity: 0%, Loudness: -5.092 dB, Valence: 51.49023638232272\n",
      "100. rock the boat - Popularity: 0%, Loudness: -5.209 dB, Valence: 42.959917780061666\n",
      "101. i'm in control - Popularity: 0%, Loudness: -3.713 dB, Valence: 69.16752312435767\n",
      "102. bonfire heart - Popularity: 0%, Loudness: -5.7 dB, Valence: 46.14594039054471\n",
      "103. perfect strangers - Popularity: 0%, Loudness: -5.307 dB, Valence: 72.86742034943472\n",
      "104. c'mon - Popularity: 0%, Loudness: -5.448 dB, Valence: 29.393627954779035\n",
      "105. shotta flow (feat. blueface) [remix] - Popularity: 0%, Loudness: -4.768 dB, Valence: 58.37615621788284\n",
      "106. go let it out - Popularity: 0%, Loudness: -5.631 dB, Valence: 64.5426515930113\n",
      "107. cool girl - Popularity: 0%, Loudness: -7.042 dB, Valence: 24.04933196300103\n",
      "108. middle - Popularity: 0%, Loudness: -5.331 dB, Valence: 21.891058581706062\n",
      "109. maps - Popularity: 0%, Loudness: -5.51 dB, Valence: 91.77800616649537\n",
      "110. oblivion - Popularity: 0%, Loudness: -8.838 dB, Valence: 49.9486125385406\n",
      "111. fine china - Popularity: 0%, Loudness: -4.758 dB, Valence: 62.589928057553955\n",
      "112. clarity - Popularity: 0%, Loudness: -3.464 dB, Valence: 19.83556012332991\n",
      "113. valerie (feat. amy winehouse) - version revisited - Popularity: 0%, Loudness: -4.789 dB, Valence: 92.08633093525181\n",
      "114. animals - radio edit - Popularity: 0%, Loudness: -5.351 dB, Valence: 3.9157245632065782\n",
      "115. wrapped up (feat. travie mccoy) - Popularity: 0%, Loudness: -4.696 dB, Valence: 97.327852004111\n",
      "116. i don’t wanna live forever (fifty shades darker) - from \"fifty shades darker (original motion picture soundtrack)\" - Popularity: 0%, Loudness: -8.374 dB, Valence: 8.859198355601233\n",
      "117. safe and sound - Popularity: 0%, Loudness: -4.829 dB, Valence: 85.91983556012333\n",
      "118. electric love - Popularity: 0%, Loudness: -6.536 dB, Valence: 62.17882836587872\n",
      "119. romeo - Popularity: 0%, Loudness: -4.171 dB, Valence: 86.74203494347378\n",
      "120. rumour has it - Popularity: 0%, Loudness: -5.014 dB, Valence: 58.992805755395686\n",
      "121. touch my body - Popularity: 0%, Loudness: -7.736 dB, Valence: 86.33093525179856\n",
      "122. thunder - Popularity: 1%, Loudness: -4.749 dB, Valence: 30.62692702980473\n",
      "123. black magic - Popularity: 1%, Loudness: -4.467 dB, Valence: 86.63926002055499\n",
      "124. havana (feat. young thug) - Popularity: 1%, Loudness: -4.323 dB, Valence: 42.959917780061666\n",
      "125. me niego (feat. ozuna & wisin) - Popularity: 1%, Loudness: -4.449 dB, Valence: 78.9311408016444\n",
      "126. infinity 2008 - Popularity: 1%, Loudness: -6.139 dB, Valence: 49.64028776978417\n",
      "127. 6 foot 7 foot - Popularity: 1%, Loudness: -5.429 dB, Valence: 62.28160328879754\n",
      "128. we no speak americano (jt radio edit) - Popularity: 1%, Loudness: -5.005 dB, Valence: 75.74511819116135\n",
      "129. flex (ooh, ooh, ooh) - Popularity: 1%, Loudness: -7.534 dB, Valence: 90.7502569373073\n",
      "130. no promises - Popularity: 1%, Loudness: -6.087 dB, Valence: 18.705035971223023\n",
      "131. easier - Popularity: 1%, Loudness: -5.604 dB, Valence: 63.51490236382323\n",
      "132. you don't know me - radio edit - Popularity: 1%, Loudness: -6.054 dB, Valence: 70.09249743062693\n",
      "133. turn off the light - Popularity: 1%, Loudness: -6.26 dB, Valence: 66.80369989722507\n",
      "134. strip that down - Popularity: 1%, Loudness: -5.595 dB, Valence: 54.162384378211726\n",
      "135. believer - Popularity: 1%, Loudness: -4.305 dB, Valence: 72.76464542651593\n",
      "136. sexy can i feat. yung berg - Popularity: 1%, Loudness: -6.007 dB, Valence: 95.16957862281605\n",
      "137. chasing pavements - Popularity: 1%, Loudness: -6.09 dB, Valence: 33.81294964028777\n",
      "138. fast car - Popularity: 1%, Loudness: -6.983 dB, Valence: 59.71223021582733\n",
      "139. l'amour toujours - Popularity: 1%, Loudness: -7.932 dB, Valence: 83.04213771839672\n",
      "140. kill this love - Popularity: 1%, Loudness: -4.141 dB, Valence: 59.60945529290853\n",
      "141. shout out to my ex - Popularity: 1%, Loudness: -4.061 dB, Valence: 82.21993833504625\n",
      "142. you raise me up - Popularity: 1%, Loudness: -6.596 dB, Valence: 17.67728674203494\n",
      "143. hello - Popularity: 1%, Loudness: -6.129 dB, Valence: 29.701952723535456\n",
      "144. paper planes - Popularity: 1%, Loudness: -6.175 dB, Valence: 49.84583761562179\n",
      "145. sit still, look pretty - Popularity: 1%, Loudness: -4.081 dB, Valence: 55.80678314491264\n",
      "146. i'm like a bird - Popularity: 1%, Loudness: -5.085 dB, Valence: 62.38437821171634\n",
      "147. get up (rattle) - vocal edit - Popularity: 1%, Loudness: -2.69 dB, Valence: 74.20349434737923\n",
      "148. goodbyes (feat. young thug) - Popularity: 1%, Loudness: -3.818 dB, Valence: 17.985611510791365\n",
      "149. that's my goal - Popularity: 1%, Loudness: -5.966 dB, Valence: 14.388489208633096\n",
      "150. thrift shop (feat. wanz) - Popularity: 1%, Loudness: -6.985 dB, Valence: 68.03699897225077\n",
      "151. i need a dollar - Popularity: 1%, Loudness: -7.116 dB, Valence: 98.35560123329907\n",
      "152. set fire to the rain - Popularity: 2%, Loudness: -3.882 dB, Valence: 45.734840698869476\n",
      "153. sail - Popularity: 2%, Loudness: -9.582 dB, Valence: 24.9743062692703\n",
      "154. buy u a drank (shawty snappin') (feat. yung joc) - Popularity: 2%, Loudness: -8.137 dB, Valence: 61.04830421377184\n",
      "155. intro - Popularity: 2%, Loudness: -8.871 dB, Valence: 15.621788283658788\n",
      "156. rolling in the deep - Popularity: 2%, Loudness: -5.114 dB, Valence: 52.10688591983556\n",
      "157. waves - robin schulz radio edit - Popularity: 2%, Loudness: -9.334 dB, Valence: 46.24871531346352\n",
      "158. unwritten - Popularity: 2%, Loudness: -6.333 dB, Valence: 64.64542651593011\n",
      "159. hey brother - Popularity: 2%, Loudness: -4.867 dB, Valence: 47.07091469681398\n",
      "160. luv u better - Popularity: 2%, Loudness: -3.9 dB, Valence: 74.10071942446042\n",
      "161. do you remember - Popularity: 2%, Loudness: -4.892 dB, Valence: 82.52826310380269\n",
      "162. i'm so tired... - Popularity: 2%, Loudness: -7.058 dB, Valence: 54.88180883864337\n",
      "163. seven nation army - Popularity: 3%, Loudness: -7.627 dB, Valence: 32.168550873586845\n",
      "164. down - Popularity: 3%, Loudness: -4.493 dB, Valence: 70.19527235354575\n",
      "165. into you - Popularity: 3%, Loudness: -5.948 dB, Valence: 38.026721479958894\n",
      "166. bartender (feat. akon) - Popularity: 3%, Loudness: -8.539 dB, Valence: 41.62384378211716\n",
      "167. baby, i'm back - Popularity: 4%, Loudness: -5.461 dB, Valence: 76.97841726618705\n",
      "168. so am i - Popularity: 4%, Loudness: -4.67 dB, Valence: 62.38437821171634\n",
      "169. do re mi - Popularity: 4%, Loudness: -6.35 dB, Valence: 17.471736896197328\n",
      "170. someone like you - Popularity: 4%, Loudness: -8.251 dB, Valence: 29.59917780061665\n",
      "171. wake me up - Popularity: 6%, Loudness: -5.697 dB, Valence: 66.08427543679343\n",
      "172. sweet but psycho - Popularity: 7%, Loudness: -4.724 dB, Valence: 64.5426515930113\n",
      "173. homemade dynamite - remix - Popularity: 8%, Loudness: -4.997 dB, Valence: 17.985611510791365\n",
      "174. gasolina - Popularity: 11%, Loudness: -6.499 dB, Valence: 77.38951695786228\n",
      "175. locked up - Popularity: 16%, Loudness: -4.475 dB, Valence: 36.38232271325796\n",
      "176. all time low - Popularity: 18%, Loudness: -5.022 dB, Valence: 80.47276464542652\n",
      "177. lonely - Popularity: 21%, Loudness: -7.88 dB, Valence: 63.61767728674204\n",
      "178. summer - Popularity: 21%, Loudness: -3.565 dB, Valence: 73.99794450154162\n",
      "179. hey baby - Popularity: 24%, Loudness: -3.557 dB, Valence: 76.67009249743063\n",
      "180. pop ya collar - radio edit - Popularity: 26%, Loudness: -3.944 dB, Valence: 89.00308324768757\n",
      "181. hella good - Popularity: 26%, Loudness: -3.954 dB, Valence: 86.74203494347378\n",
      "182. need u (100%) [feat. a*m*e] - radio edit - Popularity: 27%, Loudness: -5.705 dB, Valence: 48.201438848920866\n",
      "183. underneath it all - Popularity: 27%, Loudness: -4.822 dB, Valence: 86.22816032887975\n"
     ]
    }
   ],
   "source": [
    "# Query to sort songs by popularity in ascending order and limit by bottom 10% count\n",
    "bottom_10_percent_songs = list(\n",
    "    songs.find({}, {\"song\": 1, \"popularity\": 1, \"loudness\": 1, \"valence\": 1})  # Include loudness and valence\n",
    "    .sort(\"popularity\", 1)  # Sort by popularity in ascending order\n",
    "    .limit(bottom_10_percent_count)  # Limit the results to the bottom 10% of songs\n",
    ")\n",
    "\n",
    "# Output the bottom 10% songs\n",
    "print(\"Bottom 10% of songs by popularity (ordered by popularity ascending):\")\n",
    "for i, song in enumerate(bottom_10_percent_songs, start=1):\n",
    "    print(f\"{i}. {song['song']} - Popularity: {song['popularity']}%, Loudness: {song['loudness']} dB, Valence: {song['valence']}\")"
   ]
  },
  {
   "cell_type": "code",
   "execution_count": 78,
   "metadata": {},
   "outputs": [],
   "source": [
    "# Convert the top 10% of songs to a DataFrame\n",
    "top_songs_df = pd.DataFrame(top_10_percent_songs)"
   ]
  },
  {
   "cell_type": "markdown",
   "metadata": {},
   "source": [
    "- loudness: The overall loudness of a track in decibels (dB). Loudness values are averaged across the entire track and are useful for comparing relative loudness of tracks. Loudness is the quality of a sound that is the primary psychological correlate of physical strength (amplitude). Values typically range between -60 and 0 db.\n",
    "- valence: A measure from 0.0 to 1.0 describing the musical positiveness conveyed by a track. Tracks with high valence sound more positive (e.g. happy, cheerful, euphoric), while tracks with low valence sound more negative (e.g. sad, depressed, angry).\n"
   ]
  },
  {
   "cell_type": "code",
   "execution_count": 79,
   "metadata": {},
   "outputs": [
    {
     "data": {
      "application/vnd.plotly.v1+json": {
       "config": {
        "plotlyServerURL": "https://plot.ly"
       },
       "data": [
        {
         "hovertemplate": "<b>%{hovertext}</b><br><br>Loudness (dB)=%{x}<br>Valence (Positivity)=%{y}<br>popularity=%{marker.color}<extra></extra>",
         "hovertext": [
          "sweater weather",
          "another love",
          "without me",
          "wait a minute!",
          "the real slim shady",
          "perfect",
          "'till i collapse",
          "circles",
          "daddy issues",
          "locked out of heaven",
          "the nights",
          "lucid dreams",
          "no lie",
          "do i wanna know?",
          "the hills",
          "someone you loved",
          "why'd you only call me when you're high?",
          "shape of you",
          "one dance",
          "closer",
          "jocelyn flores",
          "something just like this",
          "the less i know the better",
          "in the end",
          "rockstar (feat. 21 savage)",
          "get lucky (feat. pharrell williams & nile rodgers) - radio edit",
          "stan",
          "stressed out",
          "goosebumps",
          "night changes",
          "happier",
          "pumped up kicks",
          "promiscuous",
          "treat you better",
          "payphone",
          "uptown funk (feat. bruno mars)",
          "classic",
          "hymn for the weekend",
          "paradise",
          "let me down slowly",
          "unforgettable",
          "sad!",
          "what makes you beautiful",
          "empire state of mind",
          "heartless",
          "shallow",
          "moonlight",
          "the next episode",
          "blank space",
          "hips don't lie (feat. wyclef jean)",
          "feel good inc.",
          "ni**as in paris",
          "ms. jackson",
          "toxic",
          "callaita",
          "sicko mode",
          "umbrella",
          "in da club",
          "story of my life",
          "baby",
          "god's plan",
          "yeah! (feat. lil jon & ludacris)",
          "can't hold us (feat. ray dalton)",
          "take me to church",
          "let me love you",
          "congratulations",
          "see you again (feat. charlie puth)",
          "numb",
          "demons",
          "xo tour llif3",
          "one kiss (with dua lipa)",
          "stereo hearts (feat. adam levine)",
          "little dark age",
          "ride it",
          "i like me better",
          "love the way you lie",
          "give me everything (feat. ne-yo, afrojack & nayer)",
          "thinking out loud",
          "say it right",
          "a sky full of stars",
          "teenagers",
          "silence",
          "all falls down",
          "only love can hurt like this",
          "ride",
          "natural",
          "call out my name",
          "all the stars (with sza)",
          "heathens",
          "timber (feat. ke$ha)",
          "riptide",
          "better now",
          "i gotta feeling",
          "viva la vida",
          "bad romance",
          "stay with me",
          "sex on fire",
          "sorry",
          "the middle",
          "the way i are",
          "needed me",
          "earfquake",
          "high hopes",
          "dynamite",
          "tik tok",
          "ric flair drip (with metro boomin)",
          "whatever it takes",
          "time of our lives",
          "hold on",
          "can't stop",
          "low (feat. t-pain)",
          "centuries",
          "hey ya!",
          "love. feat. zacari.",
          2002,
          "this is what you came for (feat. rihanna)",
          "heart attack",
          "shake it off",
          "let you down",
          "tongue tied",
          "snow (hey oh)",
          "yes indeed",
          "steal my girl",
          "clocks",
          "don't let me down",
          "we don't talk anymore (feat. selena gomez)",
          "party in the u.s.a.",
          "dj got us fallin' in love (feat. pitbull)",
          "not afraid",
          "titanium (feat. sia)",
          "gimme more",
          "one last time",
          "feels (feat. pharrell williams, katy perry & big sean)",
          "happy - from \"despicable me 2\"",
          "forgot about dre",
          "still into you",
          "love you like a love song",
          "feel so close - radio edit",
          "sucker",
          "be alright",
          "i like it",
          "little talks",
          "con calma",
          "drag me down",
          "wow.",
          "nothing breaks like a heart (feat. miley cyrus)",
          "mask off",
          "waiting for love",
          "old town road - remix",
          "like i can",
          "sunflower - spider-man: into the spider-verse",
          "on the floor",
          "don't start now",
          "how to save a life",
          "the reason",
          "candy shop",
          "pink + white",
          "too good at goodbyes",
          "all the small things",
          "maneater",
          "can't feel my face",
          "bring me to life",
          "cake by the ocean",
          "call me maybe",
          "wolves",
          "we can't stop",
          "shower",
          "it's my life",
          "sure thing",
          "faded",
          "scream & shout",
          "god is a woman",
          "friends",
          "temperature",
          "kryptonite",
          "stitches",
          "complicated",
          "hall of fame (feat. will.i.am)",
          "don't",
          "treasure",
          "in my mind",
          "24k magic",
          "i feel it coming"
         ],
         "legendgroup": "",
         "marker": {
          "color": [
           89,
           88,
           87,
           86,
           86,
           85,
           85,
           85,
           85,
           85,
           85,
           84,
           84,
           84,
           84,
           84,
           84,
           84,
           84,
           83,
           83,
           83,
           83,
           83,
           83,
           83,
           83,
           83,
           83,
           83,
           82,
           82,
           82,
           82,
           82,
           82,
           82,
           82,
           82,
           82,
           82,
           82,
           82,
           82,
           82,
           82,
           82,
           82,
           82,
           82,
           82,
           82,
           82,
           81,
           81,
           81,
           81,
           81,
           81,
           81,
           81,
           81,
           81,
           81,
           81,
           81,
           81,
           81,
           81,
           81,
           81,
           81,
           81,
           81,
           81,
           81,
           81,
           81,
           81,
           80,
           80,
           80,
           80,
           80,
           80,
           80,
           80,
           80,
           80,
           80,
           80,
           80,
           80,
           80,
           80,
           80,
           80,
           80,
           80,
           80,
           80,
           80,
           80,
           80,
           80,
           80,
           80,
           80,
           80,
           80,
           80,
           80,
           80,
           80,
           80,
           79,
           79,
           79,
           79,
           79,
           79,
           79,
           79,
           79,
           79,
           79,
           79,
           79,
           79,
           79,
           79,
           79,
           79,
           79,
           79,
           79,
           79,
           79,
           79,
           79,
           79,
           79,
           79,
           79,
           79,
           79,
           79,
           79,
           79,
           79,
           79,
           79,
           79,
           79,
           79,
           79,
           79,
           79,
           79,
           79,
           79,
           79,
           79,
           78,
           78,
           78,
           78,
           78,
           78,
           78,
           78,
           78,
           78,
           78,
           78,
           78,
           78,
           78,
           78,
           78,
           78,
           78,
           78
          ],
          "coloraxis": "coloraxis",
          "size": [
           89,
           88,
           87,
           86,
           86,
           85,
           85,
           85,
           85,
           85,
           85,
           84,
           84,
           84,
           84,
           84,
           84,
           84,
           84,
           83,
           83,
           83,
           83,
           83,
           83,
           83,
           83,
           83,
           83,
           83,
           82,
           82,
           82,
           82,
           82,
           82,
           82,
           82,
           82,
           82,
           82,
           82,
           82,
           82,
           82,
           82,
           82,
           82,
           82,
           82,
           82,
           82,
           82,
           81,
           81,
           81,
           81,
           81,
           81,
           81,
           81,
           81,
           81,
           81,
           81,
           81,
           81,
           81,
           81,
           81,
           81,
           81,
           81,
           81,
           81,
           81,
           81,
           81,
           81,
           80,
           80,
           80,
           80,
           80,
           80,
           80,
           80,
           80,
           80,
           80,
           80,
           80,
           80,
           80,
           80,
           80,
           80,
           80,
           80,
           80,
           80,
           80,
           80,
           80,
           80,
           80,
           80,
           80,
           80,
           80,
           80,
           80,
           80,
           80,
           80,
           79,
           79,
           79,
           79,
           79,
           79,
           79,
           79,
           79,
           79,
           79,
           79,
           79,
           79,
           79,
           79,
           79,
           79,
           79,
           79,
           79,
           79,
           79,
           79,
           79,
           79,
           79,
           79,
           79,
           79,
           79,
           79,
           79,
           79,
           79,
           79,
           79,
           79,
           79,
           79,
           79,
           79,
           79,
           79,
           79,
           79,
           79,
           79,
           78,
           78,
           78,
           78,
           78,
           78,
           78,
           78,
           78,
           78,
           78,
           78,
           78,
           78,
           78,
           78,
           78,
           78,
           78,
           78
          ],
          "sizemode": "area",
          "sizeref": 0.2225,
          "symbol": "circle"
         },
         "mode": "markers",
         "name": "",
         "orientation": "v",
         "showlegend": false,
         "type": "scatter",
         "x": [
          -2.81,
          -8.532,
          -2.827,
          -5.279,
          -4.244,
          -6.312,
          -3.237,
          -3.497,
          -9.461,
          -4.165,
          -5.298,
          -7.23,
          -2.862,
          -7.596,
          -7.063,
          -5.679,
          -6.478,
          -3.183,
          -5.609,
          -5.599,
          -9.144,
          -6.769,
          -4.083,
          -5.87,
          -6.136,
          -8.966,
          -4.325,
          -5.677,
          -3.37,
          -7.747,
          -2.749,
          -5.849,
          -6.098,
          -4.078,
          -4.813,
          -7.223,
          -4.689,
          -6.487,
          -6.761,
          -5.714,
          -5.043,
          -4.88,
          -2.494,
          -1.538,
          -5.983,
          -6.362,
          -5.723,
          -2.429,
          -5.412,
          -5.892,
          -6.679,
          -5.542,
          -5.946,
          -3.914,
          -4.773,
          -3.714,
          -4.603,
          -2.752,
          -5.802,
          -5.237,
          -9.211,
          -4.699,
          -4.457,
          -5.303,
          -5.371,
          -4.183,
          -7.503,
          -4.153,
          -3.015,
          -6.366,
          -3.24,
          -3.293,
          -6.156,
          -4.258,
          -7.621,
          -5.034,
          -3.206,
          -6.061,
          -6.328,
          -6.474,
          -3.063,
          -3.093,
          -4.832,
          -4.528,
          -5.355,
          -6.112,
          -4.954,
          -4.946,
          -9.348,
          -4.087,
          -6.694,
          -5.804,
          -6.375,
          -7.115,
          -3.755,
          -6.444,
          -5.653,
          -3.669,
          -3.061,
          -6.492,
          -8.091,
          -8.866,
          -2.729,
          -3.724,
          -2.718,
          -8.28,
          -5.021,
          -5.797,
          -9.681,
          -3.442,
          -5.64,
          -2.868,
          -2.261,
          -7.343,
          -2.881,
          -2.787,
          -4.802,
          -5.384,
          -5.68,
          -5.835,
          -3.674,
          -9.309,
          -5.948,
          -7.215,
          -5.094,
          -8.053,
          -4.667,
          -3.398,
          -1.19,
          -3.674,
          -3.131,
          -5.036,
          -3.105,
          -4.662,
          -1.299,
          -3.763,
          -3.87,
          -2.842,
          -5.065,
          -6.319,
          -3.998,
          -5.177,
          -2.652,
          -5.672,
          -7.359,
          -5.844,
          -8.795,
          -3.863,
          -5.56,
          -6.627,
          -4.368,
          -5.194,
          -4.521,
          -4.08,
          -4.649,
          -7.961,
          -7.45,
          -8.237,
          -4.918,
          -4.81,
          -5.526,
          -3.188,
          -5.446,
          -6.548,
          -4.614,
          -5.794,
          -7.548,
          -4.063,
          -8.127,
          -5.085,
          -6.849,
          -5.934,
          -2.384,
          -4.675,
          -5.708,
          -6.684,
          -5.898,
          -4.343,
          -5.556,
          -5.28,
          -5.335,
          -4.282,
          -5.946
         ],
         "xaxis": "x",
         "y": [
          40.904419321685516,
          13.463514902363825,
          68.03699897225077,
          69.06474820143885,
          78.10894141829394,
          17.26618705035971,
          10.277492291880781,
          56.83453237410072,
          34.635149023638235,
          89.10585817060638,
          67.2147995889003,
          22.404933196300103,
          47.584789311408024,
          41.62384378211716,
          14.080164439876672,
          45.83761562178829,
          82.21993833504625,
          95.68345323741008,
          38.026721479958894,
          67.93422404933197,
          44.91264131551901,
          45.83761562178829,
          80.67831449126413,
          41.109969167523126,
          13.257965056526208,
          88.59198355601234,
          52.10688591983556,
          66.59815005138746,
          44.19321685508736,
          38.026721479958894,
          68.96197327852005,
          99.17780061664953,
          89.20863309352518,
          76.77286742034943,
          56.01233299075026,
          95.37512846865366,
          77.6978417266187,
          42.34326824254882,
          21.788283658787254,
          49.64028776978417,
          75.33401849948612,
          48.6125385405961,
          91.26413155190134,
          83.35046248715314,
          67.2147995889003,
          33.19630010277492,
          73.07297019527235,
          31.757451181911616,
          58.58170606372045,
          77.90339157245633,
          79.34224049331964,
          79.65056526207606,
          63.00102774922919,
          94.96402877697842,
          25.077081192189105,
          45.83761562178829,
          59.095580678314484,
          79.85611510791367,
          29.393627954779035,
          54.98458376156218,
          36.69064748201439,
          59.91778006166495,
          87.05035971223022,
          44.91264131551901,
          16.752312435765674,
          50.56526207605344,
          29.08530318602261,
          24.9743062692703,
          43.98766700924974,
          41.21274409044193,
          60.842754367934226,
          81.80883864337103,
          63.72045220966084,
          90.85303186022611,
          43.06269270298047,
          65.87872559095581,
          54.47070914696815,
          60.739979445015415,
          83.14491264131553,
          16.649537512846866,
          87.97533401849948,
          29.393627954779035,
          44.60431654676259,
          31.243576567317575,
          58.17060637204522,
          22.61048304213772,
          17.985611510791365,
          56.73175745118192,
          56.32065775950669,
          80.98663926002057,
          52.41521068859198,
          35.04624871531347,
          62.69270298047277,
          42.857142857142854,
          73.38129496402878,
          18.91058581706064,
          38.43782117163413,
          42.1377183967112,
          44.91264131551901,
          78.62281603288798,
          30.421377183967113,
          42.44604316546762,
          69.98972250770812,
          83.86433710174717,
          73.38129496402878,
          34.224049331963,
          57.14285714285715,
          74.40904419321686,
          17.163412127440907,
          89.92805755395685,
          31.243576567317575,
          57.553956834532386,
          99.17780061664953,
          80.06166495375129,
          61.973278520041106,
          47.79033915724564,
          51.59301130524152,
          96.81397738951696,
          47.68756423432683,
          38.1294964028777,
          61.56217882836587,
          57.759506680369995,
          56.01233299075026,
          26.20760534429599,
          43.37101747173689,
          36.17677286742035,
          48.30421377183967,
          67.2147995889003,
          68.65364850976363,
          30.935251798561154,
          39.260020554984585,
          10.688591983556012,
          89.61973278520041,
          98.86947584789311,
          63.82322713257965,
          78.62281603288798,
          94.75847893114081,
          94.45015416238438,
          97.84172661870504,
          45.52929085303186,
          66.80369989722507,
          42.857142857142854,
          67.42034943473793,
          61.15107913669065,
          39.876670092497434,
          25.077081192189105,
          28.879753340184998,
          63.00102774922919,
          65.6731757451182,
          49.43473792394656,
          95.06680369989724,
          59.095580678314484,
          69.5786228160329,
          37.10174717368962,
          6.998972250770811,
          77.5950668036999,
          56.93730729701954,
          48.92086330935252,
          70.29804727646454,
          80.88386433710176,
          59.91778006166495,
          30.421377183967113,
          92.08633093525181,
          67.83144912641316,
          31.44912641315519,
          49.743062692702985,
          12.435765673175746,
          55.909558067831455,
          51.181911613566285,
          16.34121274409044,
          51.49023638232272,
          27.543679342240495,
          54.88180883864337,
          84.48098663926001,
          55.80678314491264,
          76.67009249743063,
          43.884892086330936,
          64.64542651593011,
          19.424460431654676,
          96.30010277492292,
          16.752312435765674,
          64.95375128468653,
          60.123329907502566
         ],
         "yaxis": "y"
        }
       ],
       "layout": {
        "coloraxis": {
         "colorbar": {
          "title": {
           "text": "popularity"
          }
         },
         "colorscale": [
          [
           0,
           "rgb(247,252,245)"
          ],
          [
           0.125,
           "rgb(229,245,224)"
          ],
          [
           0.25,
           "rgb(199,233,192)"
          ],
          [
           0.375,
           "rgb(161,217,155)"
          ],
          [
           0.5,
           "rgb(116,196,118)"
          ],
          [
           0.625,
           "rgb(65,171,93)"
          ],
          [
           0.75,
           "rgb(35,139,69)"
          ],
          [
           0.875,
           "rgb(0,109,44)"
          ],
          [
           1,
           "rgb(0,68,27)"
          ]
         ]
        },
        "legend": {
         "itemsizing": "constant",
         "tracegroupgap": 0
        },
        "template": {
         "data": {
          "bar": [
           {
            "error_x": {
             "color": "#f2f5fa"
            },
            "error_y": {
             "color": "#f2f5fa"
            },
            "marker": {
             "line": {
              "color": "rgb(17,17,17)",
              "width": 0.5
             },
             "pattern": {
              "fillmode": "overlay",
              "size": 10,
              "solidity": 0.2
             }
            },
            "type": "bar"
           }
          ],
          "barpolar": [
           {
            "marker": {
             "line": {
              "color": "rgb(17,17,17)",
              "width": 0.5
             },
             "pattern": {
              "fillmode": "overlay",
              "size": 10,
              "solidity": 0.2
             }
            },
            "type": "barpolar"
           }
          ],
          "carpet": [
           {
            "aaxis": {
             "endlinecolor": "#A2B1C6",
             "gridcolor": "#506784",
             "linecolor": "#506784",
             "minorgridcolor": "#506784",
             "startlinecolor": "#A2B1C6"
            },
            "baxis": {
             "endlinecolor": "#A2B1C6",
             "gridcolor": "#506784",
             "linecolor": "#506784",
             "minorgridcolor": "#506784",
             "startlinecolor": "#A2B1C6"
            },
            "type": "carpet"
           }
          ],
          "choropleth": [
           {
            "colorbar": {
             "outlinewidth": 0,
             "ticks": ""
            },
            "type": "choropleth"
           }
          ],
          "contour": [
           {
            "colorbar": {
             "outlinewidth": 0,
             "ticks": ""
            },
            "colorscale": [
             [
              0,
              "#0d0887"
             ],
             [
              0.1111111111111111,
              "#46039f"
             ],
             [
              0.2222222222222222,
              "#7201a8"
             ],
             [
              0.3333333333333333,
              "#9c179e"
             ],
             [
              0.4444444444444444,
              "#bd3786"
             ],
             [
              0.5555555555555556,
              "#d8576b"
             ],
             [
              0.6666666666666666,
              "#ed7953"
             ],
             [
              0.7777777777777778,
              "#fb9f3a"
             ],
             [
              0.8888888888888888,
              "#fdca26"
             ],
             [
              1,
              "#f0f921"
             ]
            ],
            "type": "contour"
           }
          ],
          "contourcarpet": [
           {
            "colorbar": {
             "outlinewidth": 0,
             "ticks": ""
            },
            "type": "contourcarpet"
           }
          ],
          "heatmap": [
           {
            "colorbar": {
             "outlinewidth": 0,
             "ticks": ""
            },
            "colorscale": [
             [
              0,
              "#0d0887"
             ],
             [
              0.1111111111111111,
              "#46039f"
             ],
             [
              0.2222222222222222,
              "#7201a8"
             ],
             [
              0.3333333333333333,
              "#9c179e"
             ],
             [
              0.4444444444444444,
              "#bd3786"
             ],
             [
              0.5555555555555556,
              "#d8576b"
             ],
             [
              0.6666666666666666,
              "#ed7953"
             ],
             [
              0.7777777777777778,
              "#fb9f3a"
             ],
             [
              0.8888888888888888,
              "#fdca26"
             ],
             [
              1,
              "#f0f921"
             ]
            ],
            "type": "heatmap"
           }
          ],
          "heatmapgl": [
           {
            "colorbar": {
             "outlinewidth": 0,
             "ticks": ""
            },
            "colorscale": [
             [
              0,
              "#0d0887"
             ],
             [
              0.1111111111111111,
              "#46039f"
             ],
             [
              0.2222222222222222,
              "#7201a8"
             ],
             [
              0.3333333333333333,
              "#9c179e"
             ],
             [
              0.4444444444444444,
              "#bd3786"
             ],
             [
              0.5555555555555556,
              "#d8576b"
             ],
             [
              0.6666666666666666,
              "#ed7953"
             ],
             [
              0.7777777777777778,
              "#fb9f3a"
             ],
             [
              0.8888888888888888,
              "#fdca26"
             ],
             [
              1,
              "#f0f921"
             ]
            ],
            "type": "heatmapgl"
           }
          ],
          "histogram": [
           {
            "marker": {
             "pattern": {
              "fillmode": "overlay",
              "size": 10,
              "solidity": 0.2
             }
            },
            "type": "histogram"
           }
          ],
          "histogram2d": [
           {
            "colorbar": {
             "outlinewidth": 0,
             "ticks": ""
            },
            "colorscale": [
             [
              0,
              "#0d0887"
             ],
             [
              0.1111111111111111,
              "#46039f"
             ],
             [
              0.2222222222222222,
              "#7201a8"
             ],
             [
              0.3333333333333333,
              "#9c179e"
             ],
             [
              0.4444444444444444,
              "#bd3786"
             ],
             [
              0.5555555555555556,
              "#d8576b"
             ],
             [
              0.6666666666666666,
              "#ed7953"
             ],
             [
              0.7777777777777778,
              "#fb9f3a"
             ],
             [
              0.8888888888888888,
              "#fdca26"
             ],
             [
              1,
              "#f0f921"
             ]
            ],
            "type": "histogram2d"
           }
          ],
          "histogram2dcontour": [
           {
            "colorbar": {
             "outlinewidth": 0,
             "ticks": ""
            },
            "colorscale": [
             [
              0,
              "#0d0887"
             ],
             [
              0.1111111111111111,
              "#46039f"
             ],
             [
              0.2222222222222222,
              "#7201a8"
             ],
             [
              0.3333333333333333,
              "#9c179e"
             ],
             [
              0.4444444444444444,
              "#bd3786"
             ],
             [
              0.5555555555555556,
              "#d8576b"
             ],
             [
              0.6666666666666666,
              "#ed7953"
             ],
             [
              0.7777777777777778,
              "#fb9f3a"
             ],
             [
              0.8888888888888888,
              "#fdca26"
             ],
             [
              1,
              "#f0f921"
             ]
            ],
            "type": "histogram2dcontour"
           }
          ],
          "mesh3d": [
           {
            "colorbar": {
             "outlinewidth": 0,
             "ticks": ""
            },
            "type": "mesh3d"
           }
          ],
          "parcoords": [
           {
            "line": {
             "colorbar": {
              "outlinewidth": 0,
              "ticks": ""
             }
            },
            "type": "parcoords"
           }
          ],
          "pie": [
           {
            "automargin": true,
            "type": "pie"
           }
          ],
          "scatter": [
           {
            "marker": {
             "line": {
              "color": "#283442"
             }
            },
            "type": "scatter"
           }
          ],
          "scatter3d": [
           {
            "line": {
             "colorbar": {
              "outlinewidth": 0,
              "ticks": ""
             }
            },
            "marker": {
             "colorbar": {
              "outlinewidth": 0,
              "ticks": ""
             }
            },
            "type": "scatter3d"
           }
          ],
          "scattercarpet": [
           {
            "marker": {
             "colorbar": {
              "outlinewidth": 0,
              "ticks": ""
             }
            },
            "type": "scattercarpet"
           }
          ],
          "scattergeo": [
           {
            "marker": {
             "colorbar": {
              "outlinewidth": 0,
              "ticks": ""
             }
            },
            "type": "scattergeo"
           }
          ],
          "scattergl": [
           {
            "marker": {
             "line": {
              "color": "#283442"
             }
            },
            "type": "scattergl"
           }
          ],
          "scattermapbox": [
           {
            "marker": {
             "colorbar": {
              "outlinewidth": 0,
              "ticks": ""
             }
            },
            "type": "scattermapbox"
           }
          ],
          "scatterpolar": [
           {
            "marker": {
             "colorbar": {
              "outlinewidth": 0,
              "ticks": ""
             }
            },
            "type": "scatterpolar"
           }
          ],
          "scatterpolargl": [
           {
            "marker": {
             "colorbar": {
              "outlinewidth": 0,
              "ticks": ""
             }
            },
            "type": "scatterpolargl"
           }
          ],
          "scatterternary": [
           {
            "marker": {
             "colorbar": {
              "outlinewidth": 0,
              "ticks": ""
             }
            },
            "type": "scatterternary"
           }
          ],
          "surface": [
           {
            "colorbar": {
             "outlinewidth": 0,
             "ticks": ""
            },
            "colorscale": [
             [
              0,
              "#0d0887"
             ],
             [
              0.1111111111111111,
              "#46039f"
             ],
             [
              0.2222222222222222,
              "#7201a8"
             ],
             [
              0.3333333333333333,
              "#9c179e"
             ],
             [
              0.4444444444444444,
              "#bd3786"
             ],
             [
              0.5555555555555556,
              "#d8576b"
             ],
             [
              0.6666666666666666,
              "#ed7953"
             ],
             [
              0.7777777777777778,
              "#fb9f3a"
             ],
             [
              0.8888888888888888,
              "#fdca26"
             ],
             [
              1,
              "#f0f921"
             ]
            ],
            "type": "surface"
           }
          ],
          "table": [
           {
            "cells": {
             "fill": {
              "color": "#506784"
             },
             "line": {
              "color": "rgb(17,17,17)"
             }
            },
            "header": {
             "fill": {
              "color": "#2a3f5f"
             },
             "line": {
              "color": "rgb(17,17,17)"
             }
            },
            "type": "table"
           }
          ]
         },
         "layout": {
          "annotationdefaults": {
           "arrowcolor": "#f2f5fa",
           "arrowhead": 0,
           "arrowwidth": 1
          },
          "autotypenumbers": "strict",
          "coloraxis": {
           "colorbar": {
            "outlinewidth": 0,
            "ticks": ""
           }
          },
          "colorscale": {
           "diverging": [
            [
             0,
             "#8e0152"
            ],
            [
             0.1,
             "#c51b7d"
            ],
            [
             0.2,
             "#de77ae"
            ],
            [
             0.3,
             "#f1b6da"
            ],
            [
             0.4,
             "#fde0ef"
            ],
            [
             0.5,
             "#f7f7f7"
            ],
            [
             0.6,
             "#e6f5d0"
            ],
            [
             0.7,
             "#b8e186"
            ],
            [
             0.8,
             "#7fbc41"
            ],
            [
             0.9,
             "#4d9221"
            ],
            [
             1,
             "#276419"
            ]
           ],
           "sequential": [
            [
             0,
             "#0d0887"
            ],
            [
             0.1111111111111111,
             "#46039f"
            ],
            [
             0.2222222222222222,
             "#7201a8"
            ],
            [
             0.3333333333333333,
             "#9c179e"
            ],
            [
             0.4444444444444444,
             "#bd3786"
            ],
            [
             0.5555555555555556,
             "#d8576b"
            ],
            [
             0.6666666666666666,
             "#ed7953"
            ],
            [
             0.7777777777777778,
             "#fb9f3a"
            ],
            [
             0.8888888888888888,
             "#fdca26"
            ],
            [
             1,
             "#f0f921"
            ]
           ],
           "sequentialminus": [
            [
             0,
             "#0d0887"
            ],
            [
             0.1111111111111111,
             "#46039f"
            ],
            [
             0.2222222222222222,
             "#7201a8"
            ],
            [
             0.3333333333333333,
             "#9c179e"
            ],
            [
             0.4444444444444444,
             "#bd3786"
            ],
            [
             0.5555555555555556,
             "#d8576b"
            ],
            [
             0.6666666666666666,
             "#ed7953"
            ],
            [
             0.7777777777777778,
             "#fb9f3a"
            ],
            [
             0.8888888888888888,
             "#fdca26"
            ],
            [
             1,
             "#f0f921"
            ]
           ]
          },
          "colorway": [
           "#636efa",
           "#EF553B",
           "#00cc96",
           "#ab63fa",
           "#FFA15A",
           "#19d3f3",
           "#FF6692",
           "#B6E880",
           "#FF97FF",
           "#FECB52"
          ],
          "font": {
           "color": "#f2f5fa"
          },
          "geo": {
           "bgcolor": "rgb(17,17,17)",
           "lakecolor": "rgb(17,17,17)",
           "landcolor": "rgb(17,17,17)",
           "showlakes": true,
           "showland": true,
           "subunitcolor": "#506784"
          },
          "hoverlabel": {
           "align": "left"
          },
          "hovermode": "closest",
          "mapbox": {
           "style": "dark"
          },
          "paper_bgcolor": "rgb(17,17,17)",
          "plot_bgcolor": "rgb(17,17,17)",
          "polar": {
           "angularaxis": {
            "gridcolor": "#506784",
            "linecolor": "#506784",
            "ticks": ""
           },
           "bgcolor": "rgb(17,17,17)",
           "radialaxis": {
            "gridcolor": "#506784",
            "linecolor": "#506784",
            "ticks": ""
           }
          },
          "scene": {
           "xaxis": {
            "backgroundcolor": "rgb(17,17,17)",
            "gridcolor": "#506784",
            "gridwidth": 2,
            "linecolor": "#506784",
            "showbackground": true,
            "ticks": "",
            "zerolinecolor": "#C8D4E3"
           },
           "yaxis": {
            "backgroundcolor": "rgb(17,17,17)",
            "gridcolor": "#506784",
            "gridwidth": 2,
            "linecolor": "#506784",
            "showbackground": true,
            "ticks": "",
            "zerolinecolor": "#C8D4E3"
           },
           "zaxis": {
            "backgroundcolor": "rgb(17,17,17)",
            "gridcolor": "#506784",
            "gridwidth": 2,
            "linecolor": "#506784",
            "showbackground": true,
            "ticks": "",
            "zerolinecolor": "#C8D4E3"
           }
          },
          "shapedefaults": {
           "line": {
            "color": "#f2f5fa"
           }
          },
          "sliderdefaults": {
           "bgcolor": "#C8D4E3",
           "bordercolor": "rgb(17,17,17)",
           "borderwidth": 1,
           "tickwidth": 0
          },
          "ternary": {
           "aaxis": {
            "gridcolor": "#506784",
            "linecolor": "#506784",
            "ticks": ""
           },
           "baxis": {
            "gridcolor": "#506784",
            "linecolor": "#506784",
            "ticks": ""
           },
           "bgcolor": "rgb(17,17,17)",
           "caxis": {
            "gridcolor": "#506784",
            "linecolor": "#506784",
            "ticks": ""
           }
          },
          "title": {
           "x": 0.05
          },
          "updatemenudefaults": {
           "bgcolor": "#506784",
           "borderwidth": 0
          },
          "xaxis": {
           "automargin": true,
           "gridcolor": "#283442",
           "linecolor": "#506784",
           "ticks": "",
           "title": {
            "standoff": 15
           },
           "zerolinecolor": "#283442",
           "zerolinewidth": 2
          },
          "yaxis": {
           "automargin": true,
           "gridcolor": "#283442",
           "linecolor": "#506784",
           "ticks": "",
           "title": {
            "standoff": 15
           },
           "zerolinecolor": "#283442",
           "zerolinewidth": 2
          }
         }
        },
        "title": {
         "text": "Top 10% Most Popular Songs: Loudness vs Valence"
        },
        "xaxis": {
         "anchor": "y",
         "domain": [
          0,
          1
         ],
         "title": {
          "text": "Loudness (dB)"
         }
        },
        "yaxis": {
         "anchor": "x",
         "domain": [
          0,
          1
         ],
         "title": {
          "text": "Valence (Positivity)"
         }
        }
       }
      }
     },
     "metadata": {},
     "output_type": "display_data"
    }
   ],
   "source": [
    "# Plot for Top 10% songs\n",
    "fig_top = px.scatter(top_songs_df, x='loudness', y='valence', \n",
    "                     color='popularity', \n",
    "                     title=\"Top 10% Most Popular Songs: Loudness vs Valence\",\n",
    "                     labels={'loudness': 'Loudness (dB)', 'valence': 'Valence (Positivity)'},\n",
    "                     hover_name='song',  # Use the song title for hover text\n",
    "                     size='popularity',\n",
    "                     color_continuous_scale=px.colors.sequential.Greens,\n",
    "                     template='plotly_dark')\n",
    "\n",
    "# Show plot\n",
    "fig_top.show()"
   ]
  },
  {
   "cell_type": "code",
   "execution_count": 80,
   "metadata": {},
   "outputs": [],
   "source": [
    "# Convert the bottom 10% of songs to a DataFrame\n",
    "bottom_songs_df = pd.DataFrame(bottom_10_percent_songs)"
   ]
  },
  {
   "cell_type": "code",
   "execution_count": 82,
   "metadata": {},
   "outputs": [
    {
     "data": {
      "application/vnd.plotly.v1+json": {
       "config": {
        "plotlyServerURL": "https://plot.ly"
       },
       "data": [
        {
         "hovertemplate": "<b>%{hovertext}</b><br><br>Loudness (dB)=%{x}<br>Valence (Positivity)=%{y}<br>popularity=%{marker.color}<extra></extra>",
         "hovertext": [
          "stupid girls",
          "man of the year",
          "i want you to know",
          "king",
          "don't forget about us - radio edit",
          "team",
          "ai se eu te pego - live",
          "there's nothing holdin' me back",
          "hurts so good",
          "sugar",
          "bottoms up (feat. nicki minaj)",
          "live while we're young",
          "luv",
          "despacito (featuring daddy yankee)",
          "attention",
          212,
          "geronimo",
          "it's like that",
          "friends (with bloodpop®)",
          "wasted",
          "sex",
          "everytime we touch - radio edit",
          "never be like you",
          "ophelia",
          "him & i",
          "black skinhead",
          "symphony (feat. zara larsson)",
          "reggaetón lento (remix)",
          "#selfie - original mix",
          "dna.",
          "dancing on my own",
          "how to love",
          "proper education - radio edit",
          "unconditionally",
          "cool for the summer",
          "cold (feat. future)",
          "point of view - radio edit",
          "jealous - remix",
          "dance again",
          "love",
          "here",
          "million voices - radio edit",
          "battle scars (feat. lupe fiasco)",
          "good for you",
          "this girl - kungs vs. cookin' on 3 burners",
          "lush life",
          "power trip (feat. miguel)",
          "collard greens",
          "watch me (whip / nae nae)",
          "solo dance",
          "see you again",
          "mercy",
          "against all odds (take a look at me now) (feat. westlife)",
          "on my mind",
          "ain't it funny",
          "jumpman",
          "can't be tamed",
          "life is a highway",
          "no limit",
          "more than you know",
          "super bass",
          "humble.",
          "starboy",
          "put your hands up for detroit - radio edit",
          "up (feat. demi lovato)",
          "body (feat. brando)",
          "beat again - radio edit",
          "we fly high",
          "seek bromance - avicii’s vocal edit",
          "good luck",
          "butterfly effect",
          "mr. saxobeat",
          "look right through - mk vocal edit",
          "break free",
          "in the night",
          "drowning (feat. kodak black)",
          "u + ur hand",
          "dangerous woman",
          "love yourself",
          "wings",
          "danger! high voltage - soulchild radio mix",
          "troublemaker (feat. flo rida)",
          "side to side",
          "weak",
          "hotline bling",
          "who knew",
          "stole the show",
          "one day / reckoning song (wankelmut remix) [radio edit]",
          "can't believe it (feat. lil' wayne)",
          "years - ラジオ・エディット",
          "here's to never growing up",
          "red lights",
          "danza kuduro (feat. don omar)",
          3005,
          "lust for life (with the weeknd)",
          "papaoutai",
          "work b**ch",
          "what you know",
          "cold water (feat. justin bieber & mø)",
          "rock the boat",
          "i'm in control",
          "bonfire heart",
          "perfect strangers",
          "c'mon",
          "shotta flow (feat. blueface) [remix]",
          "go let it out",
          "cool girl",
          "middle",
          "maps",
          "oblivion",
          "fine china",
          "clarity",
          "valerie (feat. amy winehouse) - version revisited",
          "animals - radio edit",
          "wrapped up (feat. travie mccoy)",
          "i don’t wanna live forever (fifty shades darker) - from \"fifty shades darker (original motion picture soundtrack)\"",
          "safe and sound",
          "electric love",
          "romeo",
          "rumour has it",
          "touch my body",
          "thunder",
          "black magic",
          "havana (feat. young thug)",
          "me niego (feat. ozuna & wisin)",
          "infinity 2008",
          "6 foot 7 foot",
          "we no speak americano (jt radio edit)",
          "flex (ooh, ooh, ooh)",
          "no promises",
          "easier",
          "you don't know me - radio edit",
          "turn off the light",
          "strip that down",
          "believer",
          "sexy can i feat. yung berg",
          "chasing pavements",
          "fast car",
          "l'amour toujours",
          "kill this love",
          "shout out to my ex",
          "you raise me up",
          "hello",
          "paper planes",
          "sit still, look pretty",
          "i'm like a bird",
          "get up (rattle) - vocal edit",
          "goodbyes (feat. young thug)",
          "that's my goal",
          "thrift shop (feat. wanz)",
          "i need a dollar",
          "set fire to the rain",
          "sail",
          "buy u a drank (shawty snappin') (feat. yung joc)",
          "intro",
          "rolling in the deep",
          "waves - robin schulz radio edit",
          "unwritten",
          "hey brother",
          "luv u better",
          "do you remember",
          "i'm so tired...",
          "seven nation army",
          "down",
          "into you",
          "bartender (feat. akon)",
          "baby, i'm back",
          "so am i",
          "do re mi",
          "someone like you",
          "wake me up",
          "sweet but psycho",
          "homemade dynamite - remix",
          "gasolina",
          "locked up",
          "all time low",
          "lonely",
          "summer",
          "hey baby",
          "pop ya collar - radio edit",
          "hella good",
          "need u (100%) [feat. a*m*e] - radio edit",
          "underneath it all"
         ],
         "legendgroup": "",
         "marker": {
          "color": [
           0,
           0,
           0,
           0,
           0,
           0,
           0,
           0,
           0,
           0,
           0,
           0,
           0,
           0,
           0,
           0,
           0,
           0,
           0,
           0,
           0,
           0,
           0,
           0,
           0,
           0,
           0,
           0,
           0,
           0,
           0,
           0,
           0,
           0,
           0,
           0,
           0,
           0,
           0,
           0,
           0,
           0,
           0,
           0,
           0,
           0,
           0,
           0,
           0,
           0,
           0,
           0,
           0,
           0,
           0,
           0,
           0,
           0,
           0,
           0,
           0,
           0,
           0,
           0,
           0,
           0,
           0,
           0,
           0,
           0,
           0,
           0,
           0,
           0,
           0,
           0,
           0,
           0,
           0,
           0,
           0,
           0,
           0,
           0,
           0,
           0,
           0,
           0,
           0,
           0,
           0,
           0,
           0,
           0,
           0,
           0,
           0,
           0,
           0,
           0,
           0,
           0,
           0,
           0,
           0,
           0,
           0,
           0,
           0,
           0,
           0,
           0,
           0,
           0,
           0,
           0,
           0,
           0,
           0,
           0,
           0,
           1,
           1,
           1,
           1,
           1,
           1,
           1,
           1,
           1,
           1,
           1,
           1,
           1,
           1,
           1,
           1,
           1,
           1,
           1,
           1,
           1,
           1,
           1,
           1,
           1,
           1,
           1,
           1,
           1,
           1,
           2,
           2,
           2,
           2,
           2,
           2,
           2,
           2,
           2,
           2,
           2,
           3,
           3,
           3,
           3,
           4,
           4,
           4,
           4,
           6,
           7,
           8,
           11,
           16,
           18,
           21,
           21,
           24,
           26,
           26,
           27,
           27
          ],
          "coloraxis": "coloraxis",
          "size": [
           0,
           0,
           0,
           0,
           0,
           0,
           0,
           0,
           0,
           0,
           0,
           0,
           0,
           0,
           0,
           0,
           0,
           0,
           0,
           0,
           0,
           0,
           0,
           0,
           0,
           0,
           0,
           0,
           0,
           0,
           0,
           0,
           0,
           0,
           0,
           0,
           0,
           0,
           0,
           0,
           0,
           0,
           0,
           0,
           0,
           0,
           0,
           0,
           0,
           0,
           0,
           0,
           0,
           0,
           0,
           0,
           0,
           0,
           0,
           0,
           0,
           0,
           0,
           0,
           0,
           0,
           0,
           0,
           0,
           0,
           0,
           0,
           0,
           0,
           0,
           0,
           0,
           0,
           0,
           0,
           0,
           0,
           0,
           0,
           0,
           0,
           0,
           0,
           0,
           0,
           0,
           0,
           0,
           0,
           0,
           0,
           0,
           0,
           0,
           0,
           0,
           0,
           0,
           0,
           0,
           0,
           0,
           0,
           0,
           0,
           0,
           0,
           0,
           0,
           0,
           0,
           0,
           0,
           0,
           0,
           0,
           1,
           1,
           1,
           1,
           1,
           1,
           1,
           1,
           1,
           1,
           1,
           1,
           1,
           1,
           1,
           1,
           1,
           1,
           1,
           1,
           1,
           1,
           1,
           1,
           1,
           1,
           1,
           1,
           1,
           1,
           2,
           2,
           2,
           2,
           2,
           2,
           2,
           2,
           2,
           2,
           2,
           3,
           3,
           3,
           3,
           4,
           4,
           4,
           4,
           6,
           7,
           8,
           11,
           16,
           18,
           21,
           21,
           24,
           26,
           26,
           27,
           27
          ],
          "sizemode": "area",
          "sizeref": 0.0675,
          "symbol": "circle"
         },
         "mode": "markers",
         "name": "",
         "orientation": "v",
         "showlegend": false,
         "type": "scatter",
         "x": [
          -5.045,
          -5.234,
          -2.215,
          -4.125,
          -6.816,
          -7.444,
          -4.55,
          -4.035,
          -5.008,
          -7.077,
          -5.283,
          -2.063,
          -8.128,
          -4.757,
          -4.432,
          -5.761,
          -6.275,
          -4.875,
          -5.35,
          -5.595,
          -5.825,
          -5.369,
          -5.436,
          -6.429,
          -6.343,
          -6.107,
          -4.699,
          -3.079,
          -3.263,
          -6.759,
          -4.663,
          -6.093,
          -4.543,
          -4.813,
          -5.593,
          -6.288,
          -6.854,
          -3.578,
          -5.242,
          -9.919,
          -4.031,
          -6.298,
          -2.632,
          -6.447,
          -4.684,
          -2.86,
          -7.054,
          -4.871,
          -8.522,
          -2.396,
          -5.098,
          -4.882,
          -5.599,
          -6.607,
          -4.525,
          -7.448,
          -2.919,
          -5.409,
          -3.791,
          -4.989,
          -4.339,
          -6.779,
          -7.028,
          -4.474,
          -4.676,
          -4.399,
          -4.577,
          -6.564,
          -2.552,
          -3.092,
          -6.865,
          -4.152,
          -8.035,
          -5.324,
          -4.94,
          -5.274,
          -3.688,
          -5.32,
          -9.828,
          -3.141,
          -4.722,
          -3.689,
          -5.883,
          -4.518,
          -8.094,
          -4.569,
          -6.443,
          -6.366,
          -8.869,
          -6.245,
          -3.084,
          -4.783,
          -6.365,
          -6.542,
          -8.618,
          -7.222,
          -6.535,
          -4.003,
          -5.092,
          -5.209,
          -3.713,
          -5.7,
          -5.307,
          -5.448,
          -4.768,
          -5.631,
          -7.042,
          -5.331,
          -5.51,
          -8.838,
          -4.758,
          -3.464,
          -4.789,
          -5.351,
          -4.696,
          -8.374,
          -4.829,
          -6.536,
          -4.171,
          -5.014,
          -7.736,
          -4.749,
          -4.467,
          -4.323,
          -4.449,
          -6.139,
          -5.429,
          -5.005,
          -7.534,
          -6.087,
          -5.604,
          -6.054,
          -6.26,
          -5.595,
          -4.305,
          -6.007,
          -6.09,
          -6.983,
          -7.932,
          -4.141,
          -4.061,
          -6.596,
          -6.129,
          -6.175,
          -4.081,
          -5.085,
          -2.69,
          -3.818,
          -5.966,
          -6.985,
          -7.116,
          -3.882,
          -9.582,
          -8.137,
          -8.871,
          -5.114,
          -9.334,
          -6.333,
          -4.867,
          -3.9,
          -4.892,
          -7.058,
          -7.627,
          -4.493,
          -5.948,
          -8.539,
          -5.461,
          -4.67,
          -6.35,
          -8.251,
          -5.697,
          -4.724,
          -4.997,
          -6.499,
          -4.475,
          -5.022,
          -7.88,
          -3.565,
          -3.557,
          -3.944,
          -3.954,
          -5.705,
          -4.822
         ],
         "xaxis": "x",
         "y": [
          58.17060637204522,
          40.184994861253855,
          38.54059609455293,
          47.893114080164445,
          39.67112024665982,
          43.884892086330936,
          87.35868448098664,
          99.28057553956835,
          38.951695786228164,
          90.95580678314492,
          33.81294964028777,
          96.19732785200412,
          25.38540596094553,
          86.9475847893114,
          79.85611510791367,
          64.33710174717369,
          44.91264131551901,
          85.91983556012333,
          66.70092497430628,
          38.54059609455293,
          21.479958890030833,
          50.668036998972255,
          25.488180883864338,
          63.82322713257965,
          19.630010277492293,
          29.08530318602261,
          51.07913669064749,
          66.90647482014388,
          67.83144912641316,
          40.493319630010284,
          26.82425488180884,
          27.954779033915727,
          33.29907502569373,
          37.92394655704008,
          32.785200411099694,
          52.00411099691675,
          28.263103802672152,
          51.798561151079134,
          73.58684480986639,
          34.84069886947585,
          36.896197327852,
          7.132579650565263,
          52.20966084275437,
          22.302158273381295,
          51.49023638232272,
          81.08941418293936,
          47.79033915724564,
          68.448098663926,
          99.07502569373074,
          36.99897225077081,
          82.32271325796506,
          39.3627954779034,
          38.335046248715315,
          76.2589928057554,
          63.82322713257965,
          67.2147995889003,
          76.3617677286742,
          61.04830421377184,
          41.62384378211716,
          54.88180883864337,
          68.75642343268244,
          43.4737923946557,
          54.98458376156218,
          50.46248715313464,
          65.57040082219939,
          59.815005138746145,
          99.48612538540597,
          49.64028776978417,
          53.442959917780065,
          32.168550873586845,
          18.705035971223023,
          81.91161356628983,
          53.34018499486126,
          29.18807810894142,
          52.00411099691675,
          83.65878725590954,
          91.05858170606372,
          30.52415210688592,
          52.92908530318603,
          55.292908530318606,
          52.517985611510795,
          99.17780061664953,
          61.973278520041106,
          69.6813977389517,
          55.39568345323741,
          47.276464542651595,
          49.126413155190136,
          57.45118191161357,
          7.769784172661871,
          33.19630010277492,
          73.58684480986639,
          56.01233299075026,
          79.44501541623843,
          67.93422404933197,
          30.318602261048305,
          26.002055498458375,
          87.35868448098664,
          86.43371017471738,
          51.49023638232272,
          42.959917780061666,
          69.16752312435767,
          46.14594039054471,
          72.86742034943472,
          29.393627954779035,
          58.37615621788284,
          64.5426515930113,
          24.04933196300103,
          21.891058581706062,
          91.77800616649537,
          49.9486125385406,
          62.589928057553955,
          19.83556012332991,
          92.08633093525181,
          3.9157245632065782,
          97.327852004111,
          8.859198355601233,
          85.91983556012333,
          62.17882836587872,
          86.74203494347378,
          58.992805755395686,
          86.33093525179856,
          30.62692702980473,
          86.63926002055499,
          42.959917780061666,
          78.9311408016444,
          49.64028776978417,
          62.28160328879754,
          75.74511819116135,
          90.7502569373073,
          18.705035971223023,
          63.51490236382323,
          70.09249743062693,
          66.80369989722507,
          54.162384378211726,
          72.76464542651593,
          95.16957862281605,
          33.81294964028777,
          59.71223021582733,
          83.04213771839672,
          59.60945529290853,
          82.21993833504625,
          17.67728674203494,
          29.701952723535456,
          49.84583761562179,
          55.80678314491264,
          62.38437821171634,
          74.20349434737923,
          17.985611510791365,
          14.388489208633096,
          68.03699897225077,
          98.35560123329907,
          45.734840698869476,
          24.9743062692703,
          61.04830421377184,
          15.621788283658788,
          52.10688591983556,
          46.24871531346352,
          64.64542651593011,
          47.07091469681398,
          74.10071942446042,
          82.52826310380269,
          54.88180883864337,
          32.168550873586845,
          70.19527235354575,
          38.026721479958894,
          41.62384378211716,
          76.97841726618705,
          62.38437821171634,
          17.471736896197328,
          29.59917780061665,
          66.08427543679343,
          64.5426515930113,
          17.985611510791365,
          77.38951695786228,
          36.38232271325796,
          80.47276464542652,
          63.61767728674204,
          73.99794450154162,
          76.67009249743063,
          89.00308324768757,
          86.74203494347378,
          48.201438848920866,
          86.22816032887975
         ],
         "yaxis": "y"
        }
       ],
       "layout": {
        "coloraxis": {
         "colorbar": {
          "title": {
           "text": "popularity"
          }
         },
         "colorscale": [
          [
           0,
           "rgb(247,252,245)"
          ],
          [
           0.125,
           "rgb(229,245,224)"
          ],
          [
           0.25,
           "rgb(199,233,192)"
          ],
          [
           0.375,
           "rgb(161,217,155)"
          ],
          [
           0.5,
           "rgb(116,196,118)"
          ],
          [
           0.625,
           "rgb(65,171,93)"
          ],
          [
           0.75,
           "rgb(35,139,69)"
          ],
          [
           0.875,
           "rgb(0,109,44)"
          ],
          [
           1,
           "rgb(0,68,27)"
          ]
         ]
        },
        "legend": {
         "itemsizing": "constant",
         "tracegroupgap": 0
        },
        "template": {
         "data": {
          "bar": [
           {
            "error_x": {
             "color": "#f2f5fa"
            },
            "error_y": {
             "color": "#f2f5fa"
            },
            "marker": {
             "line": {
              "color": "rgb(17,17,17)",
              "width": 0.5
             },
             "pattern": {
              "fillmode": "overlay",
              "size": 10,
              "solidity": 0.2
             }
            },
            "type": "bar"
           }
          ],
          "barpolar": [
           {
            "marker": {
             "line": {
              "color": "rgb(17,17,17)",
              "width": 0.5
             },
             "pattern": {
              "fillmode": "overlay",
              "size": 10,
              "solidity": 0.2
             }
            },
            "type": "barpolar"
           }
          ],
          "carpet": [
           {
            "aaxis": {
             "endlinecolor": "#A2B1C6",
             "gridcolor": "#506784",
             "linecolor": "#506784",
             "minorgridcolor": "#506784",
             "startlinecolor": "#A2B1C6"
            },
            "baxis": {
             "endlinecolor": "#A2B1C6",
             "gridcolor": "#506784",
             "linecolor": "#506784",
             "minorgridcolor": "#506784",
             "startlinecolor": "#A2B1C6"
            },
            "type": "carpet"
           }
          ],
          "choropleth": [
           {
            "colorbar": {
             "outlinewidth": 0,
             "ticks": ""
            },
            "type": "choropleth"
           }
          ],
          "contour": [
           {
            "colorbar": {
             "outlinewidth": 0,
             "ticks": ""
            },
            "colorscale": [
             [
              0,
              "#0d0887"
             ],
             [
              0.1111111111111111,
              "#46039f"
             ],
             [
              0.2222222222222222,
              "#7201a8"
             ],
             [
              0.3333333333333333,
              "#9c179e"
             ],
             [
              0.4444444444444444,
              "#bd3786"
             ],
             [
              0.5555555555555556,
              "#d8576b"
             ],
             [
              0.6666666666666666,
              "#ed7953"
             ],
             [
              0.7777777777777778,
              "#fb9f3a"
             ],
             [
              0.8888888888888888,
              "#fdca26"
             ],
             [
              1,
              "#f0f921"
             ]
            ],
            "type": "contour"
           }
          ],
          "contourcarpet": [
           {
            "colorbar": {
             "outlinewidth": 0,
             "ticks": ""
            },
            "type": "contourcarpet"
           }
          ],
          "heatmap": [
           {
            "colorbar": {
             "outlinewidth": 0,
             "ticks": ""
            },
            "colorscale": [
             [
              0,
              "#0d0887"
             ],
             [
              0.1111111111111111,
              "#46039f"
             ],
             [
              0.2222222222222222,
              "#7201a8"
             ],
             [
              0.3333333333333333,
              "#9c179e"
             ],
             [
              0.4444444444444444,
              "#bd3786"
             ],
             [
              0.5555555555555556,
              "#d8576b"
             ],
             [
              0.6666666666666666,
              "#ed7953"
             ],
             [
              0.7777777777777778,
              "#fb9f3a"
             ],
             [
              0.8888888888888888,
              "#fdca26"
             ],
             [
              1,
              "#f0f921"
             ]
            ],
            "type": "heatmap"
           }
          ],
          "heatmapgl": [
           {
            "colorbar": {
             "outlinewidth": 0,
             "ticks": ""
            },
            "colorscale": [
             [
              0,
              "#0d0887"
             ],
             [
              0.1111111111111111,
              "#46039f"
             ],
             [
              0.2222222222222222,
              "#7201a8"
             ],
             [
              0.3333333333333333,
              "#9c179e"
             ],
             [
              0.4444444444444444,
              "#bd3786"
             ],
             [
              0.5555555555555556,
              "#d8576b"
             ],
             [
              0.6666666666666666,
              "#ed7953"
             ],
             [
              0.7777777777777778,
              "#fb9f3a"
             ],
             [
              0.8888888888888888,
              "#fdca26"
             ],
             [
              1,
              "#f0f921"
             ]
            ],
            "type": "heatmapgl"
           }
          ],
          "histogram": [
           {
            "marker": {
             "pattern": {
              "fillmode": "overlay",
              "size": 10,
              "solidity": 0.2
             }
            },
            "type": "histogram"
           }
          ],
          "histogram2d": [
           {
            "colorbar": {
             "outlinewidth": 0,
             "ticks": ""
            },
            "colorscale": [
             [
              0,
              "#0d0887"
             ],
             [
              0.1111111111111111,
              "#46039f"
             ],
             [
              0.2222222222222222,
              "#7201a8"
             ],
             [
              0.3333333333333333,
              "#9c179e"
             ],
             [
              0.4444444444444444,
              "#bd3786"
             ],
             [
              0.5555555555555556,
              "#d8576b"
             ],
             [
              0.6666666666666666,
              "#ed7953"
             ],
             [
              0.7777777777777778,
              "#fb9f3a"
             ],
             [
              0.8888888888888888,
              "#fdca26"
             ],
             [
              1,
              "#f0f921"
             ]
            ],
            "type": "histogram2d"
           }
          ],
          "histogram2dcontour": [
           {
            "colorbar": {
             "outlinewidth": 0,
             "ticks": ""
            },
            "colorscale": [
             [
              0,
              "#0d0887"
             ],
             [
              0.1111111111111111,
              "#46039f"
             ],
             [
              0.2222222222222222,
              "#7201a8"
             ],
             [
              0.3333333333333333,
              "#9c179e"
             ],
             [
              0.4444444444444444,
              "#bd3786"
             ],
             [
              0.5555555555555556,
              "#d8576b"
             ],
             [
              0.6666666666666666,
              "#ed7953"
             ],
             [
              0.7777777777777778,
              "#fb9f3a"
             ],
             [
              0.8888888888888888,
              "#fdca26"
             ],
             [
              1,
              "#f0f921"
             ]
            ],
            "type": "histogram2dcontour"
           }
          ],
          "mesh3d": [
           {
            "colorbar": {
             "outlinewidth": 0,
             "ticks": ""
            },
            "type": "mesh3d"
           }
          ],
          "parcoords": [
           {
            "line": {
             "colorbar": {
              "outlinewidth": 0,
              "ticks": ""
             }
            },
            "type": "parcoords"
           }
          ],
          "pie": [
           {
            "automargin": true,
            "type": "pie"
           }
          ],
          "scatter": [
           {
            "marker": {
             "line": {
              "color": "#283442"
             }
            },
            "type": "scatter"
           }
          ],
          "scatter3d": [
           {
            "line": {
             "colorbar": {
              "outlinewidth": 0,
              "ticks": ""
             }
            },
            "marker": {
             "colorbar": {
              "outlinewidth": 0,
              "ticks": ""
             }
            },
            "type": "scatter3d"
           }
          ],
          "scattercarpet": [
           {
            "marker": {
             "colorbar": {
              "outlinewidth": 0,
              "ticks": ""
             }
            },
            "type": "scattercarpet"
           }
          ],
          "scattergeo": [
           {
            "marker": {
             "colorbar": {
              "outlinewidth": 0,
              "ticks": ""
             }
            },
            "type": "scattergeo"
           }
          ],
          "scattergl": [
           {
            "marker": {
             "line": {
              "color": "#283442"
             }
            },
            "type": "scattergl"
           }
          ],
          "scattermapbox": [
           {
            "marker": {
             "colorbar": {
              "outlinewidth": 0,
              "ticks": ""
             }
            },
            "type": "scattermapbox"
           }
          ],
          "scatterpolar": [
           {
            "marker": {
             "colorbar": {
              "outlinewidth": 0,
              "ticks": ""
             }
            },
            "type": "scatterpolar"
           }
          ],
          "scatterpolargl": [
           {
            "marker": {
             "colorbar": {
              "outlinewidth": 0,
              "ticks": ""
             }
            },
            "type": "scatterpolargl"
           }
          ],
          "scatterternary": [
           {
            "marker": {
             "colorbar": {
              "outlinewidth": 0,
              "ticks": ""
             }
            },
            "type": "scatterternary"
           }
          ],
          "surface": [
           {
            "colorbar": {
             "outlinewidth": 0,
             "ticks": ""
            },
            "colorscale": [
             [
              0,
              "#0d0887"
             ],
             [
              0.1111111111111111,
              "#46039f"
             ],
             [
              0.2222222222222222,
              "#7201a8"
             ],
             [
              0.3333333333333333,
              "#9c179e"
             ],
             [
              0.4444444444444444,
              "#bd3786"
             ],
             [
              0.5555555555555556,
              "#d8576b"
             ],
             [
              0.6666666666666666,
              "#ed7953"
             ],
             [
              0.7777777777777778,
              "#fb9f3a"
             ],
             [
              0.8888888888888888,
              "#fdca26"
             ],
             [
              1,
              "#f0f921"
             ]
            ],
            "type": "surface"
           }
          ],
          "table": [
           {
            "cells": {
             "fill": {
              "color": "#506784"
             },
             "line": {
              "color": "rgb(17,17,17)"
             }
            },
            "header": {
             "fill": {
              "color": "#2a3f5f"
             },
             "line": {
              "color": "rgb(17,17,17)"
             }
            },
            "type": "table"
           }
          ]
         },
         "layout": {
          "annotationdefaults": {
           "arrowcolor": "#f2f5fa",
           "arrowhead": 0,
           "arrowwidth": 1
          },
          "autotypenumbers": "strict",
          "coloraxis": {
           "colorbar": {
            "outlinewidth": 0,
            "ticks": ""
           }
          },
          "colorscale": {
           "diverging": [
            [
             0,
             "#8e0152"
            ],
            [
             0.1,
             "#c51b7d"
            ],
            [
             0.2,
             "#de77ae"
            ],
            [
             0.3,
             "#f1b6da"
            ],
            [
             0.4,
             "#fde0ef"
            ],
            [
             0.5,
             "#f7f7f7"
            ],
            [
             0.6,
             "#e6f5d0"
            ],
            [
             0.7,
             "#b8e186"
            ],
            [
             0.8,
             "#7fbc41"
            ],
            [
             0.9,
             "#4d9221"
            ],
            [
             1,
             "#276419"
            ]
           ],
           "sequential": [
            [
             0,
             "#0d0887"
            ],
            [
             0.1111111111111111,
             "#46039f"
            ],
            [
             0.2222222222222222,
             "#7201a8"
            ],
            [
             0.3333333333333333,
             "#9c179e"
            ],
            [
             0.4444444444444444,
             "#bd3786"
            ],
            [
             0.5555555555555556,
             "#d8576b"
            ],
            [
             0.6666666666666666,
             "#ed7953"
            ],
            [
             0.7777777777777778,
             "#fb9f3a"
            ],
            [
             0.8888888888888888,
             "#fdca26"
            ],
            [
             1,
             "#f0f921"
            ]
           ],
           "sequentialminus": [
            [
             0,
             "#0d0887"
            ],
            [
             0.1111111111111111,
             "#46039f"
            ],
            [
             0.2222222222222222,
             "#7201a8"
            ],
            [
             0.3333333333333333,
             "#9c179e"
            ],
            [
             0.4444444444444444,
             "#bd3786"
            ],
            [
             0.5555555555555556,
             "#d8576b"
            ],
            [
             0.6666666666666666,
             "#ed7953"
            ],
            [
             0.7777777777777778,
             "#fb9f3a"
            ],
            [
             0.8888888888888888,
             "#fdca26"
            ],
            [
             1,
             "#f0f921"
            ]
           ]
          },
          "colorway": [
           "#636efa",
           "#EF553B",
           "#00cc96",
           "#ab63fa",
           "#FFA15A",
           "#19d3f3",
           "#FF6692",
           "#B6E880",
           "#FF97FF",
           "#FECB52"
          ],
          "font": {
           "color": "#f2f5fa"
          },
          "geo": {
           "bgcolor": "rgb(17,17,17)",
           "lakecolor": "rgb(17,17,17)",
           "landcolor": "rgb(17,17,17)",
           "showlakes": true,
           "showland": true,
           "subunitcolor": "#506784"
          },
          "hoverlabel": {
           "align": "left"
          },
          "hovermode": "closest",
          "mapbox": {
           "style": "dark"
          },
          "paper_bgcolor": "rgb(17,17,17)",
          "plot_bgcolor": "rgb(17,17,17)",
          "polar": {
           "angularaxis": {
            "gridcolor": "#506784",
            "linecolor": "#506784",
            "ticks": ""
           },
           "bgcolor": "rgb(17,17,17)",
           "radialaxis": {
            "gridcolor": "#506784",
            "linecolor": "#506784",
            "ticks": ""
           }
          },
          "scene": {
           "xaxis": {
            "backgroundcolor": "rgb(17,17,17)",
            "gridcolor": "#506784",
            "gridwidth": 2,
            "linecolor": "#506784",
            "showbackground": true,
            "ticks": "",
            "zerolinecolor": "#C8D4E3"
           },
           "yaxis": {
            "backgroundcolor": "rgb(17,17,17)",
            "gridcolor": "#506784",
            "gridwidth": 2,
            "linecolor": "#506784",
            "showbackground": true,
            "ticks": "",
            "zerolinecolor": "#C8D4E3"
           },
           "zaxis": {
            "backgroundcolor": "rgb(17,17,17)",
            "gridcolor": "#506784",
            "gridwidth": 2,
            "linecolor": "#506784",
            "showbackground": true,
            "ticks": "",
            "zerolinecolor": "#C8D4E3"
           }
          },
          "shapedefaults": {
           "line": {
            "color": "#f2f5fa"
           }
          },
          "sliderdefaults": {
           "bgcolor": "#C8D4E3",
           "bordercolor": "rgb(17,17,17)",
           "borderwidth": 1,
           "tickwidth": 0
          },
          "ternary": {
           "aaxis": {
            "gridcolor": "#506784",
            "linecolor": "#506784",
            "ticks": ""
           },
           "baxis": {
            "gridcolor": "#506784",
            "linecolor": "#506784",
            "ticks": ""
           },
           "bgcolor": "rgb(17,17,17)",
           "caxis": {
            "gridcolor": "#506784",
            "linecolor": "#506784",
            "ticks": ""
           }
          },
          "title": {
           "x": 0.05
          },
          "updatemenudefaults": {
           "bgcolor": "#506784",
           "borderwidth": 0
          },
          "xaxis": {
           "automargin": true,
           "gridcolor": "#283442",
           "linecolor": "#506784",
           "ticks": "",
           "title": {
            "standoff": 15
           },
           "zerolinecolor": "#283442",
           "zerolinewidth": 2
          },
          "yaxis": {
           "automargin": true,
           "gridcolor": "#283442",
           "linecolor": "#506784",
           "ticks": "",
           "title": {
            "standoff": 15
           },
           "zerolinecolor": "#283442",
           "zerolinewidth": 2
          }
         }
        },
        "title": {
         "text": "Bottom 10% Least Popular Songs: Loudness vs Valence"
        },
        "xaxis": {
         "anchor": "y",
         "domain": [
          0,
          1
         ],
         "title": {
          "text": "Loudness (dB)"
         }
        },
        "yaxis": {
         "anchor": "x",
         "domain": [
          0,
          1
         ],
         "title": {
          "text": "Valence (Positivity)"
         }
        }
       }
      }
     },
     "metadata": {},
     "output_type": "display_data"
    }
   ],
   "source": [
    "# Plot for Bottom 10% songs\n",
    "fig_bottom = px.scatter(bottom_songs_df, x='loudness', y='valence', \n",
    "                        color='popularity', \n",
    "                        title=\"Bottom 10% Least Popular Songs: Loudness vs Valence\",\n",
    "                        labels={'loudness': 'Loudness (dB)', 'valence': 'Valence (Positivity)'},\n",
    "                        hover_name='song',  # Use the song title for hover text\n",
    "                        size='popularity',\n",
    "                        color_continuous_scale=px.colors.sequential.Greens,\n",
    "                        template='plotly_dark')\n",
    "\n",
    "# Show plot\n",
    "fig_bottom.show()"
   ]
  },
  {
   "cell_type": "code",
   "execution_count": null,
   "metadata": {},
   "outputs": [],
   "source": []
  },
  {
   "cell_type": "code",
   "execution_count": null,
   "metadata": {},
   "outputs": [],
   "source": []
  },
  {
   "cell_type": "code",
   "execution_count": null,
   "metadata": {},
   "outputs": [],
   "source": []
  },
  {
   "cell_type": "code",
   "execution_count": null,
   "metadata": {},
   "outputs": [],
   "source": []
  }
 ],
 "metadata": {
  "kernelspec": {
   "display_name": "base",
   "language": "python",
   "name": "python3"
  },
  "language_info": {
   "codemirror_mode": {
    "name": "ipython",
    "version": 3
   },
   "file_extension": ".py",
   "mimetype": "text/x-python",
   "name": "python",
   "nbconvert_exporter": "python",
   "pygments_lexer": "ipython3",
   "version": "3.12.4"
  }
 },
 "nbformat": 4,
 "nbformat_minor": 2
}
